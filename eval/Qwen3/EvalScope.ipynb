{
 "cells": [
  {
   "cell_type": "markdown",
   "id": "5816370b",
   "metadata": {},
   "source": [
    "# 创建vLLM服务器"
   ]
  },
  {
   "cell_type": "markdown",
   "id": "9716be15",
   "metadata": {},
   "source": [
    "需要使用vllm部署一个OpenAI API接口的服务器"
   ]
  },
  {
   "cell_type": "markdown",
   "id": "9dba6505",
   "metadata": {},
   "source": [
    "# 执行测评"
   ]
  },
  {
   "cell_type": "markdown",
   "id": "68e905eb",
   "metadata": {},
   "source": [
    "使用`EvalScope`命令进行评测，直接在终端输入以下命令"
   ]
  },
  {
   "cell_type": "markdown",
   "id": "0e0f33a7",
   "metadata": {},
   "source": [
    "```bash\n",
    "evalscope eval \\\n",
    "  --model Qwen3-8B \\\n",
    "  --api-url http://localhost:8000/v1 \\\n",
    "  --api-key EMPTY \\\n",
    "  --eval-type service \\\n",
    "  --eval-batch-size 16 \\\n",
    "  --datasets iquiz \\\n",
    "  --work-dir outputs/Qwen3-8B\n",
    "```"
   ]
  },
  {
   "cell_type": "markdown",
   "id": "da5f1db9",
   "metadata": {},
   "source": [
    "# 使用OpenCompass评测后端"
   ]
  },
  {
   "cell_type": "markdown",
   "id": "67c47f2a",
   "metadata": {},
   "source": [
    "查看支持的数据集列表"
   ]
  },
  {
   "cell_type": "code",
   "execution_count": 1,
   "id": "1f17945c",
   "metadata": {},
   "outputs": [
    {
     "name": "stderr",
     "output_type": "stream",
     "text": [
      "/usr/local/miniconda3/envs/py310/lib/python3.10/site-packages/tqdm/auto.py:21: TqdmWarning: IProgress not found. Please update jupyter and ipywidgets. See https://ipywidgets.readthedocs.io/en/stable/user_install.html\n",
      "  from .autonotebook import tqdm as notebook_tqdm\n"
     ]
    },
    {
     "name": "stdout",
     "output_type": "stream",
     "text": [
      "INFO 06-03 06:51:41 [__init__.py:243] Automatically detected platform cuda.\n"
     ]
    },
    {
     "name": "stderr",
     "output_type": "stream",
     "text": [
      "2025-06-03 06:51:43,100\tINFO util.py:154 -- Missing packages: ['ipywidgets']. Run `pip install -U ipywidgets`, then restart the notebook server for rich notebook output.\n"
     ]
    },
    {
     "data": {
      "text/plain": [
       "['ocnli_fc',\n",
       " 'RTE',\n",
       " 'triviaqa',\n",
       " 'GaokaoBench',\n",
       " 'chid',\n",
       " 'cluewsc',\n",
       " 'humaneval',\n",
       " 'mmlu',\n",
       " 'BoolQ',\n",
       " 'ARC_e',\n",
       " 'C3',\n",
       " 'math',\n",
       " 'siqa',\n",
       " 'Xsum',\n",
       " 'cmb',\n",
       " 'CMRC',\n",
       " 'ARC_c',\n",
       " 'bustm',\n",
       " 'WSC',\n",
       " 'lambada',\n",
       " 'storycloze',\n",
       " 'eprstmt',\n",
       " 'AX_g',\n",
       " 'ocnli',\n",
       " 'mbpp',\n",
       " 'piqa',\n",
       " 'DRCD',\n",
       " 'lcsts',\n",
       " 'obqa',\n",
       " 'CB',\n",
       " 'cmnli',\n",
       " 'cmmlu',\n",
       " 'MultiRC',\n",
       " 'hellaswag',\n",
       " 'afqmc',\n",
       " 'gsm8k',\n",
       " 'agieval',\n",
       " 'COPA',\n",
       " 'race',\n",
       " 'WiC',\n",
       " 'AX_b',\n",
       " 'ReCoRD',\n",
       " 'csl',\n",
       " 'summedits',\n",
       " 'ceval',\n",
       " 'tnews',\n",
       " 'winogrande',\n",
       " 'PMMEval',\n",
       " 'strategyqa',\n",
       " 'nq']"
      ]
     },
     "execution_count": 1,
     "metadata": {},
     "output_type": "execute_result"
    }
   ],
   "source": [
    "from evalscope.backend.opencompass import OpenCompassBackendManager\n",
    "OpenCompassBackendManager.list_datasets()"
   ]
  },
  {
   "cell_type": "markdown",
   "id": "3bb4bca5",
   "metadata": {},
   "source": [
    "支持从 ModelScope 自动下载数据集，要启用此功能，请设置环境变量：\n",
    "```bash\n",
    "export DATASET_SOURCE=ModelScope\n",
    "```"
   ]
  },
  {
   "cell_type": "markdown",
   "id": "81cf4f59",
   "metadata": {},
   "source": [
    "配置文件\n",
    "参数说明:\n",
    "- eval_backend：默认值为 OpenCompass，表示使用 OpenCompass 评测后端\n",
    "- eval_config：字典，包含以下字段：\n",
    "    - datasets：列表，参考目前支持的数据集\n",
    "    - models：字典列表，每个字典必须包含以下字段：\n",
    "        - path：OpenAI API 请求模型名称。\n",
    "            - 若使用 vLLM 或 LMDeploy 部署模型，则设置为对应的 model ID；\n",
    "        - openai_api_base：OpenAI API 的URL。\n",
    "        - is_chat：布尔值，设置为 True 表示聊天模型，设置为 False 表示基础模型。\n",
    "        - key：模型 API 的 OpenAI API 密钥，默认值为 EMPTY。\n",
    "    - work_dir：字符串，保存评测结果、日志和摘要的目录。默认值为 outputs/default。\n",
    "    - limit： 可以是 int、float 或 str，例如 5、5.0 或 '[10:20]'。默认值为 None，表示运行所有示例。\n"
   ]
  },
  {
   "cell_type": "code",
   "execution_count": 17,
   "id": "62ed4da3",
   "metadata": {},
   "outputs": [],
   "source": [
    "task_cfg_dict = dict(\n",
    "    eval_backend='OpenCompass',\n",
    "    eval_config={\n",
    "        'datasets': [\"mmlu\", \"ceval\",'ARC_c', 'gsm8k'],\n",
    "        'models': [\n",
    "            {'path': 'Qwen3-8B', \n",
    "            'openai_api_base': 'http://127.0.0.1:8000/v1/chat/completions', \n",
    "            'is_chat': True,\n",
    "            'batch_size': 16\n",
    "            }\n",
    "        ],\n",
    "        'work_dir': 'outputs/qwen3_eval_result',\n",
    "        'limit': 10,\n",
    "        },\n",
    "    )"
   ]
  },
  {
   "cell_type": "code",
   "execution_count": 19,
   "id": "ef91e799",
   "metadata": {},
   "outputs": [
    {
     "name": "stderr",
     "output_type": "stream",
     "text": [
      "2025-06-03 07:38:10,258 - evalscope - INFO - Args: Task config is provided with dictionary type.\n",
      "2025-06-03 07:38:10,262 - evalscope - INFO - Check the OpenCompass environment: OK\n",
      "2025-06-03 07:38:10,263 - evalscope - INFO - Dump task config to ./outputs/20250603_073810/configs/task_config_51dccf.yaml\n",
      "2025-06-03 07:38:10,266 - evalscope - INFO - {\n",
      "    \"model\": \"DummyCustomModel\",\n",
      "    \"model_id\": \"dummy-model\",\n",
      "    \"model_args\": {},\n",
      "    \"model_task\": \"text_generation\",\n",
      "    \"template_type\": null,\n",
      "    \"chat_template\": null,\n",
      "    \"datasets\": [],\n",
      "    \"dataset_args\": {},\n",
      "    \"dataset_dir\": \"/root/.cache/modelscope/hub/datasets\",\n",
      "    \"dataset_hub\": \"modelscope\",\n",
      "    \"generation_config\": {},\n",
      "    \"eval_type\": \"custom\",\n",
      "    \"eval_backend\": \"OpenCompass\",\n",
      "    \"eval_config\": {\n",
      "        \"datasets\": [\n",
      "            \"mmlu\",\n",
      "            \"ceval\",\n",
      "            \"ARC_c\",\n",
      "            \"gsm8k\"\n",
      "        ],\n",
      "        \"models\": [\n",
      "            {\n",
      "                \"path\": \"Qwen3-8B\",\n",
      "                \"openai_api_base\": \"http://127.0.0.1:8000/v1/chat/completions\",\n",
      "                \"is_chat\": true,\n",
      "                \"batch_size\": 16,\n",
      "                \"abbr\": \"Qwen3-8B\"\n",
      "            }\n",
      "        ],\n",
      "        \"work_dir\": \"outputs/qwen3_eval_result\",\n",
      "        \"limit\": 10,\n",
      "        \"time_str\": \"20250603_073810\"\n",
      "    },\n",
      "    \"stage\": \"all\",\n",
      "    \"limit\": null,\n",
      "    \"eval_batch_size\": 1,\n",
      "    \"mem_cache\": false,\n",
      "    \"use_cache\": null,\n",
      "    \"work_dir\": \"./outputs/20250603_073810\",\n",
      "    \"outputs\": null,\n",
      "    \"ignore_errors\": false,\n",
      "    \"debug\": false,\n",
      "    \"dry_run\": false,\n",
      "    \"seed\": 42,\n",
      "    \"api_url\": null,\n",
      "    \"api_key\": \"EMPTY\",\n",
      "    \"timeout\": null,\n",
      "    \"stream\": false,\n",
      "    \"judge_strategy\": \"auto\",\n",
      "    \"judge_worker_num\": 1,\n",
      "    \"judge_model_args\": {}\n",
      "}\n",
      "2025-06-03 07:38:12,653 - evalscope - INFO - *** Run task with config: /tmp/tmpe5hm6d2b.py \n",
      "\n"
     ]
    },
    {
     "name": "stdout",
     "output_type": "stream",
     "text": [
      "06/03 07:38:13 - OpenCompass - \u001b[4m\u001b[97mINFO\u001b[0m - Current exp folder: outputs/qwen3_eval_result/20250603_073810\n",
      "06/03 07:38:20 - OpenCompass - \u001b[4m\u001b[97mINFO\u001b[0m - Partitioned into 111 tasks.\n"
     ]
    },
    {
     "name": "stderr",
     "output_type": "stream",
     "text": [
      "                                               \n",
      "                                               \n",
      "\u001b[A                                    "
     ]
    },
    {
     "name": "stdout",
     "output_type": "stream",
     "text": [
      "launch OpenICLInfer[Qwen3-8B/ARC-c] on CPU \n"
     ]
    },
    {
     "name": "stderr",
     "output_type": "stream",
     "text": [
      "                                               \n",
      "  5%|▌         | 6/111 [01:10<12:47,  7.31s/it]"
     ]
    },
    {
     "name": "stdout",
     "output_type": "stream",
     "text": [
      "launch OpenICLInfer[Qwen3-8B/ceval-computer_network] on CPU \n",
      "launch OpenICLInfer[Qwen3-8B/ceval-operating_system] on CPU \n"
     ]
    },
    {
     "name": "stderr",
     "output_type": "stream",
     "text": [
      "                                               \n",
      "  5%|▌         | 6/111 [01:11<12:47,  7.31s/it]"
     ]
    },
    {
     "name": "stdout",
     "output_type": "stream",
     "text": [
      "launch OpenICLInfer[Qwen3-8B/ceval-computer_architecture] on CPU \n",
      "06/03 07:38:38 - OpenCompass - \u001b[5m\u001b[4m\u001b[31mERROR\u001b[0m - /usr/local/miniconda3/envs/py310/lib/python3.10/site-packages/opencompass/runners/local.py - _launch - 236 - task OpenICLInfer[Qwen3-8B/ceval-computer_network] fail, see\n",
      "outputs/qwen3_eval_result/20250603_073810/logs/infer/Qwen3-8B/ceval-computer_network.out\n"
     ]
    },
    {
     "name": "stderr",
     "output_type": "stream",
     "text": [
      "                                               \n",
      "  5%|▌         | 6/111 [01:27<12:47,  7.31s/it]"
     ]
    },
    {
     "name": "stdout",
     "output_type": "stream",
     "text": [
      "launch OpenICLInfer[Qwen3-8B/ceval-college_programming] on CPU \n",
      "06/03 07:38:39 - OpenCompass - \u001b[5m\u001b[4m\u001b[31mERROR\u001b[0m - /usr/local/miniconda3/envs/py310/lib/python3.10/site-packages/opencompass/runners/local.py - _launch - 236 - task OpenICLInfer[Qwen3-8B/ceval-computer_architecture] fail, see\n",
      "outputs/qwen3_eval_result/20250603_073810/logs/infer/Qwen3-8B/ceval-computer_architecture.out\n"
     ]
    },
    {
     "name": "stderr",
     "output_type": "stream",
     "text": [
      "                                               \n",
      "  5%|▌         | 6/111 [01:29<12:47,  7.31s/it]"
     ]
    },
    {
     "name": "stdout",
     "output_type": "stream",
     "text": [
      "launch OpenICLInfer[Qwen3-8B/ceval-college_physics] on CPU \n",
      "06/03 07:38:40 - OpenCompass - \u001b[5m\u001b[4m\u001b[31mERROR\u001b[0m - /usr/local/miniconda3/envs/py310/lib/python3.10/site-packages/opencompass/runners/local.py - _launch - 236 - task OpenICLInfer[Qwen3-8B/ceval-operating_system] fail, see\n",
      "outputs/qwen3_eval_result/20250603_073810/logs/infer/Qwen3-8B/ceval-operating_system.out\n"
     ]
    },
    {
     "name": "stderr",
     "output_type": "stream",
     "text": [
      "                                               \n",
      "  5%|▌         | 6/111 [01:30<12:47,  7.31s/it]"
     ]
    },
    {
     "name": "stdout",
     "output_type": "stream",
     "text": [
      "launch OpenICLInfer[Qwen3-8B/ceval-college_chemistry] on CPU \n",
      "06/03 07:38:51 - OpenCompass - \u001b[5m\u001b[4m\u001b[31mERROR\u001b[0m - /usr/local/miniconda3/envs/py310/lib/python3.10/site-packages/opencompass/runners/local.py - _launch - 236 - task OpenICLInfer[Qwen3-8B/ceval-college_programming] fail, see\n",
      "outputs/qwen3_eval_result/20250603_073810/logs/infer/Qwen3-8B/ceval-college_programming.out\n"
     ]
    },
    {
     "name": "stderr",
     "output_type": "stream",
     "text": [
      "                                               \n",
      "  5%|▌         | 6/111 [01:41<12:47,  7.31s/it]"
     ]
    },
    {
     "name": "stdout",
     "output_type": "stream",
     "text": [
      "launch OpenICLInfer[Qwen3-8B/ceval-advanced_mathematics] on CPU \n",
      "06/03 07:38:55 - OpenCompass - \u001b[5m\u001b[4m\u001b[31mERROR\u001b[0m - /usr/local/miniconda3/envs/py310/lib/python3.10/site-packages/opencompass/runners/local.py - _launch - 236 - task OpenICLInfer[Qwen3-8B/ceval-college_physics] fail, see\n",
      "outputs/qwen3_eval_result/20250603_073810/logs/infer/Qwen3-8B/ceval-college_physics.out\n"
     ]
    },
    {
     "name": "stderr",
     "output_type": "stream",
     "text": [
      "                                               \n",
      "  5%|▌         | 6/111 [01:45<12:47,  7.31s/it]"
     ]
    },
    {
     "name": "stdout",
     "output_type": "stream",
     "text": [
      "launch OpenICLInfer[Qwen3-8B/ceval-probability_and_statistics] on CPU \n",
      "06/03 07:38:56 - OpenCompass - \u001b[5m\u001b[4m\u001b[31mERROR\u001b[0m - /usr/local/miniconda3/envs/py310/lib/python3.10/site-packages/opencompass/runners/local.py - _launch - 236 - task OpenICLInfer[Qwen3-8B/ceval-college_chemistry] fail, see\n",
      "outputs/qwen3_eval_result/20250603_073810/logs/infer/Qwen3-8B/ceval-college_chemistry.out\n"
     ]
    },
    {
     "name": "stderr",
     "output_type": "stream",
     "text": [
      "                                               \n",
      "  5%|▌         | 6/111 [01:46<12:47,  7.31s/it]"
     ]
    },
    {
     "name": "stdout",
     "output_type": "stream",
     "text": [
      "launch OpenICLInfer[Qwen3-8B/ceval-discrete_mathematics] on CPU \n"
     ]
    },
    {
     "name": "stderr",
     "output_type": "stream",
     "text": [
      "                                               \n",
      "  5%|▌         | 6/111 [01:54<12:47,  7.31s/it]"
     ]
    },
    {
     "name": "stdout",
     "output_type": "stream",
     "text": [
      "launch OpenICLInfer[Qwen3-8B/ceval-electrical_engineer] on CPU \n",
      "06/03 07:39:05 - OpenCompass - \u001b[5m\u001b[4m\u001b[31mERROR\u001b[0m - /usr/local/miniconda3/envs/py310/lib/python3.10/site-packages/opencompass/runners/local.py - _launch - 236 - task OpenICLInfer[Qwen3-8B/ceval-advanced_mathematics] fail, see\n",
      "outputs/qwen3_eval_result/20250603_073810/logs/infer/Qwen3-8B/ceval-advanced_mathematics.out\n"
     ]
    },
    {
     "name": "stderr",
     "output_type": "stream",
     "text": [
      "                                               \n",
      "  5%|▌         | 6/111 [01:55<12:47,  7.31s/it]"
     ]
    },
    {
     "name": "stdout",
     "output_type": "stream",
     "text": [
      "launch OpenICLInfer[Qwen3-8B/ceval-metrology_engineer] on CPU \n",
      "06/03 07:39:10 - OpenCompass - \u001b[5m\u001b[4m\u001b[31mERROR\u001b[0m - /usr/local/miniconda3/envs/py310/lib/python3.10/site-packages/opencompass/runners/local.py - _launch - 236 - task OpenICLInfer[Qwen3-8B/ceval-probability_and_statistics] fail, see\n",
      "outputs/qwen3_eval_result/20250603_073810/logs/infer/Qwen3-8B/ceval-probability_and_statistics.out\n"
     ]
    },
    {
     "name": "stderr",
     "output_type": "stream",
     "text": [
      "                                               \n",
      "  5%|▌         | 6/111 [02:00<12:47,  7.31s/it]"
     ]
    },
    {
     "name": "stdout",
     "output_type": "stream",
     "text": [
      "launch OpenICLInfer[Qwen3-8B/ceval-high_school_mathematics] on CPU \n",
      "06/03 07:39:10 - OpenCompass - \u001b[5m\u001b[4m\u001b[31mERROR\u001b[0m - /usr/local/miniconda3/envs/py310/lib/python3.10/site-packages/opencompass/runners/local.py - _launch - 236 - task OpenICLInfer[Qwen3-8B/ceval-discrete_mathematics] fail, see\n",
      "outputs/qwen3_eval_result/20250603_073810/logs/infer/Qwen3-8B/ceval-discrete_mathematics.out\n"
     ]
    },
    {
     "name": "stderr",
     "output_type": "stream",
     "text": [
      "                                               \n",
      "  5%|▌         | 6/111 [02:00<12:47,  7.31s/it]"
     ]
    },
    {
     "name": "stdout",
     "output_type": "stream",
     "text": [
      "launch OpenICLInfer[Qwen3-8B/ceval-high_school_physics] on CPU \n",
      "06/03 07:39:18 - OpenCompass - \u001b[5m\u001b[4m\u001b[31mERROR\u001b[0m - /usr/local/miniconda3/envs/py310/lib/python3.10/site-packages/opencompass/runners/local.py - _launch - 236 - task OpenICLInfer[Qwen3-8B/ceval-electrical_engineer] fail, see\n",
      "outputs/qwen3_eval_result/20250603_073810/logs/infer/Qwen3-8B/ceval-electrical_engineer.out\n"
     ]
    },
    {
     "name": "stderr",
     "output_type": "stream",
     "text": [
      "                                               \n",
      "  5%|▌         | 6/111 [02:08<12:47,  7.31s/it] "
     ]
    },
    {
     "name": "stdout",
     "output_type": "stream",
     "text": [
      "launch OpenICLInfer[Qwen3-8B/ceval-high_school_chemistry] on CPU \n",
      "06/03 07:39:20 - OpenCompass - \u001b[5m\u001b[4m\u001b[31mERROR\u001b[0m - /usr/local/miniconda3/envs/py310/lib/python3.10/site-packages/opencompass/runners/local.py - _launch - 236 - task OpenICLInfer[Qwen3-8B/ceval-metrology_engineer] fail, see\n",
      "outputs/qwen3_eval_result/20250603_073810/logs/infer/Qwen3-8B/ceval-metrology_engineer.out\n"
     ]
    },
    {
     "name": "stderr",
     "output_type": "stream",
     "text": [
      "                                               \n",
      "  5%|▌         | 6/111 [02:10<12:47,  7.31s/it] \n",
      " 11%|█         | 12/111 [00:59<05:48,  3.52s/it]"
     ]
    },
    {
     "name": "stdout",
     "output_type": "stream",
     "text": [
      "launch OpenICLInfer[Qwen3-8B/ceval-high_school_biology] on CPU \n"
     ]
    },
    {
     "name": "stderr",
     "output_type": "stream",
     "text": [
      "\u001b[A"
     ]
    },
    {
     "name": "stdout",
     "output_type": "stream",
     "text": [
      "06/03 07:39:25 - OpenCompass - \u001b[5m\u001b[4m\u001b[31mERROR\u001b[0m - /usr/local/miniconda3/envs/py310/lib/python3.10/site-packages/opencompass/runners/local.py - _launch - 236 - task OpenICLInfer[Qwen3-8B/ceval-high_school_mathematics] fail, see\n",
      "outputs/qwen3_eval_result/20250603_073810/logs/infer/Qwen3-8B/ceval-high_school_mathematics.out\n"
     ]
    },
    {
     "name": "stderr",
     "output_type": "stream",
     "text": [
      "                                               \n",
      "  5%|▌         | 6/111 [02:14<12:47,  7.31s/it] "
     ]
    },
    {
     "name": "stdout",
     "output_type": "stream",
     "text": [
      "launch OpenICLInfer[Qwen3-8B/ceval-middle_school_mathematics] on CPU \n",
      "06/03 07:39:26 - OpenCompass - \u001b[5m\u001b[4m\u001b[31mERROR\u001b[0m - /usr/local/miniconda3/envs/py310/lib/python3.10/site-packages/opencompass/runners/local.py - _launch - 236 - task OpenICLInfer[Qwen3-8B/ceval-high_school_physics] fail, see\n",
      "outputs/qwen3_eval_result/20250603_073810/logs/infer/Qwen3-8B/ceval-high_school_physics.out\n"
     ]
    },
    {
     "name": "stderr",
     "output_type": "stream",
     "text": [
      "                                               \n",
      "  5%|▌         | 6/111 [02:16<12:47,  7.31s/it] "
     ]
    },
    {
     "name": "stdout",
     "output_type": "stream",
     "text": [
      "launch OpenICLInfer[Qwen3-8B/ceval-middle_school_biology] on CPU \n",
      "06/03 07:39:33 - OpenCompass - \u001b[5m\u001b[4m\u001b[31mERROR\u001b[0m - /usr/local/miniconda3/envs/py310/lib/python3.10/site-packages/opencompass/runners/local.py - _launch - 236 - task OpenICLInfer[Qwen3-8B/ceval-high_school_chemistry] fail, see\n",
      "outputs/qwen3_eval_result/20250603_073810/logs/infer/Qwen3-8B/ceval-high_school_chemistry.out\n"
     ]
    },
    {
     "name": "stderr",
     "output_type": "stream",
     "text": [
      "                                               \n",
      "  5%|▌         | 6/111 [02:23<12:47,  7.31s/it] "
     ]
    },
    {
     "name": "stdout",
     "output_type": "stream",
     "text": [
      "launch OpenICLInfer[Qwen3-8B/ceval-middle_school_physics] on CPU \n",
      "06/03 07:39:34 - OpenCompass - \u001b[5m\u001b[4m\u001b[31mERROR\u001b[0m - /usr/local/miniconda3/envs/py310/lib/python3.10/site-packages/opencompass/runners/local.py - _launch - 236 - task OpenICLInfer[Qwen3-8B/ceval-high_school_biology] fail, see\n",
      "outputs/qwen3_eval_result/20250603_073810/logs/infer/Qwen3-8B/ceval-high_school_biology.out\n"
     ]
    },
    {
     "name": "stderr",
     "output_type": "stream",
     "text": [
      "                                               \n",
      "  5%|▌         | 6/111 [02:24<12:47,  7.31s/it] "
     ]
    },
    {
     "name": "stdout",
     "output_type": "stream",
     "text": [
      "launch OpenICLInfer[Qwen3-8B/ceval-middle_school_chemistry] on CPU \n",
      "06/03 07:39:40 - OpenCompass - \u001b[5m\u001b[4m\u001b[31mERROR\u001b[0m - /usr/local/miniconda3/envs/py310/lib/python3.10/site-packages/opencompass/runners/local.py - _launch - 236 - task OpenICLInfer[Qwen3-8B/ceval-middle_school_mathematics] fail, see\n",
      "outputs/qwen3_eval_result/20250603_073810/logs/infer/Qwen3-8B/ceval-middle_school_mathematics.out\n"
     ]
    },
    {
     "name": "stderr",
     "output_type": "stream",
     "text": [
      "                                               \n",
      "  5%|▌         | 6/111 [02:30<12:47,  7.31s/it] "
     ]
    },
    {
     "name": "stdout",
     "output_type": "stream",
     "text": [
      "launch OpenICLInfer[Qwen3-8B/ceval-veterinary_medicine] on CPU \n",
      "06/03 07:39:41 - OpenCompass - \u001b[5m\u001b[4m\u001b[31mERROR\u001b[0m - /usr/local/miniconda3/envs/py310/lib/python3.10/site-packages/opencompass/runners/local.py - _launch - 236 - task OpenICLInfer[Qwen3-8B/ceval-middle_school_biology] fail, see\n",
      "outputs/qwen3_eval_result/20250603_073810/logs/infer/Qwen3-8B/ceval-middle_school_biology.out\n"
     ]
    },
    {
     "name": "stderr",
     "output_type": "stream",
     "text": [
      "                                               \n",
      "  5%|▌         | 6/111 [02:31<12:47,  7.31s/it] "
     ]
    },
    {
     "name": "stdout",
     "output_type": "stream",
     "text": [
      "launch OpenICLInfer[Qwen3-8B/ceval-college_economics] on CPU \n",
      "06/03 07:39:49 - OpenCompass - \u001b[5m\u001b[4m\u001b[31mERROR\u001b[0m - /usr/local/miniconda3/envs/py310/lib/python3.10/site-packages/opencompass/runners/local.py - _launch - 236 - task OpenICLInfer[Qwen3-8B/ceval-middle_school_physics] fail, see\n",
      "outputs/qwen3_eval_result/20250603_073810/logs/infer/Qwen3-8B/ceval-middle_school_physics.out\n"
     ]
    },
    {
     "name": "stderr",
     "output_type": "stream",
     "text": [
      "                                               \n",
      "  5%|▌         | 6/111 [02:39<12:47,  7.31s/it] "
     ]
    },
    {
     "name": "stdout",
     "output_type": "stream",
     "text": [
      "launch OpenICLInfer[Qwen3-8B/ceval-business_administration] on CPU \n",
      "06/03 07:39:50 - OpenCompass - \u001b[5m\u001b[4m\u001b[31mERROR\u001b[0m - /usr/local/miniconda3/envs/py310/lib/python3.10/site-packages/opencompass/runners/local.py - _launch - 236 - task OpenICLInfer[Qwen3-8B/ceval-middle_school_chemistry] fail, see\n",
      "outputs/qwen3_eval_result/20250603_073810/logs/infer/Qwen3-8B/ceval-middle_school_chemistry.out\n"
     ]
    },
    {
     "name": "stderr",
     "output_type": "stream",
     "text": [
      "                                               \n",
      "  5%|▌         | 6/111 [02:39<12:47,  7.31s/it] "
     ]
    },
    {
     "name": "stdout",
     "output_type": "stream",
     "text": [
      "launch OpenICLInfer[Qwen3-8B/ceval-marxism] on CPU \n",
      "06/03 07:39:54 - OpenCompass - \u001b[5m\u001b[4m\u001b[31mERROR\u001b[0m - /usr/local/miniconda3/envs/py310/lib/python3.10/site-packages/opencompass/runners/local.py - _launch - 236 - task OpenICLInfer[Qwen3-8B/ceval-veterinary_medicine] fail, see\n",
      "outputs/qwen3_eval_result/20250603_073810/logs/infer/Qwen3-8B/ceval-veterinary_medicine.out\n"
     ]
    },
    {
     "name": "stderr",
     "output_type": "stream",
     "text": [
      "                                               \n",
      "  5%|▌         | 6/111 [02:44<12:47,  7.31s/it] "
     ]
    },
    {
     "name": "stdout",
     "output_type": "stream",
     "text": [
      "launch OpenICLInfer[Qwen3-8B/ceval-mao_zedong_thought] on CPU \n",
      "06/03 07:39:56 - OpenCompass - \u001b[5m\u001b[4m\u001b[31mERROR\u001b[0m - /usr/local/miniconda3/envs/py310/lib/python3.10/site-packages/opencompass/runners/local.py - _launch - 236 - task OpenICLInfer[Qwen3-8B/ceval-college_economics] fail, see\n",
      "outputs/qwen3_eval_result/20250603_073810/logs/infer/Qwen3-8B/ceval-college_economics.out\n"
     ]
    },
    {
     "name": "stderr",
     "output_type": "stream",
     "text": [
      "                                               \n",
      "  5%|▌         | 6/111 [02:45<12:47,  7.31s/it] "
     ]
    },
    {
     "name": "stdout",
     "output_type": "stream",
     "text": [
      "launch OpenICLInfer[Qwen3-8B/ceval-education_science] on CPU \n",
      "06/03 07:40:04 - OpenCompass - \u001b[5m\u001b[4m\u001b[31mERROR\u001b[0m - /usr/local/miniconda3/envs/py310/lib/python3.10/site-packages/opencompass/runners/local.py - _launch - 236 - task OpenICLInfer[Qwen3-8B/ceval-business_administration] fail, see\n",
      "outputs/qwen3_eval_result/20250603_073810/logs/infer/Qwen3-8B/ceval-business_administration.out\n"
     ]
    },
    {
     "name": "stderr",
     "output_type": "stream",
     "text": [
      "                                               \n",
      "  5%|▌         | 6/111 [02:54<12:47,  7.31s/it] "
     ]
    },
    {
     "name": "stdout",
     "output_type": "stream",
     "text": [
      "launch OpenICLInfer[Qwen3-8B/ceval-teacher_qualification] on CPU \n",
      "06/03 07:40:05 - OpenCompass - \u001b[5m\u001b[4m\u001b[31mERROR\u001b[0m - /usr/local/miniconda3/envs/py310/lib/python3.10/site-packages/opencompass/runners/local.py - _launch - 236 - task OpenICLInfer[Qwen3-8B/ceval-marxism] fail, see\n",
      "outputs/qwen3_eval_result/20250603_073810/logs/infer/Qwen3-8B/ceval-marxism.out\n"
     ]
    },
    {
     "name": "stderr",
     "output_type": "stream",
     "text": [
      "                                               \n",
      "  5%|▌         | 6/111 [02:55<12:47,  7.31s/it] "
     ]
    },
    {
     "name": "stdout",
     "output_type": "stream",
     "text": [
      "launch OpenICLInfer[Qwen3-8B/ceval-high_school_politics] on CPU \n",
      "06/03 07:40:10 - OpenCompass - \u001b[5m\u001b[4m\u001b[31mERROR\u001b[0m - /usr/local/miniconda3/envs/py310/lib/python3.10/site-packages/opencompass/runners/local.py - _launch - 236 - task OpenICLInfer[Qwen3-8B/ceval-mao_zedong_thought] fail, see\n",
      "outputs/qwen3_eval_result/20250603_073810/logs/infer/Qwen3-8B/ceval-mao_zedong_thought.out\n"
     ]
    },
    {
     "name": "stderr",
     "output_type": "stream",
     "text": [
      "                                               \n",
      "  5%|▌         | 6/111 [03:00<12:47,  7.31s/it] "
     ]
    },
    {
     "name": "stdout",
     "output_type": "stream",
     "text": [
      "launch OpenICLInfer[Qwen3-8B/ceval-high_school_geography] on CPU \n",
      "06/03 07:40:10 - OpenCompass - \u001b[5m\u001b[4m\u001b[31mERROR\u001b[0m - /usr/local/miniconda3/envs/py310/lib/python3.10/site-packages/opencompass/runners/local.py - _launch - 236 - task OpenICLInfer[Qwen3-8B/ceval-education_science] fail, see\n",
      "outputs/qwen3_eval_result/20250603_073810/logs/infer/Qwen3-8B/ceval-education_science.out\n"
     ]
    },
    {
     "name": "stderr",
     "output_type": "stream",
     "text": [
      "                                               \n",
      "  5%|▌         | 6/111 [03:00<12:47,  7.31s/it] "
     ]
    },
    {
     "name": "stdout",
     "output_type": "stream",
     "text": [
      "launch OpenICLInfer[Qwen3-8B/ceval-middle_school_politics] on CPU \n",
      "06/03 07:40:17 - OpenCompass - \u001b[5m\u001b[4m\u001b[31mERROR\u001b[0m - /usr/local/miniconda3/envs/py310/lib/python3.10/site-packages/opencompass/runners/local.py - _launch - 236 - task OpenICLInfer[Qwen3-8B/ceval-teacher_qualification] fail, see\n",
      "outputs/qwen3_eval_result/20250603_073810/logs/infer/Qwen3-8B/ceval-teacher_qualification.out\n"
     ]
    },
    {
     "name": "stderr",
     "output_type": "stream",
     "text": [
      "                                               \n",
      "  5%|▌         | 6/111 [03:07<12:47,  7.31s/it] "
     ]
    },
    {
     "name": "stdout",
     "output_type": "stream",
     "text": [
      "launch OpenICLInfer[Qwen3-8B/ceval-middle_school_geography] on CPU \n",
      "06/03 07:40:18 - OpenCompass - \u001b[5m\u001b[4m\u001b[31mERROR\u001b[0m - /usr/local/miniconda3/envs/py310/lib/python3.10/site-packages/opencompass/runners/local.py - _launch - 236 - task OpenICLInfer[Qwen3-8B/ceval-high_school_politics] fail, see\n",
      "outputs/qwen3_eval_result/20250603_073810/logs/infer/Qwen3-8B/ceval-high_school_politics.out\n"
     ]
    },
    {
     "name": "stderr",
     "output_type": "stream",
     "text": [
      "                                               \n",
      "  5%|▌         | 6/111 [03:08<12:47,  7.31s/it] "
     ]
    },
    {
     "name": "stdout",
     "output_type": "stream",
     "text": [
      "launch OpenICLInfer[Qwen3-8B/ceval-modern_chinese_history] on CPU \n",
      "06/03 07:40:25 - OpenCompass - \u001b[5m\u001b[4m\u001b[31mERROR\u001b[0m - /usr/local/miniconda3/envs/py310/lib/python3.10/site-packages/opencompass/runners/local.py - _launch - 236 - task OpenICLInfer[Qwen3-8B/ceval-middle_school_politics] fail, see\n",
      "outputs/qwen3_eval_result/20250603_073810/logs/infer/Qwen3-8B/ceval-middle_school_politics.out\n"
     ]
    },
    {
     "name": "stderr",
     "output_type": "stream",
     "text": [
      "                                               \n",
      "  5%|▌         | 6/111 [03:15<12:47,  7.31s/it] "
     ]
    },
    {
     "name": "stdout",
     "output_type": "stream",
     "text": [
      "launch OpenICLInfer[Qwen3-8B/ceval-ideological_and_moral_cultivation] on CPU \n",
      "06/03 07:40:26 - OpenCompass - \u001b[5m\u001b[4m\u001b[31mERROR\u001b[0m - /usr/local/miniconda3/envs/py310/lib/python3.10/site-packages/opencompass/runners/local.py - _launch - 236 - task OpenICLInfer[Qwen3-8B/ceval-high_school_geography] fail, see\n",
      "outputs/qwen3_eval_result/20250603_073810/logs/infer/Qwen3-8B/ceval-high_school_geography.out\n"
     ]
    },
    {
     "name": "stderr",
     "output_type": "stream",
     "text": [
      "                                               \n",
      "  5%|▌         | 6/111 [03:16<12:47,  7.31s/it] "
     ]
    },
    {
     "name": "stdout",
     "output_type": "stream",
     "text": [
      "launch OpenICLInfer[Qwen3-8B/ceval-logic] on CPU \n",
      "06/03 07:40:31 - OpenCompass - \u001b[5m\u001b[4m\u001b[31mERROR\u001b[0m - /usr/local/miniconda3/envs/py310/lib/python3.10/site-packages/opencompass/runners/local.py - _launch - 236 - task OpenICLInfer[Qwen3-8B/ceval-middle_school_geography] fail, see\n",
      "outputs/qwen3_eval_result/20250603_073810/logs/infer/Qwen3-8B/ceval-middle_school_geography.out\n"
     ]
    },
    {
     "name": "stderr",
     "output_type": "stream",
     "text": [
      "                                               \n",
      "  5%|▌         | 6/111 [03:21<12:47,  7.31s/it] "
     ]
    },
    {
     "name": "stdout",
     "output_type": "stream",
     "text": [
      "launch OpenICLInfer[Qwen3-8B/ceval-law] on CPU \n",
      "06/03 07:40:33 - OpenCompass - \u001b[5m\u001b[4m\u001b[31mERROR\u001b[0m - /usr/local/miniconda3/envs/py310/lib/python3.10/site-packages/opencompass/runners/local.py - _launch - 236 - task OpenICLInfer[Qwen3-8B/ceval-modern_chinese_history] fail, see\n",
      "outputs/qwen3_eval_result/20250603_073810/logs/infer/Qwen3-8B/ceval-modern_chinese_history.out\n"
     ]
    },
    {
     "name": "stderr",
     "output_type": "stream",
     "text": [
      "                                               \n",
      "  5%|▌         | 6/111 [03:23<12:47,  7.31s/it] "
     ]
    },
    {
     "name": "stdout",
     "output_type": "stream",
     "text": [
      "launch OpenICLInfer[Qwen3-8B/ceval-chinese_language_and_literature] on CPU \n",
      "06/03 07:40:42 - OpenCompass - \u001b[5m\u001b[4m\u001b[31mERROR\u001b[0m - /usr/local/miniconda3/envs/py310/lib/python3.10/site-packages/opencompass/runners/local.py - _launch - 236 - task OpenICLInfer[Qwen3-8B/ceval-ideological_and_moral_cultivation] fail, see\n",
      "outputs/qwen3_eval_result/20250603_073810/logs/infer/Qwen3-8B/ceval-ideological_and_moral_cultivation.out\n"
     ]
    },
    {
     "name": "stderr",
     "output_type": "stream",
     "text": [
      "                                               \n",
      "  5%|▌         | 6/111 [03:32<12:47,  7.31s/it] "
     ]
    },
    {
     "name": "stdout",
     "output_type": "stream",
     "text": [
      "launch OpenICLInfer[Qwen3-8B/ceval-art_studies] on CPU \n",
      "06/03 07:40:43 - OpenCompass - \u001b[5m\u001b[4m\u001b[31mERROR\u001b[0m - /usr/local/miniconda3/envs/py310/lib/python3.10/site-packages/opencompass/runners/local.py - _launch - 236 - task OpenICLInfer[Qwen3-8B/ceval-logic] fail, see\n",
      "outputs/qwen3_eval_result/20250603_073810/logs/infer/Qwen3-8B/ceval-logic.out\n"
     ]
    },
    {
     "name": "stderr",
     "output_type": "stream",
     "text": [
      "                                               \n",
      "  5%|▌         | 6/111 [03:33<12:47,  7.31s/it] "
     ]
    },
    {
     "name": "stdout",
     "output_type": "stream",
     "text": [
      "launch OpenICLInfer[Qwen3-8B/ceval-professional_tour_guide] on CPU \n",
      "06/03 07:40:45 - OpenCompass - \u001b[5m\u001b[4m\u001b[31mERROR\u001b[0m - /usr/local/miniconda3/envs/py310/lib/python3.10/site-packages/opencompass/runners/local.py - _launch - 236 - task OpenICLInfer[Qwen3-8B/ceval-law] fail, see\n",
      "outputs/qwen3_eval_result/20250603_073810/logs/infer/Qwen3-8B/ceval-law.out\n"
     ]
    },
    {
     "name": "stderr",
     "output_type": "stream",
     "text": [
      "                                               \n",
      "  5%|▌         | 6/111 [03:35<12:47,  7.31s/it] "
     ]
    },
    {
     "name": "stdout",
     "output_type": "stream",
     "text": [
      "launch OpenICLInfer[Qwen3-8B/ceval-legal_professional] on CPU \n",
      "06/03 07:40:48 - OpenCompass - \u001b[5m\u001b[4m\u001b[31mERROR\u001b[0m - /usr/local/miniconda3/envs/py310/lib/python3.10/site-packages/opencompass/runners/local.py - _launch - 236 - task OpenICLInfer[Qwen3-8B/ceval-chinese_language_and_literature] fail, see\n",
      "outputs/qwen3_eval_result/20250603_073810/logs/infer/Qwen3-8B/ceval-chinese_language_and_literature.out\n"
     ]
    },
    {
     "name": "stderr",
     "output_type": "stream",
     "text": [
      "                                               \n",
      "  5%|▌         | 6/111 [03:39<12:47,  7.31s/it] "
     ]
    },
    {
     "name": "stdout",
     "output_type": "stream",
     "text": [
      "launch OpenICLInfer[Qwen3-8B/ceval-high_school_chinese] on CPU \n",
      "06/03 07:40:57 - OpenCompass - \u001b[5m\u001b[4m\u001b[31mERROR\u001b[0m - /usr/local/miniconda3/envs/py310/lib/python3.10/site-packages/opencompass/runners/local.py - _launch - 236 - task OpenICLInfer[Qwen3-8B/ceval-art_studies] fail, see\n",
      "outputs/qwen3_eval_result/20250603_073810/logs/infer/Qwen3-8B/ceval-art_studies.out\n"
     ]
    },
    {
     "name": "stderr",
     "output_type": "stream",
     "text": [
      "                                               \n",
      "  5%|▌         | 6/111 [03:47<12:47,  7.31s/it] "
     ]
    },
    {
     "name": "stdout",
     "output_type": "stream",
     "text": [
      "launch OpenICLInfer[Qwen3-8B/ceval-high_school_history] on CPU \n",
      "06/03 07:41:01 - OpenCompass - \u001b[5m\u001b[4m\u001b[31mERROR\u001b[0m - /usr/local/miniconda3/envs/py310/lib/python3.10/site-packages/opencompass/runners/local.py - _launch - 236 - task OpenICLInfer[Qwen3-8B/ceval-professional_tour_guide] fail, see\n",
      "outputs/qwen3_eval_result/20250603_073810/logs/infer/Qwen3-8B/ceval-professional_tour_guide.out\n"
     ]
    },
    {
     "name": "stderr",
     "output_type": "stream",
     "text": [
      "                                               \n",
      "  5%|▌         | 6/111 [03:51<12:47,  7.31s/it] "
     ]
    },
    {
     "name": "stdout",
     "output_type": "stream",
     "text": [
      "launch OpenICLInfer[Qwen3-8B/ceval-middle_school_history] on CPU \n",
      "06/03 07:41:04 - OpenCompass - \u001b[5m\u001b[4m\u001b[31mERROR\u001b[0m - /usr/local/miniconda3/envs/py310/lib/python3.10/site-packages/opencompass/runners/local.py - _launch - 236 - task OpenICLInfer[Qwen3-8B/ceval-legal_professional] fail, see\n",
      "outputs/qwen3_eval_result/20250603_073810/logs/infer/Qwen3-8B/ceval-legal_professional.out\n"
     ]
    },
    {
     "name": "stderr",
     "output_type": "stream",
     "text": [
      "                                               \n",
      "  5%|▌         | 6/111 [03:54<12:47,  7.31s/it] "
     ]
    },
    {
     "name": "stdout",
     "output_type": "stream",
     "text": [
      "launch OpenICLInfer[Qwen3-8B/ceval-civil_servant] on CPU \n",
      "06/03 07:41:05 - OpenCompass - \u001b[5m\u001b[4m\u001b[31mERROR\u001b[0m - /usr/local/miniconda3/envs/py310/lib/python3.10/site-packages/opencompass/runners/local.py - _launch - 236 - task OpenICLInfer[Qwen3-8B/ceval-high_school_chinese] fail, see\n",
      "outputs/qwen3_eval_result/20250603_073810/logs/infer/Qwen3-8B/ceval-high_school_chinese.out\n"
     ]
    },
    {
     "name": "stderr",
     "output_type": "stream",
     "text": [
      "                                               \n",
      "  5%|▌         | 6/111 [03:55<12:47,  7.31s/it] "
     ]
    },
    {
     "name": "stdout",
     "output_type": "stream",
     "text": [
      "launch OpenICLInfer[Qwen3-8B/ceval-sports_science] on CPU \n",
      "06/03 07:41:12 - OpenCompass - \u001b[5m\u001b[4m\u001b[31mERROR\u001b[0m - /usr/local/miniconda3/envs/py310/lib/python3.10/site-packages/opencompass/runners/local.py - _launch - 236 - task OpenICLInfer[Qwen3-8B/ceval-high_school_history] fail, see\n",
      "outputs/qwen3_eval_result/20250603_073810/logs/infer/Qwen3-8B/ceval-high_school_history.out\n"
     ]
    },
    {
     "name": "stderr",
     "output_type": "stream",
     "text": [
      "                                               \n",
      "  5%|▌         | 6/111 [04:01<12:47,  7.31s/it] "
     ]
    },
    {
     "name": "stdout",
     "output_type": "stream",
     "text": [
      "launch OpenICLInfer[Qwen3-8B/ceval-plant_protection] on CPU \n",
      "06/03 07:41:19 - OpenCompass - \u001b[5m\u001b[4m\u001b[31mERROR\u001b[0m - /usr/local/miniconda3/envs/py310/lib/python3.10/site-packages/opencompass/runners/local.py - _launch - 236 - task OpenICLInfer[Qwen3-8B/ceval-middle_school_history] fail, see\n",
      "outputs/qwen3_eval_result/20250603_073810/logs/infer/Qwen3-8B/ceval-middle_school_history.out\n"
     ]
    },
    {
     "name": "stderr",
     "output_type": "stream",
     "text": [
      "                                               \n",
      "  5%|▌         | 6/111 [04:08<12:47,  7.31s/it] "
     ]
    },
    {
     "name": "stdout",
     "output_type": "stream",
     "text": [
      "launch OpenICLInfer[Qwen3-8B/ceval-basic_medicine] on CPU \n",
      "06/03 07:41:21 - OpenCompass - \u001b[5m\u001b[4m\u001b[31mERROR\u001b[0m - /usr/local/miniconda3/envs/py310/lib/python3.10/site-packages/opencompass/runners/local.py - _launch - 236 - task OpenICLInfer[Qwen3-8B/ceval-civil_servant] fail, see\n",
      "outputs/qwen3_eval_result/20250603_073810/logs/infer/Qwen3-8B/ceval-civil_servant.out\n"
     ]
    },
    {
     "name": "stderr",
     "output_type": "stream",
     "text": [
      "                                               \n",
      "  5%|▌         | 6/111 [04:11<12:47,  7.31s/it] "
     ]
    },
    {
     "name": "stdout",
     "output_type": "stream",
     "text": [
      "launch OpenICLInfer[Qwen3-8B/ceval-clinical_medicine] on CPU \n",
      "06/03 07:41:22 - OpenCompass - \u001b[5m\u001b[4m\u001b[31mERROR\u001b[0m - /usr/local/miniconda3/envs/py310/lib/python3.10/site-packages/opencompass/runners/local.py - _launch - 236 - task OpenICLInfer[Qwen3-8B/ceval-sports_science] fail, see\n",
      "outputs/qwen3_eval_result/20250603_073810/logs/infer/Qwen3-8B/ceval-sports_science.out\n"
     ]
    },
    {
     "name": "stderr",
     "output_type": "stream",
     "text": [
      "                                               \n",
      "  5%|▌         | 6/111 [04:12<12:47,  7.31s/it] "
     ]
    },
    {
     "name": "stdout",
     "output_type": "stream",
     "text": [
      "launch OpenICLInfer[Qwen3-8B/ceval-urban_and_rural_planner] on CPU \n",
      "06/03 07:41:25 - OpenCompass - \u001b[5m\u001b[4m\u001b[31mERROR\u001b[0m - /usr/local/miniconda3/envs/py310/lib/python3.10/site-packages/opencompass/runners/local.py - _launch - 236 - task OpenICLInfer[Qwen3-8B/ceval-plant_protection] fail, see\n",
      "outputs/qwen3_eval_result/20250603_073810/logs/infer/Qwen3-8B/ceval-plant_protection.out\n"
     ]
    },
    {
     "name": "stderr",
     "output_type": "stream",
     "text": [
      "                                               \n",
      "  5%|▌         | 6/111 [04:16<12:47,  7.31s/it] "
     ]
    },
    {
     "name": "stdout",
     "output_type": "stream",
     "text": [
      "launch OpenICLInfer[Qwen3-8B/ceval-accountant] on CPU \n",
      "06/03 07:41:31 - OpenCompass - \u001b[5m\u001b[4m\u001b[31mERROR\u001b[0m - /usr/local/miniconda3/envs/py310/lib/python3.10/site-packages/opencompass/runners/local.py - _launch - 236 - task OpenICLInfer[Qwen3-8B/ceval-basic_medicine] fail, see\n",
      "outputs/qwen3_eval_result/20250603_073810/logs/infer/Qwen3-8B/ceval-basic_medicine.out\n"
     ]
    },
    {
     "name": "stderr",
     "output_type": "stream",
     "text": [
      "                                               \n",
      "  5%|▌         | 6/111 [04:21<12:47,  7.31s/it] "
     ]
    },
    {
     "name": "stdout",
     "output_type": "stream",
     "text": [
      "launch OpenICLInfer[Qwen3-8B/ceval-fire_engineer] on CPU \n",
      "06/03 07:41:39 - OpenCompass - \u001b[5m\u001b[4m\u001b[31mERROR\u001b[0m - /usr/local/miniconda3/envs/py310/lib/python3.10/site-packages/opencompass/runners/local.py - _launch - 236 - task OpenICLInfer[Qwen3-8B/ceval-clinical_medicine] fail, see\n",
      "outputs/qwen3_eval_result/20250603_073810/logs/infer/Qwen3-8B/ceval-clinical_medicine.out\n"
     ]
    },
    {
     "name": "stderr",
     "output_type": "stream",
     "text": [
      "                                               \n",
      "  5%|▌         | 6/111 [04:29<12:47,  7.31s/it] "
     ]
    },
    {
     "name": "stdout",
     "output_type": "stream",
     "text": [
      "launch OpenICLInfer[Qwen3-8B/ceval-environmental_impact_assessment_engineer] on CPU \n",
      "06/03 07:41:40 - OpenCompass - \u001b[5m\u001b[4m\u001b[31mERROR\u001b[0m - /usr/local/miniconda3/envs/py310/lib/python3.10/site-packages/opencompass/runners/local.py - _launch - 236 - task OpenICLInfer[Qwen3-8B/ceval-urban_and_rural_planner] fail, see\n",
      "outputs/qwen3_eval_result/20250603_073810/logs/infer/Qwen3-8B/ceval-urban_and_rural_planner.out\n"
     ]
    },
    {
     "name": "stderr",
     "output_type": "stream",
     "text": [
      "                                               \n",
      "  5%|▌         | 6/111 [04:30<12:47,  7.31s/it] "
     ]
    },
    {
     "name": "stdout",
     "output_type": "stream",
     "text": [
      "launch OpenICLInfer[Qwen3-8B/ceval-tax_accountant] on CPU \n",
      "06/03 07:41:42 - OpenCompass - \u001b[5m\u001b[4m\u001b[31mERROR\u001b[0m - /usr/local/miniconda3/envs/py310/lib/python3.10/site-packages/opencompass/runners/local.py - _launch - 236 - task OpenICLInfer[Qwen3-8B/ceval-accountant] fail, see\n",
      "outputs/qwen3_eval_result/20250603_073810/logs/infer/Qwen3-8B/ceval-accountant.out\n"
     ]
    },
    {
     "name": "stderr",
     "output_type": "stream",
     "text": [
      "                                               \n",
      "  5%|▌         | 6/111 [04:32<12:47,  7.31s/it] "
     ]
    },
    {
     "name": "stdout",
     "output_type": "stream",
     "text": [
      "launch OpenICLInfer[Qwen3-8B/ceval-physician] on CPU \n",
      "06/03 07:41:45 - OpenCompass - \u001b[5m\u001b[4m\u001b[31mERROR\u001b[0m - /usr/local/miniconda3/envs/py310/lib/python3.10/site-packages/opencompass/runners/local.py - _launch - 236 - task OpenICLInfer[Qwen3-8B/ceval-fire_engineer] fail, see\n",
      "outputs/qwen3_eval_result/20250603_073810/logs/infer/Qwen3-8B/ceval-fire_engineer.out\n"
     ]
    },
    {
     "name": "stderr",
     "output_type": "stream",
     "text": [
      "                                               \n",
      "  5%|▌         | 6/111 [04:35<12:47,  7.31s/it] "
     ]
    },
    {
     "name": "stdout",
     "output_type": "stream",
     "text": [
      "launch OpenICLInfer[Qwen3-8B/gsm8k] on CPU \n",
      "06/03 07:41:55 - OpenCompass - \u001b[5m\u001b[4m\u001b[31mERROR\u001b[0m - /usr/local/miniconda3/envs/py310/lib/python3.10/site-packages/opencompass/runners/local.py - _launch - 236 - task OpenICLInfer[Qwen3-8B/ceval-environmental_impact_assessment_engineer] fail, see\n",
      "outputs/qwen3_eval_result/20250603_073810/logs/infer/Qwen3-8B/ceval-environmental_impact_assessment_engineer.out\n"
     ]
    },
    {
     "name": "stderr",
     "output_type": "stream",
     "text": [
      "                                               \n",
      "  5%|▌         | 6/111 [04:45<12:47,  7.31s/it] "
     ]
    },
    {
     "name": "stdout",
     "output_type": "stream",
     "text": [
      "launch OpenICLInfer[Qwen3-8B/lukaemon_mmlu_college_biology] on CPU \n",
      "06/03 07:41:58 - OpenCompass - \u001b[5m\u001b[4m\u001b[31mERROR\u001b[0m - /usr/local/miniconda3/envs/py310/lib/python3.10/site-packages/opencompass/runners/local.py - _launch - 236 - task OpenICLInfer[Qwen3-8B/ceval-tax_accountant] fail, see\n",
      "outputs/qwen3_eval_result/20250603_073810/logs/infer/Qwen3-8B/ceval-tax_accountant.out\n"
     ]
    },
    {
     "name": "stderr",
     "output_type": "stream",
     "text": [
      "                                               \n",
      "  5%|▌         | 6/111 [04:47<12:47,  7.31s/it] "
     ]
    },
    {
     "name": "stdout",
     "output_type": "stream",
     "text": [
      "launch OpenICLInfer[Qwen3-8B/lukaemon_mmlu_college_chemistry] on CPU \n",
      "06/03 07:41:59 - OpenCompass - \u001b[5m\u001b[4m\u001b[31mERROR\u001b[0m - /usr/local/miniconda3/envs/py310/lib/python3.10/site-packages/opencompass/runners/local.py - _launch - 236 - task OpenICLInfer[Qwen3-8B/ceval-physician] fail, see\n",
      "outputs/qwen3_eval_result/20250603_073810/logs/infer/Qwen3-8B/ceval-physician.out\n"
     ]
    },
    {
     "name": "stderr",
     "output_type": "stream",
     "text": [
      "                                               \n",
      "  5%|▌         | 6/111 [04:49<12:47,  7.31s/it] "
     ]
    },
    {
     "name": "stdout",
     "output_type": "stream",
     "text": [
      "launch OpenICLInfer[Qwen3-8B/lukaemon_mmlu_college_computer_science] on CPU \n",
      "06/03 07:42:15 - OpenCompass - \u001b[5m\u001b[4m\u001b[31mERROR\u001b[0m - /usr/local/miniconda3/envs/py310/lib/python3.10/site-packages/opencompass/runners/local.py - _launch - 236 - task OpenICLInfer[Qwen3-8B/gsm8k] fail, see\n",
      "outputs/qwen3_eval_result/20250603_073810/logs/infer/Qwen3-8B/gsm8k.out\n"
     ]
    },
    {
     "name": "stderr",
     "output_type": "stream",
     "text": [
      "                                               \n",
      "  5%|▌         | 6/111 [05:05<12:47,  7.31s/it] "
     ]
    },
    {
     "name": "stdout",
     "output_type": "stream",
     "text": [
      "launch OpenICLInfer[Qwen3-8B/lukaemon_mmlu_college_mathematics] on CPU \n"
     ]
    },
    {
     "name": "stderr",
     "output_type": "stream",
     "text": [
      "                                               \n",
      "  5%|▌         | 6/111 [05:29<12:47,  7.31s/it] "
     ]
    },
    {
     "name": "stdout",
     "output_type": "stream",
     "text": [
      "launch OpenICLInfer[Qwen3-8B/lukaemon_mmlu_college_physics] on CPU \n",
      "06/03 07:43:19 - OpenCompass - \u001b[5m\u001b[4m\u001b[31mERROR\u001b[0m - /usr/local/miniconda3/envs/py310/lib/python3.10/site-packages/opencompass/runners/local.py - _launch - 236 - task OpenICLInfer[Qwen3-8B/lukaemon_mmlu_college_chemistry] fail, see\n",
      "outputs/qwen3_eval_result/20250603_073810/logs/infer/Qwen3-8B/lukaemon_mmlu_college_chemistry.out\n"
     ]
    },
    {
     "name": "stderr",
     "output_type": "stream",
     "text": [
      "                                               \n",
      "  5%|▌         | 6/111 [06:09<12:47,  7.31s/it] "
     ]
    },
    {
     "name": "stdout",
     "output_type": "stream",
     "text": [
      "launch OpenICLInfer[Qwen3-8B/lukaemon_mmlu_electrical_engineering] on CPU \n",
      "06/03 07:43:22 - OpenCompass - \u001b[5m\u001b[4m\u001b[31mERROR\u001b[0m - /usr/local/miniconda3/envs/py310/lib/python3.10/site-packages/opencompass/runners/local.py - _launch - 236 - task OpenICLInfer[Qwen3-8B/lukaemon_mmlu_college_computer_science] fail, see\n",
      "outputs/qwen3_eval_result/20250603_073810/logs/infer/Qwen3-8B/lukaemon_mmlu_college_computer_science.out\n"
     ]
    },
    {
     "name": "stderr",
     "output_type": "stream",
     "text": [
      "                                               \n",
      "  5%|▌         | 6/111 [06:12<12:47,  7.31s/it] "
     ]
    },
    {
     "name": "stdout",
     "output_type": "stream",
     "text": [
      "launch OpenICLInfer[Qwen3-8B/lukaemon_mmlu_astronomy] on CPU \n",
      "06/03 07:43:37 - OpenCompass - \u001b[5m\u001b[4m\u001b[31mERROR\u001b[0m - /usr/local/miniconda3/envs/py310/lib/python3.10/site-packages/opencompass/runners/local.py - _launch - 236 - task OpenICLInfer[Qwen3-8B/lukaemon_mmlu_college_mathematics] fail, see\n",
      "outputs/qwen3_eval_result/20250603_073810/logs/infer/Qwen3-8B/lukaemon_mmlu_college_mathematics.out\n"
     ]
    },
    {
     "name": "stderr",
     "output_type": "stream",
     "text": [
      "                                               \n",
      "  5%|▌         | 6/111 [06:27<12:47,  7.31s/it] "
     ]
    },
    {
     "name": "stdout",
     "output_type": "stream",
     "text": [
      "launch OpenICLInfer[Qwen3-8B/lukaemon_mmlu_anatomy] on CPU \n",
      "06/03 07:43:59 - OpenCompass - \u001b[5m\u001b[4m\u001b[31mERROR\u001b[0m - /usr/local/miniconda3/envs/py310/lib/python3.10/site-packages/opencompass/runners/local.py - _launch - 236 - task OpenICLInfer[Qwen3-8B/lukaemon_mmlu_college_physics] fail, see\n",
      "outputs/qwen3_eval_result/20250603_073810/logs/infer/Qwen3-8B/lukaemon_mmlu_college_physics.out\n"
     ]
    },
    {
     "name": "stderr",
     "output_type": "stream",
     "text": [
      "                                               \n",
      "  5%|▌         | 6/111 [06:48<12:47,  7.31s/it] "
     ]
    },
    {
     "name": "stdout",
     "output_type": "stream",
     "text": [
      "launch OpenICLInfer[Qwen3-8B/lukaemon_mmlu_abstract_algebra] on CPU \n"
     ]
    },
    {
     "name": "stderr",
     "output_type": "stream",
     "text": [
      "                                               \n",
      "  5%|▌         | 6/111 [07:10<12:47,  7.31s/it] "
     ]
    },
    {
     "name": "stdout",
     "output_type": "stream",
     "text": [
      "launch OpenICLInfer[Qwen3-8B/lukaemon_mmlu_machine_learning] on CPU \n",
      "06/03 07:44:29 - OpenCompass - \u001b[5m\u001b[4m\u001b[31mERROR\u001b[0m - /usr/local/miniconda3/envs/py310/lib/python3.10/site-packages/opencompass/runners/local.py - _launch - 236 - task OpenICLInfer[Qwen3-8B/lukaemon_mmlu_electrical_engineering] fail, see\n",
      "outputs/qwen3_eval_result/20250603_073810/logs/infer/Qwen3-8B/lukaemon_mmlu_electrical_engineering.out\n"
     ]
    },
    {
     "name": "stderr",
     "output_type": "stream",
     "text": [
      "                                               \n",
      "  5%|▌         | 6/111 [07:19<12:47,  7.31s/it] "
     ]
    },
    {
     "name": "stdout",
     "output_type": "stream",
     "text": [
      "launch OpenICLInfer[Qwen3-8B/lukaemon_mmlu_clinical_knowledge] on CPU \n",
      "06/03 07:44:46 - OpenCompass - \u001b[5m\u001b[4m\u001b[31mERROR\u001b[0m - /usr/local/miniconda3/envs/py310/lib/python3.10/site-packages/opencompass/runners/local.py - _launch - 236 - task OpenICLInfer[Qwen3-8B/lukaemon_mmlu_anatomy] fail, see\n",
      "outputs/qwen3_eval_result/20250603_073810/logs/infer/Qwen3-8B/lukaemon_mmlu_anatomy.out\n"
     ]
    },
    {
     "name": "stderr",
     "output_type": "stream",
     "text": [
      "                                               \n",
      "  5%|▌         | 6/111 [07:36<12:47,  7.31s/it] "
     ]
    },
    {
     "name": "stdout",
     "output_type": "stream",
     "text": [
      "launch OpenICLInfer[Qwen3-8B/lukaemon_mmlu_global_facts] on CPU \n",
      "06/03 07:45:14 - OpenCompass - \u001b[5m\u001b[4m\u001b[31mERROR\u001b[0m - /usr/local/miniconda3/envs/py310/lib/python3.10/site-packages/opencompass/runners/local.py - _launch - 236 - task OpenICLInfer[Qwen3-8B/lukaemon_mmlu_abstract_algebra] fail, see\n",
      "outputs/qwen3_eval_result/20250603_073810/logs/infer/Qwen3-8B/lukaemon_mmlu_abstract_algebra.out\n"
     ]
    },
    {
     "name": "stderr",
     "output_type": "stream",
     "text": [
      "                                               \n",
      "  5%|▌         | 6/111 [08:04<12:47,  7.31s/it] "
     ]
    },
    {
     "name": "stdout",
     "output_type": "stream",
     "text": [
      "launch OpenICLInfer[Qwen3-8B/lukaemon_mmlu_management] on CPU \n"
     ]
    },
    {
     "name": "stderr",
     "output_type": "stream",
     "text": [
      "                                               \n",
      "  5%|▌         | 6/111 [08:21<12:47,  7.31s/it] "
     ]
    },
    {
     "name": "stdout",
     "output_type": "stream",
     "text": [
      "launch OpenICLInfer[Qwen3-8B/lukaemon_mmlu_nutrition] on CPU \n",
      "06/03 07:45:33 - OpenCompass - \u001b[5m\u001b[4m\u001b[31mERROR\u001b[0m - /usr/local/miniconda3/envs/py310/lib/python3.10/site-packages/opencompass/runners/local.py - _launch - 236 - task OpenICLInfer[Qwen3-8B/lukaemon_mmlu_machine_learning] fail, see\n",
      "outputs/qwen3_eval_result/20250603_073810/logs/infer/Qwen3-8B/lukaemon_mmlu_machine_learning.out\n"
     ]
    },
    {
     "name": "stderr",
     "output_type": "stream",
     "text": [
      "                                               \n",
      "  5%|▌         | 6/111 [08:23<12:47,  7.31s/it] "
     ]
    },
    {
     "name": "stdout",
     "output_type": "stream",
     "text": [
      "launch OpenICLInfer[Qwen3-8B/lukaemon_mmlu_marketing] on CPU \n"
     ]
    },
    {
     "name": "stderr",
     "output_type": "stream",
     "text": [
      "                                               \n",
      "  5%|▌         | 6/111 [08:26<12:47,  7.31s/it] "
     ]
    },
    {
     "name": "stdout",
     "output_type": "stream",
     "text": [
      "launch OpenICLInfer[Qwen3-8B/lukaemon_mmlu_professional_accounting] on CPU \n"
     ]
    },
    {
     "name": "stderr",
     "output_type": "stream",
     "text": [
      "                                               \n",
      "  5%|▌         | 6/111 [08:27<12:47,  7.31s/it] "
     ]
    },
    {
     "name": "stdout",
     "output_type": "stream",
     "text": [
      "launch OpenICLInfer[Qwen3-8B/lukaemon_mmlu_high_school_geography] on CPU \n"
     ]
    },
    {
     "name": "stderr",
     "output_type": "stream",
     "text": [
      "                                               \n",
      "  5%|▌         | 6/111 [08:58<12:47,  7.31s/it] "
     ]
    },
    {
     "name": "stdout",
     "output_type": "stream",
     "text": [
      "launch OpenICLInfer[Qwen3-8B/lukaemon_mmlu_international_law] on CPU \n"
     ]
    },
    {
     "name": "stderr",
     "output_type": "stream",
     "text": [
      "                                               \n",
      "  5%|▌         | 6/111 [09:09<12:47,  7.31s/it] "
     ]
    },
    {
     "name": "stdout",
     "output_type": "stream",
     "text": [
      "launch OpenICLInfer[Qwen3-8B/lukaemon_mmlu_moral_scenarios] on CPU \n",
      "06/03 07:46:47 - OpenCompass - \u001b[5m\u001b[4m\u001b[31mERROR\u001b[0m - /usr/local/miniconda3/envs/py310/lib/python3.10/site-packages/opencompass/runners/local.py - _launch - 236 - task OpenICLInfer[Qwen3-8B/lukaemon_mmlu_nutrition] fail, see\n",
      "outputs/qwen3_eval_result/20250603_073810/logs/infer/Qwen3-8B/lukaemon_mmlu_nutrition.out\n"
     ]
    },
    {
     "name": "stderr",
     "output_type": "stream",
     "text": [
      "                                               \n",
      "  5%|▌         | 6/111 [09:37<12:47,  7.31s/it] "
     ]
    },
    {
     "name": "stdout",
     "output_type": "stream",
     "text": [
      "launch OpenICLInfer[Qwen3-8B/lukaemon_mmlu_computer_security] on CPU \n",
      "06/03 07:46:54 - OpenCompass - \u001b[5m\u001b[4m\u001b[31mERROR\u001b[0m - /usr/local/miniconda3/envs/py310/lib/python3.10/site-packages/opencompass/runners/local.py - _launch - 236 - task OpenICLInfer[Qwen3-8B/lukaemon_mmlu_professional_accounting] fail, see\n",
      "outputs/qwen3_eval_result/20250603_073810/logs/infer/Qwen3-8B/lukaemon_mmlu_professional_accounting.out\n"
     ]
    },
    {
     "name": "stderr",
     "output_type": "stream",
     "text": [
      "                                               \n",
      "  5%|▌         | 6/111 [09:44<12:47,  7.31s/it] "
     ]
    },
    {
     "name": "stdout",
     "output_type": "stream",
     "text": [
      "launch OpenICLInfer[Qwen3-8B/lukaemon_mmlu_high_school_microeconomics] on CPU \n"
     ]
    },
    {
     "name": "stderr",
     "output_type": "stream",
     "text": [
      "                                               \n",
      "  5%|▌         | 6/111 [10:02<12:47,  7.31s/it] "
     ]
    },
    {
     "name": "stdout",
     "output_type": "stream",
     "text": [
      "launch OpenICLInfer[Qwen3-8B/lukaemon_mmlu_professional_law] on CPU \n",
      "06/03 07:47:24 - OpenCompass - \u001b[5m\u001b[4m\u001b[31mERROR\u001b[0m - /usr/local/miniconda3/envs/py310/lib/python3.10/site-packages/opencompass/runners/local.py - _launch - 236 - task OpenICLInfer[Qwen3-8B/lukaemon_mmlu_international_law] fail, see\n",
      "outputs/qwen3_eval_result/20250603_073810/logs/infer/Qwen3-8B/lukaemon_mmlu_international_law.out\n"
     ]
    },
    {
     "name": "stderr",
     "output_type": "stream",
     "text": [
      "                                               \n",
      "  5%|▌         | 6/111 [10:14<12:47,  7.31s/it] "
     ]
    },
    {
     "name": "stdout",
     "output_type": "stream",
     "text": [
      "launch OpenICLInfer[Qwen3-8B/lukaemon_mmlu_medical_genetics] on CPU \n"
     ]
    },
    {
     "name": "stderr",
     "output_type": "stream",
     "text": [
      "                                               \n",
      "  5%|▌         | 6/111 [10:35<12:47,  7.31s/it] "
     ]
    },
    {
     "name": "stdout",
     "output_type": "stream",
     "text": [
      "launch OpenICLInfer[Qwen3-8B/lukaemon_mmlu_professional_psychology] on CPU \n",
      "06/03 07:48:08 - OpenCompass - \u001b[5m\u001b[4m\u001b[31mERROR\u001b[0m - /usr/local/miniconda3/envs/py310/lib/python3.10/site-packages/opencompass/runners/local.py - _launch - 236 - task OpenICLInfer[Qwen3-8B/lukaemon_mmlu_high_school_microeconomics] fail, see\n",
      "outputs/qwen3_eval_result/20250603_073810/logs/infer/Qwen3-8B/lukaemon_mmlu_high_school_microeconomics.out\n"
     ]
    },
    {
     "name": "stderr",
     "output_type": "stream",
     "text": [
      "                                               \n",
      "  5%|▌         | 6/111 [10:57<12:47,  7.31s/it] "
     ]
    },
    {
     "name": "stdout",
     "output_type": "stream",
     "text": [
      "launch OpenICLInfer[Qwen3-8B/lukaemon_mmlu_jurisprudence] on CPU \n"
     ]
    },
    {
     "name": "stderr",
     "output_type": "stream",
     "text": [
      "                                               \n",
      "  5%|▌         | 6/111 [11:04<12:47,  7.31s/it] "
     ]
    },
    {
     "name": "stdout",
     "output_type": "stream",
     "text": [
      "launch OpenICLInfer[Qwen3-8B/lukaemon_mmlu_world_religions] on CPU \n"
     ]
    },
    {
     "name": "stderr",
     "output_type": "stream",
     "text": [
      "                                               \n",
      "  5%|▌         | 6/111 [11:10<12:47,  7.31s/it] "
     ]
    },
    {
     "name": "stdout",
     "output_type": "stream",
     "text": [
      "launch OpenICLInfer[Qwen3-8B/lukaemon_mmlu_philosophy] on CPU \n"
     ]
    },
    {
     "name": "stderr",
     "output_type": "stream",
     "text": [
      "                                               \n",
      "  5%|▌         | 6/111 [11:21<12:47,  7.31s/it] "
     ]
    },
    {
     "name": "stdout",
     "output_type": "stream",
     "text": [
      "launch OpenICLInfer[Qwen3-8B/lukaemon_mmlu_virology] on CPU \n"
     ]
    },
    {
     "name": "stderr",
     "output_type": "stream",
     "text": [
      "                                               \n",
      "  5%|▌         | 6/111 [11:36<12:47,  7.31s/it] "
     ]
    },
    {
     "name": "stdout",
     "output_type": "stream",
     "text": [
      "launch OpenICLInfer[Qwen3-8B/lukaemon_mmlu_high_school_chemistry] on CPU \n"
     ]
    },
    {
     "name": "stderr",
     "output_type": "stream",
     "text": [
      "                                               \n",
      "  5%|▌         | 6/111 [12:03<12:47,  7.31s/it] "
     ]
    },
    {
     "name": "stdout",
     "output_type": "stream",
     "text": [
      "launch OpenICLInfer[Qwen3-8B/lukaemon_mmlu_public_relations] on CPU \n"
     ]
    },
    {
     "name": "stderr",
     "output_type": "stream",
     "text": [
      "                                               \n",
      "  5%|▌         | 6/111 [12:17<12:47,  7.31s/it] "
     ]
    },
    {
     "name": "stdout",
     "output_type": "stream",
     "text": [
      "launch OpenICLInfer[Qwen3-8B/lukaemon_mmlu_high_school_macroeconomics] on CPU \n"
     ]
    },
    {
     "name": "stderr",
     "output_type": "stream",
     "text": [
      "                                               \n",
      "  5%|▌         | 6/111 [12:23<12:47,  7.31s/it] "
     ]
    },
    {
     "name": "stdout",
     "output_type": "stream",
     "text": [
      "launch OpenICLInfer[Qwen3-8B/lukaemon_mmlu_human_sexuality] on CPU \n",
      "06/03 07:49:58 - OpenCompass - \u001b[5m\u001b[4m\u001b[31mERROR\u001b[0m - /usr/local/miniconda3/envs/py310/lib/python3.10/site-packages/opencompass/runners/local.py - _launch - 236 - task OpenICLInfer[Qwen3-8B/lukaemon_mmlu_high_school_chemistry] fail, see\n",
      "outputs/qwen3_eval_result/20250603_073810/logs/infer/Qwen3-8B/lukaemon_mmlu_high_school_chemistry.out\n"
     ]
    },
    {
     "name": "stderr",
     "output_type": "stream",
     "text": [
      "                                               \n",
      "  5%|▌         | 6/111 [12:48<12:47,  7.31s/it] "
     ]
    },
    {
     "name": "stdout",
     "output_type": "stream",
     "text": [
      "launch OpenICLInfer[Qwen3-8B/lukaemon_mmlu_elementary_mathematics] on CPU \n"
     ]
    },
    {
     "name": "stderr",
     "output_type": "stream",
     "text": [
      "                                               \n",
      "  5%|▌         | 6/111 [13:06<12:47,  7.31s/it] "
     ]
    },
    {
     "name": "stdout",
     "output_type": "stream",
     "text": [
      "launch OpenICLInfer[Qwen3-8B/lukaemon_mmlu_high_school_physics] on CPU \n",
      "06/03 07:50:22 - OpenCompass - \u001b[5m\u001b[4m\u001b[31mERROR\u001b[0m - /usr/local/miniconda3/envs/py310/lib/python3.10/site-packages/opencompass/runners/local.py - _launch - 236 - task OpenICLInfer[Qwen3-8B/lukaemon_mmlu_public_relations] fail, see\n",
      "outputs/qwen3_eval_result/20250603_073810/logs/infer/Qwen3-8B/lukaemon_mmlu_public_relations.out\n"
     ]
    },
    {
     "name": "stderr",
     "output_type": "stream",
     "text": [
      "                                               \n",
      "  5%|▌         | 6/111 [13:11<12:47,  7.31s/it] "
     ]
    },
    {
     "name": "stdout",
     "output_type": "stream",
     "text": [
      "launch OpenICLInfer[Qwen3-8B/lukaemon_mmlu_high_school_computer_science] on CPU \n"
     ]
    },
    {
     "name": "stderr",
     "output_type": "stream",
     "text": [
      "                                               \n",
      "  5%|▌         | 6/111 [13:22<12:47,  7.31s/it] "
     ]
    },
    {
     "name": "stdout",
     "output_type": "stream",
     "text": [
      "launch OpenICLInfer[Qwen3-8B/lukaemon_mmlu_high_school_european_history] on CPU \n",
      "06/03 07:50:41 - OpenCompass - \u001b[5m\u001b[4m\u001b[31mERROR\u001b[0m - /usr/local/miniconda3/envs/py310/lib/python3.10/site-packages/opencompass/runners/local.py - _launch - 236 - task OpenICLInfer[Qwen3-8B/lukaemon_mmlu_human_sexuality] fail, see\n",
      "outputs/qwen3_eval_result/20250603_073810/logs/infer/Qwen3-8B/lukaemon_mmlu_human_sexuality.out\n"
     ]
    },
    {
     "name": "stderr",
     "output_type": "stream",
     "text": [
      "                                               \n",
      "  5%|▌         | 6/111 [13:31<12:47,  7.31s/it] "
     ]
    },
    {
     "name": "stdout",
     "output_type": "stream",
     "text": [
      "launch OpenICLInfer[Qwen3-8B/lukaemon_mmlu_business_ethics] on CPU \n"
     ]
    },
    {
     "name": "stderr",
     "output_type": "stream",
     "text": [
      "                                               \n",
      "  5%|▌         | 6/111 [14:19<12:47,  7.31s/it] "
     ]
    },
    {
     "name": "stdout",
     "output_type": "stream",
     "text": [
      "launch OpenICLInfer[Qwen3-8B/lukaemon_mmlu_moral_disputes] on CPU \n"
     ]
    },
    {
     "name": "stderr",
     "output_type": "stream",
     "text": [
      "                                               \n",
      "  5%|▌         | 6/111 [14:21<12:47,  7.31s/it] "
     ]
    },
    {
     "name": "stdout",
     "output_type": "stream",
     "text": [
      "launch OpenICLInfer[Qwen3-8B/lukaemon_mmlu_high_school_statistics] on CPU \n",
      "06/03 07:51:35 - OpenCompass - \u001b[5m\u001b[4m\u001b[31mERROR\u001b[0m - /usr/local/miniconda3/envs/py310/lib/python3.10/site-packages/opencompass/runners/local.py - _launch - 236 - task OpenICLInfer[Qwen3-8B/lukaemon_mmlu_high_school_physics] fail, see\n",
      "outputs/qwen3_eval_result/20250603_073810/logs/infer/Qwen3-8B/lukaemon_mmlu_high_school_physics.out\n"
     ]
    },
    {
     "name": "stderr",
     "output_type": "stream",
     "text": [
      "                                               \n",
      "  5%|▌         | 6/111 [14:24<12:47,  7.31s/it] "
     ]
    },
    {
     "name": "stdout",
     "output_type": "stream",
     "text": [
      "launch OpenICLInfer[Qwen3-8B/lukaemon_mmlu_miscellaneous] on CPU \n"
     ]
    },
    {
     "name": "stderr",
     "output_type": "stream",
     "text": [
      "                                               \n",
      "  5%|▌         | 6/111 [14:43<12:47,  7.31s/it] "
     ]
    },
    {
     "name": "stdout",
     "output_type": "stream",
     "text": [
      "launch OpenICLInfer[Qwen3-8B/lukaemon_mmlu_formal_logic] on CPU \n"
     ]
    },
    {
     "name": "stderr",
     "output_type": "stream",
     "text": [
      "                                               \n",
      "  5%|▌         | 6/111 [15:01<12:47,  7.31s/it] "
     ]
    },
    {
     "name": "stdout",
     "output_type": "stream",
     "text": [
      "launch OpenICLInfer[Qwen3-8B/lukaemon_mmlu_high_school_government_and_politics] on CPU \n",
      "06/03 07:52:48 - OpenCompass - \u001b[5m\u001b[4m\u001b[31mERROR\u001b[0m - /usr/local/miniconda3/envs/py310/lib/python3.10/site-packages/opencompass/runners/local.py - _launch - 236 - task OpenICLInfer[Qwen3-8B/lukaemon_mmlu_high_school_statistics] fail, see\n",
      "outputs/qwen3_eval_result/20250603_073810/logs/infer/Qwen3-8B/lukaemon_mmlu_high_school_statistics.out\n"
     ]
    },
    {
     "name": "stderr",
     "output_type": "stream",
     "text": [
      "                                               \n",
      "  5%|▌         | 6/111 [15:38<12:47,  7.31s/it] "
     ]
    },
    {
     "name": "stdout",
     "output_type": "stream",
     "text": [
      "launch OpenICLInfer[Qwen3-8B/lukaemon_mmlu_prehistory] on CPU \n",
      "06/03 07:52:51 - OpenCompass - \u001b[5m\u001b[4m\u001b[31mERROR\u001b[0m - /usr/local/miniconda3/envs/py310/lib/python3.10/site-packages/opencompass/runners/local.py - _launch - 236 - task OpenICLInfer[Qwen3-8B/lukaemon_mmlu_miscellaneous] fail, see\n",
      "outputs/qwen3_eval_result/20250603_073810/logs/infer/Qwen3-8B/lukaemon_mmlu_miscellaneous.out\n"
     ]
    },
    {
     "name": "stderr",
     "output_type": "stream",
     "text": [
      "                                               \n",
      "  5%|▌         | 6/111 [15:40<12:47,  7.31s/it] "
     ]
    },
    {
     "name": "stdout",
     "output_type": "stream",
     "text": [
      "launch OpenICLInfer[Qwen3-8B/lukaemon_mmlu_security_studies] on CPU \n",
      "06/03 07:53:08 - OpenCompass - \u001b[5m\u001b[4m\u001b[31mERROR\u001b[0m - /usr/local/miniconda3/envs/py310/lib/python3.10/site-packages/opencompass/runners/local.py - _launch - 236 - task OpenICLInfer[Qwen3-8B/lukaemon_mmlu_formal_logic] fail, see\n",
      "outputs/qwen3_eval_result/20250603_073810/logs/infer/Qwen3-8B/lukaemon_mmlu_formal_logic.out\n"
     ]
    },
    {
     "name": "stderr",
     "output_type": "stream",
     "text": [
      "                                               \n",
      "  5%|▌         | 6/111 [15:58<12:47,  7.31s/it] "
     ]
    },
    {
     "name": "stdout",
     "output_type": "stream",
     "text": [
      "launch OpenICLInfer[Qwen3-8B/lukaemon_mmlu_high_school_biology] on CPU \n"
     ]
    },
    {
     "name": "stderr",
     "output_type": "stream",
     "text": [
      "                                               \n",
      "  5%|▌         | 6/111 [16:09<12:47,  7.31s/it] "
     ]
    },
    {
     "name": "stdout",
     "output_type": "stream",
     "text": [
      "launch OpenICLInfer[Qwen3-8B/lukaemon_mmlu_logical_fallacies] on CPU \n"
     ]
    },
    {
     "name": "stderr",
     "output_type": "stream",
     "text": [
      "                                               \n",
      "  5%|▌         | 6/111 [16:25<12:47,  7.31s/it] "
     ]
    },
    {
     "name": "stdout",
     "output_type": "stream",
     "text": [
      "launch OpenICLInfer[Qwen3-8B/lukaemon_mmlu_high_school_world_history] on CPU \n"
     ]
    },
    {
     "name": "stderr",
     "output_type": "stream",
     "text": [
      "                                               \n",
      "  5%|▌         | 6/111 [16:28<12:47,  7.31s/it] "
     ]
    },
    {
     "name": "stdout",
     "output_type": "stream",
     "text": [
      "launch OpenICLInfer[Qwen3-8B/lukaemon_mmlu_professional_medicine] on CPU \n"
     ]
    },
    {
     "name": "stderr",
     "output_type": "stream",
     "text": [
      "                                               \n",
      "  5%|▌         | 6/111 [17:01<12:47,  7.31s/it] "
     ]
    },
    {
     "name": "stdout",
     "output_type": "stream",
     "text": [
      "launch OpenICLInfer[Qwen3-8B/lukaemon_mmlu_high_school_mathematics] on CPU \n"
     ]
    },
    {
     "name": "stderr",
     "output_type": "stream",
     "text": [
      "                                               \n",
      "  5%|▌         | 6/111 [17:02<12:47,  7.31s/it]  "
     ]
    },
    {
     "name": "stdout",
     "output_type": "stream",
     "text": [
      "launch OpenICLInfer[Qwen3-8B/lukaemon_mmlu_college_medicine] on CPU \n",
      "06/03 07:54:34 - OpenCompass - \u001b[5m\u001b[4m\u001b[31mERROR\u001b[0m - /usr/local/miniconda3/envs/py310/lib/python3.10/site-packages/opencompass/runners/local.py - _launch - 236 - task OpenICLInfer[Qwen3-8B/lukaemon_mmlu_logical_fallacies] fail, see\n",
      "outputs/qwen3_eval_result/20250603_073810/logs/infer/Qwen3-8B/lukaemon_mmlu_logical_fallacies.out\n"
     ]
    },
    {
     "name": "stderr",
     "output_type": "stream",
     "text": [
      "                                               \n",
      "  5%|▌         | 6/111 [17:24<12:47,  7.31s/it]  "
     ]
    },
    {
     "name": "stdout",
     "output_type": "stream",
     "text": [
      "launch OpenICLInfer[Qwen3-8B/lukaemon_mmlu_high_school_us_history] on CPU \n"
     ]
    },
    {
     "name": "stderr",
     "output_type": "stream",
     "text": [
      "                                               \n",
      "  5%|▌         | 6/111 [17:51<12:47,  7.31s/it]  "
     ]
    },
    {
     "name": "stdout",
     "output_type": "stream",
     "text": [
      "launch OpenICLInfer[Qwen3-8B/lukaemon_mmlu_sociology] on CPU \n",
      "06/03 07:56:01 - OpenCompass - \u001b[5m\u001b[4m\u001b[31mERROR\u001b[0m - /usr/local/miniconda3/envs/py310/lib/python3.10/site-packages/opencompass/runners/local.py - _launch - 236 - task OpenICLInfer[Qwen3-8B/lukaemon_mmlu_college_medicine] fail, see\n",
      "outputs/qwen3_eval_result/20250603_073810/logs/infer/Qwen3-8B/lukaemon_mmlu_college_medicine.out\n"
     ]
    },
    {
     "name": "stderr",
     "output_type": "stream",
     "text": [
      "                                               \n",
      "                                                 \n",
      "  5%|▌         | 6/111 [18:51<12:47,  7.31s/it]  "
     ]
    },
    {
     "name": "stdout",
     "output_type": "stream",
     "text": [
      "launch OpenICLInfer[Qwen3-8B/lukaemon_mmlu_econometrics] on CPU \n",
      "launch OpenICLInfer[Qwen3-8B/lukaemon_mmlu_high_school_psychology] on CPU \n",
      "06/03 07:56:01 - OpenCompass - \u001b[5m\u001b[4m\u001b[31mERROR\u001b[0m - /usr/local/miniconda3/envs/py310/lib/python3.10/site-packages/opencompass/runners/local.py - _launch - 236 - task OpenICLInfer[Qwen3-8B/lukaemon_mmlu_high_school_mathematics] fail, see\n",
      "outputs/qwen3_eval_result/20250603_073810/logs/infer/Qwen3-8B/lukaemon_mmlu_high_school_mathematics.out\n"
     ]
    },
    {
     "name": "stderr",
     "output_type": "stream",
     "text": [
      "                                               \n",
      "  5%|▌         | 6/111 [18:51<12:47,  7.31s/it]  "
     ]
    },
    {
     "name": "stdout",
     "output_type": "stream",
     "text": [
      "launch OpenICLInfer[Qwen3-8B/lukaemon_mmlu_human_aging] on CPU \n"
     ]
    },
    {
     "name": "stderr",
     "output_type": "stream",
     "text": [
      "                                               \n",
      "  5%|▌         | 6/111 [19:02<12:47,  7.31s/it]  "
     ]
    },
    {
     "name": "stdout",
     "output_type": "stream",
     "text": [
      "launch OpenICLInfer[Qwen3-8B/lukaemon_mmlu_us_foreign_policy] on CPU \n"
     ]
    },
    {
     "name": "stderr",
     "output_type": "stream",
     "text": [
      "                                               \n",
      "  5%|▌         | 6/111 [19:25<12:47,  7.31s/it]  "
     ]
    },
    {
     "name": "stdout",
     "output_type": "stream",
     "text": [
      "launch OpenICLInfer[Qwen3-8B/lukaemon_mmlu_conceptual_physics] on CPU \n"
     ]
    },
    {
     "name": "stderr",
     "output_type": "stream",
     "text": []
    },
    {
     "name": "stdout",
     "output_type": "stream",
     "text": [
      "06/03 07:57:14 - OpenCompass - \u001b[5m\u001b[4m\u001b[31mERROR\u001b[0m - /usr/local/miniconda3/envs/py310/lib/python3.10/site-packages/opencompass/runners/local.py - _launch - 236 - task OpenICLInfer[Qwen3-8B/lukaemon_mmlu_econometrics] fail, see\n",
      "outputs/qwen3_eval_result/20250603_073810/logs/infer/Qwen3-8B/lukaemon_mmlu_econometrics.out\n"
     ]
    },
    {
     "name": "stderr",
     "output_type": "stream",
     "text": []
    },
    {
     "name": "stdout",
     "output_type": "stream",
     "text": [
      "06/03 07:57:38 - OpenCompass - \u001b[5m\u001b[4m\u001b[31mERROR\u001b[0m - /usr/local/miniconda3/envs/py310/lib/python3.10/site-packages/opencompass/runners/local.py - _launch - 236 - task OpenICLInfer[Qwen3-8B/lukaemon_mmlu_conceptual_physics] fail, see\n",
      "outputs/qwen3_eval_result/20250603_073810/logs/infer/Qwen3-8B/lukaemon_mmlu_conceptual_physics.out\n"
     ]
    },
    {
     "name": "stderr",
     "output_type": "stream",
     "text": [
      "100%|██████████| 111/111 [19:17<00:00, 10.43s/it]"
     ]
    },
    {
     "name": "stdout",
     "output_type": "stream",
     "text": [
      "06/03 07:57:38 - OpenCompass - \u001b[5m\u001b[4m\u001b[31mERROR\u001b[0m - /usr/local/miniconda3/envs/py310/lib/python3.10/site-packages/opencompass/runners/base.py - summarize - 64 - OpenICLInfer[Qwen3-8B/ceval-computer_network] failed with code 1\n",
      "06/03 07:57:38 - OpenCompass - \u001b[5m\u001b[4m\u001b[31mERROR\u001b[0m - /usr/local/miniconda3/envs/py310/lib/python3.10/site-packages/opencompass/runners/base.py - summarize - 64 - OpenICLInfer[Qwen3-8B/ceval-operating_system] failed with code 1\n",
      "06/03 07:57:38 - OpenCompass - \u001b[5m\u001b[4m\u001b[31mERROR\u001b[0m - /usr/local/miniconda3/envs/py310/lib/python3.10/site-packages/opencompass/runners/base.py - summarize - 64 - OpenICLInfer[Qwen3-8B/ceval-computer_architecture] failed with code 1\n",
      "06/03 07:57:38 - OpenCompass - \u001b[5m\u001b[4m\u001b[31mERROR\u001b[0m - /usr/local/miniconda3/envs/py310/lib/python3.10/site-packages/opencompass/runners/base.py - summarize - 64 - OpenICLInfer[Qwen3-8B/ceval-college_programming] failed with code 1\n",
      "06/03 07:57:38 - OpenCompass - \u001b[5m\u001b[4m\u001b[31mERROR\u001b[0m - /usr/local/miniconda3/envs/py310/lib/python3.10/site-packages/opencompass/runners/base.py - summarize - 64 - OpenICLInfer[Qwen3-8B/ceval-college_physics] failed with code 1\n",
      "06/03 07:57:38 - OpenCompass - \u001b[5m\u001b[4m\u001b[31mERROR\u001b[0m - /usr/local/miniconda3/envs/py310/lib/python3.10/site-packages/opencompass/runners/base.py - summarize - 64 - OpenICLInfer[Qwen3-8B/ceval-college_chemistry] failed with code 1\n",
      "06/03 07:57:38 - OpenCompass - \u001b[5m\u001b[4m\u001b[31mERROR\u001b[0m - /usr/local/miniconda3/envs/py310/lib/python3.10/site-packages/opencompass/runners/base.py - summarize - 64 - OpenICLInfer[Qwen3-8B/ceval-advanced_mathematics] failed with code 1\n",
      "06/03 07:57:38 - OpenCompass - \u001b[5m\u001b[4m\u001b[31mERROR\u001b[0m - /usr/local/miniconda3/envs/py310/lib/python3.10/site-packages/opencompass/runners/base.py - summarize - 64 - OpenICLInfer[Qwen3-8B/ceval-probability_and_statistics] failed with code 1\n",
      "06/03 07:57:38 - OpenCompass - \u001b[5m\u001b[4m\u001b[31mERROR\u001b[0m - /usr/local/miniconda3/envs/py310/lib/python3.10/site-packages/opencompass/runners/base.py - summarize - 64 - OpenICLInfer[Qwen3-8B/ceval-discrete_mathematics] failed with code 1\n",
      "06/03 07:57:38 - OpenCompass - \u001b[5m\u001b[4m\u001b[31mERROR\u001b[0m - /usr/local/miniconda3/envs/py310/lib/python3.10/site-packages/opencompass/runners/base.py - summarize - 64 - OpenICLInfer[Qwen3-8B/ceval-electrical_engineer] failed with code 1\n",
      "06/03 07:57:38 - OpenCompass - \u001b[5m\u001b[4m\u001b[31mERROR\u001b[0m - /usr/local/miniconda3/envs/py310/lib/python3.10/site-packages/opencompass/runners/base.py - summarize - 64 - OpenICLInfer[Qwen3-8B/ceval-metrology_engineer] failed with code 1\n",
      "06/03 07:57:38 - OpenCompass - \u001b[5m\u001b[4m\u001b[31mERROR\u001b[0m - /usr/local/miniconda3/envs/py310/lib/python3.10/site-packages/opencompass/runners/base.py - summarize - 64 - OpenICLInfer[Qwen3-8B/ceval-high_school_mathematics] failed with code 1\n",
      "06/03 07:57:38 - OpenCompass - \u001b[5m\u001b[4m\u001b[31mERROR\u001b[0m - /usr/local/miniconda3/envs/py310/lib/python3.10/site-packages/opencompass/runners/base.py - summarize - 64 - OpenICLInfer[Qwen3-8B/ceval-high_school_physics] failed with code 1\n",
      "06/03 07:57:38 - OpenCompass - \u001b[5m\u001b[4m\u001b[31mERROR\u001b[0m - /usr/local/miniconda3/envs/py310/lib/python3.10/site-packages/opencompass/runners/base.py - summarize - 64 - OpenICLInfer[Qwen3-8B/ceval-high_school_chemistry] failed with code 1\n",
      "06/03 07:57:38 - OpenCompass - \u001b[5m\u001b[4m\u001b[31mERROR\u001b[0m - /usr/local/miniconda3/envs/py310/lib/python3.10/site-packages/opencompass/runners/base.py - summarize - 64 - OpenICLInfer[Qwen3-8B/ceval-high_school_biology] failed with code 1\n",
      "06/03 07:57:38 - OpenCompass - \u001b[5m\u001b[4m\u001b[31mERROR\u001b[0m - /usr/local/miniconda3/envs/py310/lib/python3.10/site-packages/opencompass/runners/base.py - summarize - 64 - OpenICLInfer[Qwen3-8B/ceval-middle_school_mathematics] failed with code 1\n",
      "06/03 07:57:38 - OpenCompass - \u001b[5m\u001b[4m\u001b[31mERROR\u001b[0m - /usr/local/miniconda3/envs/py310/lib/python3.10/site-packages/opencompass/runners/base.py - summarize - 64 - OpenICLInfer[Qwen3-8B/ceval-middle_school_biology] failed with code 1\n",
      "06/03 07:57:38 - OpenCompass - \u001b[5m\u001b[4m\u001b[31mERROR\u001b[0m - /usr/local/miniconda3/envs/py310/lib/python3.10/site-packages/opencompass/runners/base.py - summarize - 64 - OpenICLInfer[Qwen3-8B/ceval-middle_school_physics] failed with code 1\n",
      "06/03 07:57:38 - OpenCompass - \u001b[5m\u001b[4m\u001b[31mERROR\u001b[0m - /usr/local/miniconda3/envs/py310/lib/python3.10/site-packages/opencompass/runners/base.py - summarize - 64 - OpenICLInfer[Qwen3-8B/ceval-middle_school_chemistry] failed with code 1\n",
      "06/03 07:57:38 - OpenCompass - \u001b[5m\u001b[4m\u001b[31mERROR\u001b[0m - /usr/local/miniconda3/envs/py310/lib/python3.10/site-packages/opencompass/runners/base.py - summarize - 64 - OpenICLInfer[Qwen3-8B/ceval-veterinary_medicine] failed with code 1\n",
      "06/03 07:57:38 - OpenCompass - \u001b[5m\u001b[4m\u001b[31mERROR\u001b[0m - /usr/local/miniconda3/envs/py310/lib/python3.10/site-packages/opencompass/runners/base.py - summarize - 64 - OpenICLInfer[Qwen3-8B/ceval-college_economics] failed with code 1\n",
      "06/03 07:57:38 - OpenCompass - \u001b[5m\u001b[4m\u001b[31mERROR\u001b[0m - /usr/local/miniconda3/envs/py310/lib/python3.10/site-packages/opencompass/runners/base.py - summarize - 64 - OpenICLInfer[Qwen3-8B/ceval-business_administration] failed with code 1\n",
      "06/03 07:57:38 - OpenCompass - \u001b[5m\u001b[4m\u001b[31mERROR\u001b[0m - /usr/local/miniconda3/envs/py310/lib/python3.10/site-packages/opencompass/runners/base.py - summarize - 64 - OpenICLInfer[Qwen3-8B/ceval-marxism] failed with code 1\n",
      "06/03 07:57:38 - OpenCompass - \u001b[5m\u001b[4m\u001b[31mERROR\u001b[0m - /usr/local/miniconda3/envs/py310/lib/python3.10/site-packages/opencompass/runners/base.py - summarize - 64 - OpenICLInfer[Qwen3-8B/ceval-mao_zedong_thought] failed with code 1\n",
      "06/03 07:57:38 - OpenCompass - \u001b[5m\u001b[4m\u001b[31mERROR\u001b[0m - /usr/local/miniconda3/envs/py310/lib/python3.10/site-packages/opencompass/runners/base.py - summarize - 64 - OpenICLInfer[Qwen3-8B/ceval-education_science] failed with code 1\n",
      "06/03 07:57:38 - OpenCompass - \u001b[5m\u001b[4m\u001b[31mERROR\u001b[0m - /usr/local/miniconda3/envs/py310/lib/python3.10/site-packages/opencompass/runners/base.py - summarize - 64 - OpenICLInfer[Qwen3-8B/ceval-teacher_qualification] failed with code 1\n",
      "06/03 07:57:38 - OpenCompass - \u001b[5m\u001b[4m\u001b[31mERROR\u001b[0m - /usr/local/miniconda3/envs/py310/lib/python3.10/site-packages/opencompass/runners/base.py - summarize - 64 - OpenICLInfer[Qwen3-8B/ceval-high_school_politics] failed with code 1\n",
      "06/03 07:57:38 - OpenCompass - \u001b[5m\u001b[4m\u001b[31mERROR\u001b[0m - /usr/local/miniconda3/envs/py310/lib/python3.10/site-packages/opencompass/runners/base.py - summarize - 64 - OpenICLInfer[Qwen3-8B/ceval-high_school_geography] failed with code 1\n",
      "06/03 07:57:38 - OpenCompass - \u001b[5m\u001b[4m\u001b[31mERROR\u001b[0m - /usr/local/miniconda3/envs/py310/lib/python3.10/site-packages/opencompass/runners/base.py - summarize - 64 - OpenICLInfer[Qwen3-8B/ceval-middle_school_politics] failed with code 1\n",
      "06/03 07:57:38 - OpenCompass - \u001b[5m\u001b[4m\u001b[31mERROR\u001b[0m - /usr/local/miniconda3/envs/py310/lib/python3.10/site-packages/opencompass/runners/base.py - summarize - 64 - OpenICLInfer[Qwen3-8B/ceval-middle_school_geography] failed with code 1\n",
      "06/03 07:57:38 - OpenCompass - \u001b[5m\u001b[4m\u001b[31mERROR\u001b[0m - /usr/local/miniconda3/envs/py310/lib/python3.10/site-packages/opencompass/runners/base.py - summarize - 64 - OpenICLInfer[Qwen3-8B/ceval-modern_chinese_history] failed with code 1\n",
      "06/03 07:57:38 - OpenCompass - \u001b[5m\u001b[4m\u001b[31mERROR\u001b[0m - /usr/local/miniconda3/envs/py310/lib/python3.10/site-packages/opencompass/runners/base.py - summarize - 64 - OpenICLInfer[Qwen3-8B/ceval-ideological_and_moral_cultivation] failed with code 1\n",
      "06/03 07:57:38 - OpenCompass - \u001b[5m\u001b[4m\u001b[31mERROR\u001b[0m - /usr/local/miniconda3/envs/py310/lib/python3.10/site-packages/opencompass/runners/base.py - summarize - 64 - OpenICLInfer[Qwen3-8B/ceval-logic] failed with code 1\n",
      "06/03 07:57:38 - OpenCompass - \u001b[5m\u001b[4m\u001b[31mERROR\u001b[0m - /usr/local/miniconda3/envs/py310/lib/python3.10/site-packages/opencompass/runners/base.py - summarize - 64 - OpenICLInfer[Qwen3-8B/ceval-law] failed with code 1\n",
      "06/03 07:57:38 - OpenCompass - \u001b[5m\u001b[4m\u001b[31mERROR\u001b[0m - /usr/local/miniconda3/envs/py310/lib/python3.10/site-packages/opencompass/runners/base.py - summarize - 64 - OpenICLInfer[Qwen3-8B/ceval-chinese_language_and_literature] failed with code 1\n",
      "06/03 07:57:38 - OpenCompass - \u001b[5m\u001b[4m\u001b[31mERROR\u001b[0m - /usr/local/miniconda3/envs/py310/lib/python3.10/site-packages/opencompass/runners/base.py - summarize - 64 - OpenICLInfer[Qwen3-8B/ceval-art_studies] failed with code 1\n",
      "06/03 07:57:38 - OpenCompass - \u001b[5m\u001b[4m\u001b[31mERROR\u001b[0m - /usr/local/miniconda3/envs/py310/lib/python3.10/site-packages/opencompass/runners/base.py - summarize - 64 - OpenICLInfer[Qwen3-8B/ceval-professional_tour_guide] failed with code 1\n",
      "06/03 07:57:38 - OpenCompass - \u001b[5m\u001b[4m\u001b[31mERROR\u001b[0m - /usr/local/miniconda3/envs/py310/lib/python3.10/site-packages/opencompass/runners/base.py - summarize - 64 - OpenICLInfer[Qwen3-8B/ceval-legal_professional] failed with code 1\n",
      "06/03 07:57:38 - OpenCompass - \u001b[5m\u001b[4m\u001b[31mERROR\u001b[0m - /usr/local/miniconda3/envs/py310/lib/python3.10/site-packages/opencompass/runners/base.py - summarize - 64 - OpenICLInfer[Qwen3-8B/ceval-high_school_chinese] failed with code 1\n",
      "06/03 07:57:38 - OpenCompass - \u001b[5m\u001b[4m\u001b[31mERROR\u001b[0m - /usr/local/miniconda3/envs/py310/lib/python3.10/site-packages/opencompass/runners/base.py - summarize - 64 - OpenICLInfer[Qwen3-8B/ceval-high_school_history] failed with code 1\n",
      "06/03 07:57:38 - OpenCompass - \u001b[5m\u001b[4m\u001b[31mERROR\u001b[0m - /usr/local/miniconda3/envs/py310/lib/python3.10/site-packages/opencompass/runners/base.py - summarize - 64 - OpenICLInfer[Qwen3-8B/ceval-middle_school_history] failed with code 1\n",
      "06/03 07:57:38 - OpenCompass - \u001b[5m\u001b[4m\u001b[31mERROR\u001b[0m - /usr/local/miniconda3/envs/py310/lib/python3.10/site-packages/opencompass/runners/base.py - summarize - 64 - OpenICLInfer[Qwen3-8B/ceval-civil_servant] failed with code 1\n",
      "06/03 07:57:38 - OpenCompass - \u001b[5m\u001b[4m\u001b[31mERROR\u001b[0m - /usr/local/miniconda3/envs/py310/lib/python3.10/site-packages/opencompass/runners/base.py - summarize - 64 - OpenICLInfer[Qwen3-8B/ceval-sports_science] failed with code 1\n",
      "06/03 07:57:38 - OpenCompass - \u001b[5m\u001b[4m\u001b[31mERROR\u001b[0m - /usr/local/miniconda3/envs/py310/lib/python3.10/site-packages/opencompass/runners/base.py - summarize - 64 - OpenICLInfer[Qwen3-8B/ceval-plant_protection] failed with code 1\n",
      "06/03 07:57:38 - OpenCompass - \u001b[5m\u001b[4m\u001b[31mERROR\u001b[0m - /usr/local/miniconda3/envs/py310/lib/python3.10/site-packages/opencompass/runners/base.py - summarize - 64 - OpenICLInfer[Qwen3-8B/ceval-basic_medicine] failed with code 1\n",
      "06/03 07:57:38 - OpenCompass - \u001b[5m\u001b[4m\u001b[31mERROR\u001b[0m - /usr/local/miniconda3/envs/py310/lib/python3.10/site-packages/opencompass/runners/base.py - summarize - 64 - OpenICLInfer[Qwen3-8B/ceval-clinical_medicine] failed with code 1\n",
      "06/03 07:57:38 - OpenCompass - \u001b[5m\u001b[4m\u001b[31mERROR\u001b[0m - /usr/local/miniconda3/envs/py310/lib/python3.10/site-packages/opencompass/runners/base.py - summarize - 64 - OpenICLInfer[Qwen3-8B/ceval-urban_and_rural_planner] failed with code 1\n",
      "06/03 07:57:38 - OpenCompass - \u001b[5m\u001b[4m\u001b[31mERROR\u001b[0m - /usr/local/miniconda3/envs/py310/lib/python3.10/site-packages/opencompass/runners/base.py - summarize - 64 - OpenICLInfer[Qwen3-8B/ceval-accountant] failed with code 1\n",
      "06/03 07:57:38 - OpenCompass - \u001b[5m\u001b[4m\u001b[31mERROR\u001b[0m - /usr/local/miniconda3/envs/py310/lib/python3.10/site-packages/opencompass/runners/base.py - summarize - 64 - OpenICLInfer[Qwen3-8B/ceval-fire_engineer] failed with code 1\n",
      "06/03 07:57:38 - OpenCompass - \u001b[5m\u001b[4m\u001b[31mERROR\u001b[0m - /usr/local/miniconda3/envs/py310/lib/python3.10/site-packages/opencompass/runners/base.py - summarize - 64 - OpenICLInfer[Qwen3-8B/ceval-environmental_impact_assessment_engineer] failed with code 1\n",
      "06/03 07:57:38 - OpenCompass - \u001b[5m\u001b[4m\u001b[31mERROR\u001b[0m - /usr/local/miniconda3/envs/py310/lib/python3.10/site-packages/opencompass/runners/base.py - summarize - 64 - OpenICLInfer[Qwen3-8B/ceval-tax_accountant] failed with code 1\n",
      "06/03 07:57:38 - OpenCompass - \u001b[5m\u001b[4m\u001b[31mERROR\u001b[0m - /usr/local/miniconda3/envs/py310/lib/python3.10/site-packages/opencompass/runners/base.py - summarize - 64 - OpenICLInfer[Qwen3-8B/ceval-physician] failed with code 1\n",
      "06/03 07:57:38 - OpenCompass - \u001b[5m\u001b[4m\u001b[31mERROR\u001b[0m - /usr/local/miniconda3/envs/py310/lib/python3.10/site-packages/opencompass/runners/base.py - summarize - 64 - OpenICLInfer[Qwen3-8B/gsm8k] failed with code 1\n",
      "06/03 07:57:38 - OpenCompass - \u001b[5m\u001b[4m\u001b[31mERROR\u001b[0m - /usr/local/miniconda3/envs/py310/lib/python3.10/site-packages/opencompass/runners/base.py - summarize - 64 - OpenICLInfer[Qwen3-8B/lukaemon_mmlu_college_chemistry] failed with code 1\n",
      "06/03 07:57:38 - OpenCompass - \u001b[5m\u001b[4m\u001b[31mERROR\u001b[0m - /usr/local/miniconda3/envs/py310/lib/python3.10/site-packages/opencompass/runners/base.py - summarize - 64 - OpenICLInfer[Qwen3-8B/lukaemon_mmlu_college_computer_science] failed with code 1\n",
      "06/03 07:57:38 - OpenCompass - \u001b[5m\u001b[4m\u001b[31mERROR\u001b[0m - /usr/local/miniconda3/envs/py310/lib/python3.10/site-packages/opencompass/runners/base.py - summarize - 64 - OpenICLInfer[Qwen3-8B/lukaemon_mmlu_college_mathematics] failed with code 1\n",
      "06/03 07:57:38 - OpenCompass - \u001b[5m\u001b[4m\u001b[31mERROR\u001b[0m - /usr/local/miniconda3/envs/py310/lib/python3.10/site-packages/opencompass/runners/base.py - summarize - 64 - OpenICLInfer[Qwen3-8B/lukaemon_mmlu_college_physics] failed with code 1\n",
      "06/03 07:57:38 - OpenCompass - \u001b[5m\u001b[4m\u001b[31mERROR\u001b[0m - /usr/local/miniconda3/envs/py310/lib/python3.10/site-packages/opencompass/runners/base.py - summarize - 64 - OpenICLInfer[Qwen3-8B/lukaemon_mmlu_electrical_engineering] failed with code 1\n",
      "06/03 07:57:38 - OpenCompass - \u001b[5m\u001b[4m\u001b[31mERROR\u001b[0m - /usr/local/miniconda3/envs/py310/lib/python3.10/site-packages/opencompass/runners/base.py - summarize - 64 - OpenICLInfer[Qwen3-8B/lukaemon_mmlu_anatomy] failed with code 1\n",
      "06/03 07:57:38 - OpenCompass - \u001b[5m\u001b[4m\u001b[31mERROR\u001b[0m - /usr/local/miniconda3/envs/py310/lib/python3.10/site-packages/opencompass/runners/base.py - summarize - 64 - OpenICLInfer[Qwen3-8B/lukaemon_mmlu_abstract_algebra] failed with code 1\n",
      "06/03 07:57:38 - OpenCompass - \u001b[5m\u001b[4m\u001b[31mERROR\u001b[0m - /usr/local/miniconda3/envs/py310/lib/python3.10/site-packages/opencompass/runners/base.py - summarize - 64 - OpenICLInfer[Qwen3-8B/lukaemon_mmlu_machine_learning] failed with code 1\n",
      "06/03 07:57:38 - OpenCompass - \u001b[5m\u001b[4m\u001b[31mERROR\u001b[0m - /usr/local/miniconda3/envs/py310/lib/python3.10/site-packages/opencompass/runners/base.py - summarize - 64 - OpenICLInfer[Qwen3-8B/lukaemon_mmlu_nutrition] failed with code 1\n",
      "06/03 07:57:38 - OpenCompass - \u001b[5m\u001b[4m\u001b[31mERROR\u001b[0m - /usr/local/miniconda3/envs/py310/lib/python3.10/site-packages/opencompass/runners/base.py - summarize - 64 - OpenICLInfer[Qwen3-8B/lukaemon_mmlu_professional_accounting] failed with code 1\n",
      "06/03 07:57:38 - OpenCompass - \u001b[5m\u001b[4m\u001b[31mERROR\u001b[0m - /usr/local/miniconda3/envs/py310/lib/python3.10/site-packages/opencompass/runners/base.py - summarize - 64 - OpenICLInfer[Qwen3-8B/lukaemon_mmlu_international_law] failed with code 1\n",
      "06/03 07:57:38 - OpenCompass - \u001b[5m\u001b[4m\u001b[31mERROR\u001b[0m - /usr/local/miniconda3/envs/py310/lib/python3.10/site-packages/opencompass/runners/base.py - summarize - 64 - OpenICLInfer[Qwen3-8B/lukaemon_mmlu_high_school_microeconomics] failed with code 1\n",
      "06/03 07:57:38 - OpenCompass - \u001b[5m\u001b[4m\u001b[31mERROR\u001b[0m - /usr/local/miniconda3/envs/py310/lib/python3.10/site-packages/opencompass/runners/base.py - summarize - 64 - OpenICLInfer[Qwen3-8B/lukaemon_mmlu_high_school_chemistry] failed with code 1\n",
      "06/03 07:57:38 - OpenCompass - \u001b[5m\u001b[4m\u001b[31mERROR\u001b[0m - /usr/local/miniconda3/envs/py310/lib/python3.10/site-packages/opencompass/runners/base.py - summarize - 64 - OpenICLInfer[Qwen3-8B/lukaemon_mmlu_public_relations] failed with code 1\n",
      "06/03 07:57:38 - OpenCompass - \u001b[5m\u001b[4m\u001b[31mERROR\u001b[0m - /usr/local/miniconda3/envs/py310/lib/python3.10/site-packages/opencompass/runners/base.py - summarize - 64 - OpenICLInfer[Qwen3-8B/lukaemon_mmlu_human_sexuality] failed with code 1\n",
      "06/03 07:57:38 - OpenCompass - \u001b[5m\u001b[4m\u001b[31mERROR\u001b[0m - /usr/local/miniconda3/envs/py310/lib/python3.10/site-packages/opencompass/runners/base.py - summarize - 64 - OpenICLInfer[Qwen3-8B/lukaemon_mmlu_high_school_physics] failed with code 1\n",
      "06/03 07:57:38 - OpenCompass - \u001b[5m\u001b[4m\u001b[31mERROR\u001b[0m - /usr/local/miniconda3/envs/py310/lib/python3.10/site-packages/opencompass/runners/base.py - summarize - 64 - OpenICLInfer[Qwen3-8B/lukaemon_mmlu_high_school_statistics] failed with code 1\n",
      "06/03 07:57:38 - OpenCompass - \u001b[5m\u001b[4m\u001b[31mERROR\u001b[0m - /usr/local/miniconda3/envs/py310/lib/python3.10/site-packages/opencompass/runners/base.py - summarize - 64 - OpenICLInfer[Qwen3-8B/lukaemon_mmlu_miscellaneous] failed with code 1\n",
      "06/03 07:57:38 - OpenCompass - \u001b[5m\u001b[4m\u001b[31mERROR\u001b[0m - /usr/local/miniconda3/envs/py310/lib/python3.10/site-packages/opencompass/runners/base.py - summarize - 64 - OpenICLInfer[Qwen3-8B/lukaemon_mmlu_formal_logic] failed with code 1\n",
      "06/03 07:57:38 - OpenCompass - \u001b[5m\u001b[4m\u001b[31mERROR\u001b[0m - /usr/local/miniconda3/envs/py310/lib/python3.10/site-packages/opencompass/runners/base.py - summarize - 64 - OpenICLInfer[Qwen3-8B/lukaemon_mmlu_logical_fallacies] failed with code 1\n",
      "06/03 07:57:38 - OpenCompass - \u001b[5m\u001b[4m\u001b[31mERROR\u001b[0m - /usr/local/miniconda3/envs/py310/lib/python3.10/site-packages/opencompass/runners/base.py - summarize - 64 - OpenICLInfer[Qwen3-8B/lukaemon_mmlu_high_school_mathematics] failed with code 1\n",
      "06/03 07:57:38 - OpenCompass - \u001b[5m\u001b[4m\u001b[31mERROR\u001b[0m - /usr/local/miniconda3/envs/py310/lib/python3.10/site-packages/opencompass/runners/base.py - summarize - 64 - OpenICLInfer[Qwen3-8B/lukaemon_mmlu_college_medicine] failed with code 1\n",
      "06/03 07:57:38 - OpenCompass - \u001b[5m\u001b[4m\u001b[31mERROR\u001b[0m - /usr/local/miniconda3/envs/py310/lib/python3.10/site-packages/opencompass/runners/base.py - summarize - 64 - OpenICLInfer[Qwen3-8B/lukaemon_mmlu_econometrics] failed with code 1\n",
      "06/03 07:57:38 - OpenCompass - \u001b[5m\u001b[4m\u001b[31mERROR\u001b[0m - /usr/local/miniconda3/envs/py310/lib/python3.10/site-packages/opencompass/runners/base.py - summarize - 64 - OpenICLInfer[Qwen3-8B/lukaemon_mmlu_conceptual_physics] failed with code 1\n",
      "06/03 07:57:38 - OpenCompass - \u001b[4m\u001b[97mINFO\u001b[0m - Partitioned into 111 tasks.\n"
     ]
    },
    {
     "name": "stderr",
     "output_type": "stream",
     "text": [
      "\n",
      "                                               \n",
      "                                               \n",
      "\u001b[A                                    "
     ]
    },
    {
     "name": "stdout",
     "output_type": "stream",
     "text": [
      "launch OpenICLEval[Qwen3-8B/ARC-c] on CPU \n"
     ]
    },
    {
     "name": "stderr",
     "output_type": "stream",
     "text": [
      "                                               \n",
      "  5%|▌         | 6/111 [20:28<12:47,  7.31s/it]\n",
      "  0%|          | 0/111 [00:00<?, ?it/s]"
     ]
    },
    {
     "name": "stdout",
     "output_type": "stream",
     "text": [
      "launch OpenICLEval[Qwen3-8B/ceval-computer_network] on CPU \n",
      "launch OpenICLEval[Qwen3-8B/ceval-operating_system] on CPU \n"
     ]
    },
    {
     "name": "stderr",
     "output_type": "stream",
     "text": [
      "                                               \n",
      "  5%|▌         | 6/111 [20:28<12:47,  7.31s/it]"
     ]
    },
    {
     "name": "stdout",
     "output_type": "stream",
     "text": [
      "launch OpenICLEval[Qwen3-8B/ceval-computer_architecture] on CPU \n"
     ]
    },
    {
     "name": "stderr",
     "output_type": "stream",
     "text": [
      "                                               \n",
      "  5%|▌         | 6/111 [20:30<12:47,  7.31s/it]\n",
      "  0%|          | 0/111 [00:02<?, ?it/s]"
     ]
    },
    {
     "name": "stdout",
     "output_type": "stream",
     "text": [
      "launch OpenICLEval[Qwen3-8B/ceval-college_programming] on CPU \n"
     ]
    },
    {
     "name": "stderr",
     "output_type": "stream",
     "text": [
      "                                               \n",
      "  5%|▌         | 6/111 [20:31<12:47,  7.31s/it]"
     ]
    },
    {
     "name": "stdout",
     "output_type": "stream",
     "text": [
      "launch OpenICLEval[Qwen3-8B/ceval-college_physics] on CPU \n"
     ]
    },
    {
     "name": "stderr",
     "output_type": "stream",
     "text": [
      "                                               \n",
      "  5%|▌         | 6/111 [20:34<12:47,  7.31s/it]\n",
      "  0%|          | 0/111 [00:06<?, ?it/s]"
     ]
    },
    {
     "name": "stdout",
     "output_type": "stream",
     "text": [
      "launch OpenICLEval[Qwen3-8B/ceval-college_chemistry] on CPU \n"
     ]
    },
    {
     "name": "stderr",
     "output_type": "stream",
     "text": [
      "                                               \n",
      "  5%|▌         | 6/111 [20:35<12:47,  7.31s/it]"
     ]
    },
    {
     "name": "stdout",
     "output_type": "stream",
     "text": [
      "launch OpenICLEval[Qwen3-8B/ceval-advanced_mathematics] on CPU \n"
     ]
    },
    {
     "name": "stderr",
     "output_type": "stream",
     "text": [
      "                                               \n",
      "  5%|▌         | 6/111 [20:47<12:47,  7.31s/it]\n",
      "  1%|          | 1/111 [00:19<32:33, 17.76s/it]"
     ]
    },
    {
     "name": "stdout",
     "output_type": "stream",
     "text": [
      "launch OpenICLEval[Qwen3-8B/ceval-probability_and_statistics] on CPU \n"
     ]
    },
    {
     "name": "stderr",
     "output_type": "stream",
     "text": [
      "\u001b[A"
     ]
    },
    {
     "name": "stdout",
     "output_type": "stream",
     "text": [
      "06/03 07:58:06 - OpenCompass - \u001b[5m\u001b[4m\u001b[31mERROR\u001b[0m - /usr/local/miniconda3/envs/py310/lib/python3.10/site-packages/opencompass/runners/local.py - _launch - 236 - task OpenICLEval[Qwen3-8B/ceval-computer_network] fail, see\n",
      "outputs/qwen3_eval_result/20250603_073810/logs/eval/Qwen3-8B/ceval-computer_network.out\n"
     ]
    },
    {
     "name": "stderr",
     "output_type": "stream",
     "text": [
      "                                               \n",
      "  5%|▌         | 6/111 [20:56<12:47,  7.31s/it]"
     ]
    },
    {
     "name": "stdout",
     "output_type": "stream",
     "text": [
      "launch OpenICLEval[Qwen3-8B/ceval-discrete_mathematics] on CPU \n",
      "06/03 07:58:08 - OpenCompass - \u001b[5m\u001b[4m\u001b[31mERROR\u001b[0m - /usr/local/miniconda3/envs/py310/lib/python3.10/site-packages/opencompass/runners/local.py - _launch - 236 - task OpenICLEval[Qwen3-8B/ceval-operating_system] fail, see\n",
      "outputs/qwen3_eval_result/20250603_073810/logs/eval/Qwen3-8B/ceval-operating_system.out\n"
     ]
    },
    {
     "name": "stderr",
     "output_type": "stream",
     "text": [
      "                                               \n",
      "  5%|▌         | 6/111 [20:58<12:47,  7.31s/it]"
     ]
    },
    {
     "name": "stdout",
     "output_type": "stream",
     "text": [
      "launch OpenICLEval[Qwen3-8B/ceval-electrical_engineer] on CPU \n",
      "06/03 07:58:10 - OpenCompass - \u001b[5m\u001b[4m\u001b[31mERROR\u001b[0m - /usr/local/miniconda3/envs/py310/lib/python3.10/site-packages/opencompass/runners/local.py - _launch - 236 - task OpenICLEval[Qwen3-8B/ceval-computer_architecture] fail, see\n",
      "outputs/qwen3_eval_result/20250603_073810/logs/eval/Qwen3-8B/ceval-computer_architecture.out\n"
     ]
    },
    {
     "name": "stderr",
     "output_type": "stream",
     "text": [
      "                                               \n",
      "  5%|▌         | 6/111 [21:00<12:47,  7.31s/it]"
     ]
    },
    {
     "name": "stdout",
     "output_type": "stream",
     "text": [
      "launch OpenICLEval[Qwen3-8B/ceval-metrology_engineer] on CPU \n",
      "06/03 07:58:10 - OpenCompass - \u001b[5m\u001b[4m\u001b[31mERROR\u001b[0m - /usr/local/miniconda3/envs/py310/lib/python3.10/site-packages/opencompass/runners/local.py - _launch - 236 - task OpenICLEval[Qwen3-8B/ceval-college_programming] fail, see\n",
      "outputs/qwen3_eval_result/20250603_073810/logs/eval/Qwen3-8B/ceval-college_programming.out\n"
     ]
    },
    {
     "name": "stderr",
     "output_type": "stream",
     "text": [
      "                                               \n",
      "  5%|▌         | 6/111 [21:00<12:47,  7.31s/it]"
     ]
    },
    {
     "name": "stdout",
     "output_type": "stream",
     "text": [
      "launch OpenICLEval[Qwen3-8B/ceval-high_school_mathematics] on CPU \n",
      "06/03 07:58:13 - OpenCompass - \u001b[5m\u001b[4m\u001b[31mERROR\u001b[0m - /usr/local/miniconda3/envs/py310/lib/python3.10/site-packages/opencompass/runners/local.py - _launch - 236 - task OpenICLEval[Qwen3-8B/ceval-college_physics] fail, see\n",
      "outputs/qwen3_eval_result/20250603_073810/logs/eval/Qwen3-8B/ceval-college_physics.out\n"
     ]
    },
    {
     "name": "stderr",
     "output_type": "stream",
     "text": [
      "                                               \n",
      "  5%|▌         | 6/111 [21:04<12:47,  7.31s/it]"
     ]
    },
    {
     "name": "stdout",
     "output_type": "stream",
     "text": [
      "launch OpenICLEval[Qwen3-8B/ceval-high_school_physics] on CPU \n",
      "06/03 07:58:14 - OpenCompass - \u001b[5m\u001b[4m\u001b[31mERROR\u001b[0m - /usr/local/miniconda3/envs/py310/lib/python3.10/site-packages/opencompass/runners/local.py - _launch - 236 - task OpenICLEval[Qwen3-8B/ceval-college_chemistry] fail, see\n",
      "outputs/qwen3_eval_result/20250603_073810/logs/eval/Qwen3-8B/ceval-college_chemistry.out\n"
     ]
    },
    {
     "name": "stderr",
     "output_type": "stream",
     "text": [
      "\n",
      "  6%|▋         | 7/111 [00:36<04:39,  2.69s/it]"
     ]
    },
    {
     "name": "stdout",
     "output_type": "stream",
     "text": [
      "06/03 07:58:14 - OpenCompass - \u001b[5m\u001b[4m\u001b[31mERROR\u001b[0m - /usr/local/miniconda3/envs/py310/lib/python3.10/site-packages/opencompass/runners/local.py - _launch - 236 - task OpenICLEval[Qwen3-8B/ceval-advanced_mathematics] fail, see\n",
      "outputs/qwen3_eval_result/20250603_073810/logs/eval/Qwen3-8B/ceval-advanced_mathematics.out\n"
     ]
    },
    {
     "name": "stderr",
     "output_type": "stream",
     "text": [
      "                                               \n",
      "  5%|▌         | 6/111 [21:05<12:47,  7.31s/it]\n"
     ]
    },
    {
     "name": "stdout",
     "output_type": "stream",
     "text": [
      "launch OpenICLEval[Qwen3-8B/ceval-high_school_chemistry] on CPU \n",
      "06/03 07:58:15 - OpenCompass - \u001b[5m\u001b[4m\u001b[31mERROR\u001b[0m - /usr/local/miniconda3/envs/py310/lib/python3.10/site-packages/opencompass/runners/local.py - _launch - 236 - task OpenICLEval[Qwen3-8B/ceval-probability_and_statistics] fail, see\n",
      "outputs/qwen3_eval_result/20250603_073810/logs/eval/Qwen3-8B/ceval-probability_and_statistics.out\n"
     ]
    },
    {
     "name": "stderr",
     "output_type": "stream",
     "text": [
      "                                               \u001b[A\n",
      "  5%|▌         | 6/111 [21:06<12:47,  7.31s/it]"
     ]
    },
    {
     "name": "stdout",
     "output_type": "stream",
     "text": [
      "launch OpenICLEval[Qwen3-8B/ceval-high_school_biology] on CPU \n"
     ]
    },
    {
     "name": "stderr",
     "output_type": "stream",
     "text": [
      "                                               \n",
      "  5%|▌         | 6/111 [21:07<12:47,  7.31s/it]\n"
     ]
    },
    {
     "name": "stdout",
     "output_type": "stream",
     "text": [
      "launch OpenICLEval[Qwen3-8B/ceval-middle_school_mathematics] on CPU \n"
     ]
    },
    {
     "name": "stderr",
     "output_type": "stream",
     "text": [
      "  8%|▊         | 9/111 [00:40<02:32,  1.50s/it]\u001b[A"
     ]
    },
    {
     "name": "stdout",
     "output_type": "stream",
     "text": [
      "06/03 07:58:19 - OpenCompass - \u001b[5m\u001b[4m\u001b[31mERROR\u001b[0m - /usr/local/miniconda3/envs/py310/lib/python3.10/site-packages/opencompass/runners/local.py - _launch - 236 - task OpenICLEval[Qwen3-8B/ceval-discrete_mathematics] fail, see\n",
      "outputs/qwen3_eval_result/20250603_073810/logs/eval/Qwen3-8B/ceval-discrete_mathematics.out\n"
     ]
    },
    {
     "name": "stderr",
     "output_type": "stream",
     "text": [
      "                                               \n",
      "  5%|▌         | 6/111 [21:11<12:47,  7.31s/it] \n"
     ]
    },
    {
     "name": "stdout",
     "output_type": "stream",
     "text": [
      "launch OpenICLEval[Qwen3-8B/ceval-middle_school_biology] on CPU \n"
     ]
    },
    {
     "name": "stderr",
     "output_type": "stream",
     "text": [
      "  9%|▉         | 10/111 [00:44<03:41,  2.19s/it]\u001b[A"
     ]
    },
    {
     "name": "stdout",
     "output_type": "stream",
     "text": [
      "06/03 07:58:25 - OpenCompass - \u001b[5m\u001b[4m\u001b[31mERROR\u001b[0m - /usr/local/miniconda3/envs/py310/lib/python3.10/site-packages/opencompass/runners/local.py - _launch - 236 - task OpenICLEval[Qwen3-8B/ceval-electrical_engineer] fail, see\n",
      "outputs/qwen3_eval_result/20250603_073810/logs/eval/Qwen3-8B/ceval-electrical_engineer.out\n"
     ]
    },
    {
     "name": "stderr",
     "output_type": "stream",
     "text": [
      "                                               \n",
      "  5%|▌         | 6/111 [21:16<12:47,  7.31s/it] "
     ]
    },
    {
     "name": "stdout",
     "output_type": "stream",
     "text": [
      "launch OpenICLEval[Qwen3-8B/ceval-middle_school_physics] on CPU \n",
      "06/03 07:58:32 - OpenCompass - \u001b[5m\u001b[4m\u001b[31mERROR\u001b[0m - /usr/local/miniconda3/envs/py310/lib/python3.10/site-packages/opencompass/runners/local.py - _launch - 236 - task OpenICLEval[Qwen3-8B/ceval-metrology_engineer] fail, see\n",
      "outputs/qwen3_eval_result/20250603_073810/logs/eval/Qwen3-8B/ceval-metrology_engineer.out\n"
     ]
    },
    {
     "name": "stderr",
     "output_type": "stream",
     "text": [
      "                                               \n",
      "  5%|▌         | 6/111 [21:22<12:47,  7.31s/it] \n",
      " 11%|█         | 12/111 [00:54<07:00,  4.25s/it]"
     ]
    },
    {
     "name": "stdout",
     "output_type": "stream",
     "text": [
      "launch OpenICLEval[Qwen3-8B/ceval-middle_school_chemistry] on CPU \n",
      "06/03 07:58:32 - OpenCompass - \u001b[5m\u001b[4m\u001b[31mERROR\u001b[0m - /usr/local/miniconda3/envs/py310/lib/python3.10/site-packages/opencompass/runners/local.py - _launch - 236 - task OpenICLEval[Qwen3-8B/ceval-high_school_mathematics] fail, see\n",
      "outputs/qwen3_eval_result/20250603_073810/logs/eval/Qwen3-8B/ceval-high_school_mathematics.out\n"
     ]
    },
    {
     "name": "stderr",
     "output_type": "stream",
     "text": [
      "                                               \n",
      "  5%|▌         | 6/111 [21:23<12:47,  7.31s/it] "
     ]
    },
    {
     "name": "stdout",
     "output_type": "stream",
     "text": [
      "launch OpenICLEval[Qwen3-8B/ceval-veterinary_medicine] on CPU \n",
      "06/03 07:58:38 - OpenCompass - \u001b[5m\u001b[4m\u001b[31mERROR\u001b[0m - /usr/local/miniconda3/envs/py310/lib/python3.10/site-packages/opencompass/runners/local.py - _launch - 236 - task OpenICLEval[Qwen3-8B/ceval-high_school_physics] fail, see\n",
      "outputs/qwen3_eval_result/20250603_073810/logs/eval/Qwen3-8B/ceval-high_school_physics.out\n"
     ]
    },
    {
     "name": "stderr",
     "output_type": "stream",
     "text": [
      "                                               \n",
      "  5%|▌         | 6/111 [21:28<12:47,  7.31s/it] "
     ]
    },
    {
     "name": "stdout",
     "output_type": "stream",
     "text": [
      "launch OpenICLEval[Qwen3-8B/ceval-college_economics] on CPU \n",
      "06/03 07:58:40 - OpenCompass - \u001b[5m\u001b[4m\u001b[31mERROR\u001b[0m - /usr/local/miniconda3/envs/py310/lib/python3.10/site-packages/opencompass/runners/local.py - _launch - 236 - task OpenICLEval[Qwen3-8B/ceval-high_school_biology] fail, see\n",
      "outputs/qwen3_eval_result/20250603_073810/logs/eval/Qwen3-8B/ceval-high_school_biology.out\n"
     ]
    },
    {
     "name": "stderr",
     "output_type": "stream",
     "text": [
      "                                               \n",
      "  5%|▌         | 6/111 [21:30<12:47,  7.31s/it] "
     ]
    },
    {
     "name": "stdout",
     "output_type": "stream",
     "text": [
      "launch OpenICLEval[Qwen3-8B/ceval-business_administration] on CPU \n",
      "06/03 07:58:41 - OpenCompass - \u001b[5m\u001b[4m\u001b[31mERROR\u001b[0m - /usr/local/miniconda3/envs/py310/lib/python3.10/site-packages/opencompass/runners/local.py - _launch - 236 - task OpenICLEval[Qwen3-8B/ceval-high_school_chemistry] fail, see\n",
      "outputs/qwen3_eval_result/20250603_073810/logs/eval/Qwen3-8B/ceval-high_school_chemistry.out\n"
     ]
    },
    {
     "name": "stderr",
     "output_type": "stream",
     "text": [
      "                                               \n",
      "  5%|▌         | 6/111 [21:31<12:47,  7.31s/it] "
     ]
    },
    {
     "name": "stdout",
     "output_type": "stream",
     "text": [
      "launch OpenICLEval[Qwen3-8B/ceval-marxism] on CPU \n",
      "06/03 07:58:41 - OpenCompass - \u001b[5m\u001b[4m\u001b[31mERROR\u001b[0m - /usr/local/miniconda3/envs/py310/lib/python3.10/site-packages/opencompass/runners/local.py - _launch - 236 - task OpenICLEval[Qwen3-8B/ceval-middle_school_mathematics] fail, see\n",
      "outputs/qwen3_eval_result/20250603_073810/logs/eval/Qwen3-8B/ceval-middle_school_mathematics.out\n"
     ]
    },
    {
     "name": "stderr",
     "output_type": "stream",
     "text": [
      "                                               \n",
      "  5%|▌         | 6/111 [21:31<12:47,  7.31s/it] "
     ]
    },
    {
     "name": "stdout",
     "output_type": "stream",
     "text": [
      "launch OpenICLEval[Qwen3-8B/ceval-mao_zedong_thought] on CPU \n",
      "06/03 07:58:43 - OpenCompass - \u001b[5m\u001b[4m\u001b[31mERROR\u001b[0m - /usr/local/miniconda3/envs/py310/lib/python3.10/site-packages/opencompass/runners/local.py - _launch - 236 - task OpenICLEval[Qwen3-8B/ceval-middle_school_biology] fail, see\n",
      "outputs/qwen3_eval_result/20250603_073810/logs/eval/Qwen3-8B/ceval-middle_school_biology.out\n"
     ]
    },
    {
     "name": "stderr",
     "output_type": "stream",
     "text": [
      "                                               \n",
      "  5%|▌         | 6/111 [21:34<12:47,  7.31s/it] "
     ]
    },
    {
     "name": "stdout",
     "output_type": "stream",
     "text": [
      "launch OpenICLEval[Qwen3-8B/ceval-education_science] on CPU \n",
      "06/03 07:58:45 - OpenCompass - \u001b[5m\u001b[4m\u001b[31mERROR\u001b[0m - /usr/local/miniconda3/envs/py310/lib/python3.10/site-packages/opencompass/runners/local.py - _launch - 236 - task OpenICLEval[Qwen3-8B/ceval-middle_school_physics] fail, see\n",
      "outputs/qwen3_eval_result/20250603_073810/logs/eval/Qwen3-8B/ceval-middle_school_physics.out\n"
     ]
    },
    {
     "name": "stderr",
     "output_type": "stream",
     "text": [
      "                                               \n",
      "  5%|▌         | 6/111 [21:36<12:47,  7.31s/it] \n",
      " 17%|█▋        | 19/111 [01:08<02:57,  1.93s/it]"
     ]
    },
    {
     "name": "stdout",
     "output_type": "stream",
     "text": [
      "launch OpenICLEval[Qwen3-8B/ceval-teacher_qualification] on CPU \n"
     ]
    },
    {
     "name": "stderr",
     "output_type": "stream",
     "text": [
      "\u001b[A"
     ]
    },
    {
     "name": "stdout",
     "output_type": "stream",
     "text": [
      "06/03 07:58:48 - OpenCompass - \u001b[5m\u001b[4m\u001b[31mERROR\u001b[0m - /usr/local/miniconda3/envs/py310/lib/python3.10/site-packages/opencompass/runners/local.py - _launch - 236 - task OpenICLEval[Qwen3-8B/ceval-middle_school_chemistry] fail, see\n",
      "outputs/qwen3_eval_result/20250603_073810/logs/eval/Qwen3-8B/ceval-middle_school_chemistry.out\n"
     ]
    },
    {
     "name": "stderr",
     "output_type": "stream",
     "text": [
      "\n",
      " 18%|█▊        | 20/111 [01:10<03:18,  2.18s/it]"
     ]
    },
    {
     "name": "stdout",
     "output_type": "stream",
     "text": [
      "06/03 07:58:48 - OpenCompass - \u001b[5m\u001b[4m\u001b[31mERROR\u001b[0m - /usr/local/miniconda3/envs/py310/lib/python3.10/site-packages/opencompass/runners/local.py - _launch - 236 - task OpenICLEval[Qwen3-8B/ceval-veterinary_medicine] fail, see\n",
      "outputs/qwen3_eval_result/20250603_073810/logs/eval/Qwen3-8B/ceval-veterinary_medicine.out\n"
     ]
    },
    {
     "name": "stderr",
     "output_type": "stream",
     "text": [
      "                                               \r"
     ]
    },
    {
     "name": "stdout",
     "output_type": "stream",
     "text": [
      "06/03 07:58:50 - OpenCompass - \u001b[5m\u001b[4m\u001b[31mERROR\u001b[0m - /usr/local/miniconda3/envs/py310/lib/python3.10/site-packages/opencompass/runners/local.py - _launch - 236 - task OpenICLEval[Qwen3-8B/ceval-college_economics] fail, see\n",
      "outputs/qwen3_eval_result/20250603_073810/logs/eval/Qwen3-8B/ceval-college_economics.out\n"
     ]
    },
    {
     "name": "stderr",
     "output_type": "stream",
     "text": [
      "\n",
      "  5%|▌         | 6/111 [21:41<12:47,  7.31s/it] "
     ]
    },
    {
     "name": "stdout",
     "output_type": "stream",
     "text": [
      "launch OpenICLEval[Qwen3-8B/ceval-high_school_politics] on CPU \n"
     ]
    },
    {
     "name": "stderr",
     "output_type": "stream",
     "text": [
      "  5%|▌         | 6/111 [21:42<12:47,  7.31s/it]"
     ]
    },
    {
     "name": "stdout",
     "output_type": "stream",
     "text": [
      "launch OpenICLEval[Qwen3-8B/ceval-high_school_geography] on CPU \n"
     ]
    },
    {
     "name": "stderr",
     "output_type": "stream",
     "text": [
      "                                               \n",
      "  5%|▌         | 6/111 [21:43<12:47,  7.31s/it] \n",
      " 20%|█▉        | 22/111 [01:15<02:51,  1.93s/it]"
     ]
    },
    {
     "name": "stdout",
     "output_type": "stream",
     "text": [
      "launch OpenICLEval[Qwen3-8B/ceval-middle_school_politics] on CPU \n"
     ]
    },
    {
     "name": "stderr",
     "output_type": "stream",
     "text": [
      "\u001b[A"
     ]
    },
    {
     "name": "stdout",
     "output_type": "stream",
     "text": [
      "06/03 07:59:01 - OpenCompass - \u001b[5m\u001b[4m\u001b[31mERROR\u001b[0m - /usr/local/miniconda3/envs/py310/lib/python3.10/site-packages/opencompass/runners/local.py - _launch - 236 - task OpenICLEval[Qwen3-8B/ceval-business_administration] fail, see\n",
      "outputs/qwen3_eval_result/20250603_073810/logs/eval/Qwen3-8B/ceval-business_administration.out\n"
     ]
    },
    {
     "name": "stderr",
     "output_type": "stream",
     "text": [
      "                                               \n",
      "  5%|▌         | 6/111 [21:52<12:47,  7.31s/it] \n"
     ]
    },
    {
     "name": "stdout",
     "output_type": "stream",
     "text": [
      "launch OpenICLEval[Qwen3-8B/ceval-middle_school_geography] on CPU \n",
      "06/03 07:59:02 - OpenCompass - \u001b[5m\u001b[4m\u001b[31mERROR\u001b[0m - /usr/local/miniconda3/envs/py310/lib/python3.10/site-packages/opencompass/runners/local.py - _launch - 236 - task OpenICLEval[Qwen3-8B/ceval-mao_zedong_thought] fail, see\n",
      "outputs/qwen3_eval_result/20250603_073810/logs/eval/Qwen3-8B/ceval-mao_zedong_thought.out\n"
     ]
    },
    {
     "name": "stderr",
     "output_type": "stream",
     "text": [
      "  5%|▌         | 6/111 [21:52<12:47,  7.31s/it]]\u001b[A\n",
      " 22%|██▏       | 24/111 [01:25<04:48,  3.32s/it]"
     ]
    },
    {
     "name": "stdout",
     "output_type": "stream",
     "text": [
      "launch OpenICLEval[Qwen3-8B/ceval-modern_chinese_history] on CPU \n"
     ]
    },
    {
     "name": "stderr",
     "output_type": "stream",
     "text": [
      "\u001b[A"
     ]
    },
    {
     "name": "stdout",
     "output_type": "stream",
     "text": [
      "06/03 07:59:04 - OpenCompass - \u001b[5m\u001b[4m\u001b[31mERROR\u001b[0m - /usr/local/miniconda3/envs/py310/lib/python3.10/site-packages/opencompass/runners/local.py - _launch - 236 - task OpenICLEval[Qwen3-8B/ceval-marxism] fail, see\n",
      "outputs/qwen3_eval_result/20250603_073810/logs/eval/Qwen3-8B/ceval-marxism.out\n"
     ]
    },
    {
     "name": "stderr",
     "output_type": "stream",
     "text": [
      "                                               \n",
      "  5%|▌         | 6/111 [21:54<12:47,  7.31s/it] "
     ]
    },
    {
     "name": "stdout",
     "output_type": "stream",
     "text": [
      "launch OpenICLEval[Qwen3-8B/ceval-ideological_and_moral_cultivation] on CPU \n",
      "06/03 07:59:06 - OpenCompass - \u001b[5m\u001b[4m\u001b[31mERROR\u001b[0m - /usr/local/miniconda3/envs/py310/lib/python3.10/site-packages/opencompass/runners/local.py - _launch - 236 - task OpenICLEval[Qwen3-8B/ceval-education_science] fail, see\n",
      "outputs/qwen3_eval_result/20250603_073810/logs/eval/Qwen3-8B/ceval-education_science.out\n"
     ]
    },
    {
     "name": "stderr",
     "output_type": "stream",
     "text": [
      "                                               \n",
      "  5%|▌         | 6/111 [21:57<12:47,  7.31s/it] "
     ]
    },
    {
     "name": "stdout",
     "output_type": "stream",
     "text": [
      "launch OpenICLEval[Qwen3-8B/ceval-logic] on CPU \n",
      "06/03 07:59:10 - OpenCompass - \u001b[5m\u001b[4m\u001b[31mERROR\u001b[0m - /usr/local/miniconda3/envs/py310/lib/python3.10/site-packages/opencompass/runners/local.py - _launch - 236 - task OpenICLEval[Qwen3-8B/ceval-teacher_qualification] fail, see\n",
      "outputs/qwen3_eval_result/20250603_073810/logs/eval/Qwen3-8B/ceval-teacher_qualification.out\n"
     ]
    },
    {
     "name": "stderr",
     "output_type": "stream",
     "text": [
      "                                               \n",
      "  5%|▌         | 6/111 [22:01<12:47,  7.31s/it] "
     ]
    },
    {
     "name": "stdout",
     "output_type": "stream",
     "text": [
      "launch OpenICLEval[Qwen3-8B/ceval-law] on CPU \n",
      "06/03 07:59:13 - OpenCompass - \u001b[5m\u001b[4m\u001b[31mERROR\u001b[0m - /usr/local/miniconda3/envs/py310/lib/python3.10/site-packages/opencompass/runners/local.py - _launch - 236 - task OpenICLEval[Qwen3-8B/ceval-high_school_geography] fail, see\n",
      "outputs/qwen3_eval_result/20250603_073810/logs/eval/Qwen3-8B/ceval-high_school_geography.out\n"
     ]
    },
    {
     "name": "stderr",
     "output_type": "stream",
     "text": [
      "                                               \n",
      "  5%|▌         | 6/111 [22:03<12:47,  7.31s/it] "
     ]
    },
    {
     "name": "stdout",
     "output_type": "stream",
     "text": [
      "launch OpenICLEval[Qwen3-8B/ceval-chinese_language_and_literature] on CPU \n",
      "06/03 07:59:14 - OpenCompass - \u001b[5m\u001b[4m\u001b[31mERROR\u001b[0m - /usr/local/miniconda3/envs/py310/lib/python3.10/site-packages/opencompass/runners/local.py - _launch - 236 - task OpenICLEval[Qwen3-8B/ceval-high_school_politics] fail, see\n",
      "outputs/qwen3_eval_result/20250603_073810/logs/eval/Qwen3-8B/ceval-high_school_politics.out\n"
     ]
    },
    {
     "name": "stderr",
     "output_type": "stream",
     "text": []
    },
    {
     "name": "stdout",
     "output_type": "stream",
     "text": [
      "06/03 07:59:15 - OpenCompass - \u001b[5m\u001b[4m\u001b[31mERROR\u001b[0m - /usr/local/miniconda3/envs/py310/lib/python3.10/site-packages/opencompass/runners/local.py - _launch - 236 - task OpenICLEval[Qwen3-8B/ceval-middle_school_politics] fail, see\n",
      "outputs/qwen3_eval_result/20250603_073810/logs/eval/Qwen3-8B/ceval-middle_school_politics.out\n"
     ]
    },
    {
     "name": "stderr",
     "output_type": "stream",
     "text": [
      "                                               \n",
      "  5%|▌         | 6/111 [22:06<12:47,  7.31s/it] "
     ]
    },
    {
     "name": "stdout",
     "output_type": "stream",
     "text": [
      "launch OpenICLEval[Qwen3-8B/ceval-art_studies] on CPU \n"
     ]
    },
    {
     "name": "stderr",
     "output_type": "stream",
     "text": [
      "                                               \n",
      "  5%|▌         | 6/111 [22:07<12:47,  7.31s/it] \n",
      " 27%|██▋       | 30/111 [01:39<02:45,  2.04s/it]"
     ]
    },
    {
     "name": "stdout",
     "output_type": "stream",
     "text": [
      "launch OpenICLEval[Qwen3-8B/ceval-professional_tour_guide] on CPU \n"
     ]
    },
    {
     "name": "stderr",
     "output_type": "stream",
     "text": [
      "\u001b[A"
     ]
    },
    {
     "name": "stdout",
     "output_type": "stream",
     "text": [
      "06/03 07:59:24 - OpenCompass - \u001b[5m\u001b[4m\u001b[31mERROR\u001b[0m - /usr/local/miniconda3/envs/py310/lib/python3.10/site-packages/opencompass/runners/local.py - _launch - 236 - task OpenICLEval[Qwen3-8B/ceval-middle_school_geography] fail, see\n",
      "outputs/qwen3_eval_result/20250603_073810/logs/eval/Qwen3-8B/ceval-middle_school_geography.out\n"
     ]
    },
    {
     "name": "stderr",
     "output_type": "stream",
     "text": [
      "  5%|▌         | 6/111 [22:14<12:47,  7.31s/it]"
     ]
    },
    {
     "name": "stdout",
     "output_type": "stream",
     "text": [
      "launch OpenICLEval[Qwen3-8B/ceval-legal_professional] on CPU \n"
     ]
    },
    {
     "name": "stderr",
     "output_type": "stream",
     "text": []
    },
    {
     "name": "stdout",
     "output_type": "stream",
     "text": [
      "06/03 07:59:27 - OpenCompass - \u001b[5m\u001b[4m\u001b[31mERROR\u001b[0m - /usr/local/miniconda3/envs/py310/lib/python3.10/site-packages/opencompass/runners/local.py - _launch - 236 - task OpenICLEval[Qwen3-8B/ceval-modern_chinese_history] fail, see\n",
      "outputs/qwen3_eval_result/20250603_073810/logs/eval/Qwen3-8B/ceval-modern_chinese_history.out\n"
     ]
    },
    {
     "name": "stderr",
     "output_type": "stream",
     "text": [
      "                                               \n",
      "  5%|▌         | 6/111 [22:17<12:47,  7.31s/it] "
     ]
    },
    {
     "name": "stdout",
     "output_type": "stream",
     "text": [
      "launch OpenICLEval[Qwen3-8B/ceval-high_school_chinese] on CPU \n",
      "06/03 07:59:28 - OpenCompass - \u001b[5m\u001b[4m\u001b[31mERROR\u001b[0m - /usr/local/miniconda3/envs/py310/lib/python3.10/site-packages/opencompass/runners/local.py - _launch - 236 - task OpenICLEval[Qwen3-8B/ceval-ideological_and_moral_cultivation] fail, see\n",
      "outputs/qwen3_eval_result/20250603_073810/logs/eval/Qwen3-8B/ceval-ideological_and_moral_cultivation.out\n"
     ]
    },
    {
     "name": "stderr",
     "output_type": "stream",
     "text": [
      "                                               \n",
      "  5%|▌         | 6/111 [22:19<12:47,  7.31s/it] "
     ]
    },
    {
     "name": "stdout",
     "output_type": "stream",
     "text": [
      "launch OpenICLEval[Qwen3-8B/ceval-high_school_history] on CPU \n",
      "06/03 07:59:31 - OpenCompass - \u001b[5m\u001b[4m\u001b[31mERROR\u001b[0m - /usr/local/miniconda3/envs/py310/lib/python3.10/site-packages/opencompass/runners/local.py - _launch - 236 - task OpenICLEval[Qwen3-8B/ceval-logic] fail, see\n",
      "outputs/qwen3_eval_result/20250603_073810/logs/eval/Qwen3-8B/ceval-logic.out\n"
     ]
    },
    {
     "name": "stderr",
     "output_type": "stream",
     "text": [
      "                                               \n",
      "  5%|▌         | 6/111 [22:22<12:47,  7.31s/it] "
     ]
    },
    {
     "name": "stdout",
     "output_type": "stream",
     "text": [
      "launch OpenICLEval[Qwen3-8B/ceval-middle_school_history] on CPU \n",
      "06/03 07:59:37 - OpenCompass - \u001b[5m\u001b[4m\u001b[31mERROR\u001b[0m - /usr/local/miniconda3/envs/py310/lib/python3.10/site-packages/opencompass/runners/local.py - _launch - 236 - task OpenICLEval[Qwen3-8B/ceval-law] fail, see\n",
      "outputs/qwen3_eval_result/20250603_073810/logs/eval/Qwen3-8B/ceval-law.out\n"
     ]
    },
    {
     "name": "stderr",
     "output_type": "stream",
     "text": [
      "                                               \n",
      "  5%|▌         | 6/111 [22:28<12:47,  7.31s/it] "
     ]
    },
    {
     "name": "stdout",
     "output_type": "stream",
     "text": [
      "launch OpenICLEval[Qwen3-8B/ceval-civil_servant] on CPU \n",
      "06/03 07:59:39 - OpenCompass - \u001b[5m\u001b[4m\u001b[31mERROR\u001b[0m - /usr/local/miniconda3/envs/py310/lib/python3.10/site-packages/opencompass/runners/local.py - _launch - 236 - task OpenICLEval[Qwen3-8B/ceval-chinese_language_and_literature] fail, see\n",
      "outputs/qwen3_eval_result/20250603_073810/logs/eval/Qwen3-8B/ceval-chinese_language_and_literature.out\n"
     ]
    },
    {
     "name": "stderr",
     "output_type": "stream",
     "text": [
      "                                               \n",
      "  5%|▌         | 6/111 [22:31<12:47,  7.31s/it] "
     ]
    },
    {
     "name": "stdout",
     "output_type": "stream",
     "text": [
      "launch OpenICLEval[Qwen3-8B/ceval-sports_science] on CPU \n",
      "06/03 07:59:42 - OpenCompass - \u001b[5m\u001b[4m\u001b[31mERROR\u001b[0m - /usr/local/miniconda3/envs/py310/lib/python3.10/site-packages/opencompass/runners/local.py - _launch - 236 - task OpenICLEval[Qwen3-8B/ceval-art_studies] fail, see\n",
      "outputs/qwen3_eval_result/20250603_073810/logs/eval/Qwen3-8B/ceval-art_studies.out\n"
     ]
    },
    {
     "name": "stderr",
     "output_type": "stream",
     "text": [
      "                                               \n",
      "\u001b[A                                             "
     ]
    },
    {
     "name": "stdout",
     "output_type": "stream",
     "text": [
      "06/03 07:59:43 - OpenCompass - \u001b[5m\u001b[4m\u001b[31mERROR\u001b[0m - /usr/local/miniconda3/envs/py310/lib/python3.10/site-packages/opencompass/runners/local.py - _launch - 236 - task OpenICLEval[Qwen3-8B/ceval-professional_tour_guide] fail, see\n",
      "outputs/qwen3_eval_result/20250603_073810/logs/eval/Qwen3-8B/ceval-professional_tour_guide.out\n"
     ]
    },
    {
     "name": "stderr",
     "output_type": "stream",
     "text": [
      "  5%|▌         | 6/111 [22:33<12:47,  7.31s/it]\n",
      " 33%|███▎      | 37/111 [02:05<03:57,  3.20s/it]"
     ]
    },
    {
     "name": "stdout",
     "output_type": "stream",
     "text": [
      "launch OpenICLEval[Qwen3-8B/ceval-plant_protection] on CPU \n"
     ]
    },
    {
     "name": "stderr",
     "output_type": "stream",
     "text": [
      "  5%|▌         | 6/111 [22:35<12:47,  7.31s/it]\n"
     ]
    },
    {
     "name": "stdout",
     "output_type": "stream",
     "text": [
      "launch OpenICLEval[Qwen3-8B/ceval-basic_medicine] on CPU \n"
     ]
    },
    {
     "name": "stderr",
     "output_type": "stream",
     "text": [
      " 34%|███▍      | 38/111 [02:08<03:03,  2.52s/it]\u001b[A"
     ]
    },
    {
     "name": "stdout",
     "output_type": "stream",
     "text": [
      "06/03 07:59:49 - OpenCompass - \u001b[5m\u001b[4m\u001b[31mERROR\u001b[0m - /usr/local/miniconda3/envs/py310/lib/python3.10/site-packages/opencompass/runners/local.py - _launch - 236 - task OpenICLEval[Qwen3-8B/ceval-legal_professional] fail, see\n",
      "outputs/qwen3_eval_result/20250603_073810/logs/eval/Qwen3-8B/ceval-legal_professional.out\n"
     ]
    },
    {
     "name": "stderr",
     "output_type": "stream",
     "text": [
      "                                               \n",
      "  5%|▌         | 6/111 [22:40<12:47,  7.31s/it] \n"
     ]
    },
    {
     "name": "stdout",
     "output_type": "stream",
     "text": [
      "launch OpenICLEval[Qwen3-8B/ceval-clinical_medicine] on CPU \n"
     ]
    },
    {
     "name": "stderr",
     "output_type": "stream",
     "text": [
      " 35%|███▌      | 39/111 [02:12<04:19,  3.60s/it]\u001b[A"
     ]
    },
    {
     "name": "stdout",
     "output_type": "stream",
     "text": [
      "06/03 07:59:53 - OpenCompass - \u001b[5m\u001b[4m\u001b[31mERROR\u001b[0m - /usr/local/miniconda3/envs/py310/lib/python3.10/site-packages/opencompass/runners/local.py - _launch - 236 - task OpenICLEval[Qwen3-8B/ceval-high_school_chinese] fail, see\n",
      "outputs/qwen3_eval_result/20250603_073810/logs/eval/Qwen3-8B/ceval-high_school_chinese.out\n"
     ]
    },
    {
     "name": "stderr",
     "output_type": "stream",
     "text": [
      "                                               \n",
      "  5%|▌         | 6/111 [22:44<12:47,  7.31s/it] \n",
      " 36%|███▌      | 40/111 [02:16<04:19,  3.66s/it]"
     ]
    },
    {
     "name": "stdout",
     "output_type": "stream",
     "text": [
      "launch OpenICLEval[Qwen3-8B/ceval-urban_and_rural_planner] on CPU \n"
     ]
    },
    {
     "name": "stderr",
     "output_type": "stream",
     "text": [
      "\u001b[A"
     ]
    },
    {
     "name": "stdout",
     "output_type": "stream",
     "text": [
      "06/03 07:59:56 - OpenCompass - \u001b[5m\u001b[4m\u001b[31mERROR\u001b[0m - /usr/local/miniconda3/envs/py310/lib/python3.10/site-packages/opencompass/runners/local.py - _launch - 236 - task OpenICLEval[Qwen3-8B/ceval-high_school_history] fail, see\n",
      "outputs/qwen3_eval_result/20250603_073810/logs/eval/Qwen3-8B/ceval-high_school_history.out\n"
     ]
    },
    {
     "name": "stderr",
     "output_type": "stream",
     "text": [
      "                                               \n",
      "  5%|▌         | 6/111 [22:46<12:47,  7.31s/it] "
     ]
    },
    {
     "name": "stdout",
     "output_type": "stream",
     "text": [
      "launch OpenICLEval[Qwen3-8B/ceval-accountant] on CPU \n",
      "06/03 07:59:59 - OpenCompass - \u001b[5m\u001b[4m\u001b[31mERROR\u001b[0m - /usr/local/miniconda3/envs/py310/lib/python3.10/site-packages/opencompass/runners/local.py - _launch - 236 - task OpenICLEval[Qwen3-8B/ceval-middle_school_history] fail, see\n",
      "outputs/qwen3_eval_result/20250603_073810/logs/eval/Qwen3-8B/ceval-middle_school_history.out\n"
     ]
    },
    {
     "name": "stderr",
     "output_type": "stream",
     "text": [
      "                                               \n",
      "  5%|▌         | 6/111 [22:50<12:47,  7.31s/it] "
     ]
    },
    {
     "name": "stdout",
     "output_type": "stream",
     "text": [
      "launch OpenICLEval[Qwen3-8B/ceval-fire_engineer] on CPU \n",
      "06/03 08:00:04 - OpenCompass - \u001b[5m\u001b[4m\u001b[31mERROR\u001b[0m - /usr/local/miniconda3/envs/py310/lib/python3.10/site-packages/opencompass/runners/local.py - _launch - 236 - task OpenICLEval[Qwen3-8B/ceval-civil_servant] fail, see\n",
      "outputs/qwen3_eval_result/20250603_073810/logs/eval/Qwen3-8B/ceval-civil_servant.out\n"
     ]
    },
    {
     "name": "stderr",
     "output_type": "stream",
     "text": [
      "                                               \n",
      "  5%|▌         | 6/111 [22:55<12:47,  7.31s/it] "
     ]
    },
    {
     "name": "stdout",
     "output_type": "stream",
     "text": [
      "launch OpenICLEval[Qwen3-8B/ceval-environmental_impact_assessment_engineer] on CPU \n",
      "06/03 08:00:08 - OpenCompass - \u001b[5m\u001b[4m\u001b[31mERROR\u001b[0m - /usr/local/miniconda3/envs/py310/lib/python3.10/site-packages/opencompass/runners/local.py - _launch - 236 - task OpenICLEval[Qwen3-8B/ceval-sports_science] fail, see\n",
      "outputs/qwen3_eval_result/20250603_073810/logs/eval/Qwen3-8B/ceval-sports_science.out\n"
     ]
    },
    {
     "name": "stderr",
     "output_type": "stream",
     "text": []
    },
    {
     "name": "stdout",
     "output_type": "stream",
     "text": [
      "06/03 08:00:08 - OpenCompass - \u001b[5m\u001b[4m\u001b[31mERROR\u001b[0m - /usr/local/miniconda3/envs/py310/lib/python3.10/site-packages/opencompass/runners/local.py - _launch - 236 - task OpenICLEval[Qwen3-8B/ceval-plant_protection] fail, see\n",
      "outputs/qwen3_eval_result/20250603_073810/logs/eval/Qwen3-8B/ceval-plant_protection.out\n"
     ]
    },
    {
     "name": "stderr",
     "output_type": "stream",
     "text": [
      "                                               \n",
      "  5%|▌         | 6/111 [22:58<12:47,  7.31s/it] \n",
      " 41%|████      | 45/111 [02:30<02:56,  2.68s/it]"
     ]
    },
    {
     "name": "stdout",
     "output_type": "stream",
     "text": [
      "launch OpenICLEval[Qwen3-8B/ceval-tax_accountant] on CPU \n"
     ]
    },
    {
     "name": "stderr",
     "output_type": "stream",
     "text": [
      "                                               \n",
      "  5%|▌         | 6/111 [22:59<12:47,  7.31s/it] "
     ]
    },
    {
     "name": "stdout",
     "output_type": "stream",
     "text": [
      "launch OpenICLEval[Qwen3-8B/ceval-physician] on CPU \n",
      "06/03 08:00:09 - OpenCompass - \u001b[5m\u001b[4m\u001b[31mERROR\u001b[0m - /usr/local/miniconda3/envs/py310/lib/python3.10/site-packages/opencompass/runners/local.py - _launch - 236 - task OpenICLEval[Qwen3-8B/ceval-basic_medicine] fail, see\n",
      "outputs/qwen3_eval_result/20250603_073810/logs/eval/Qwen3-8B/ceval-basic_medicine.out\n"
     ]
    },
    {
     "name": "stderr",
     "output_type": "stream",
     "text": [
      "                                               \n",
      "  5%|▌         | 6/111 [23:00<12:47,  7.31s/it] "
     ]
    },
    {
     "name": "stdout",
     "output_type": "stream",
     "text": [
      "launch OpenICLEval[Qwen3-8B/gsm8k] on CPU \n",
      "06/03 08:00:15 - OpenCompass - \u001b[5m\u001b[4m\u001b[31mERROR\u001b[0m - /usr/local/miniconda3/envs/py310/lib/python3.10/site-packages/opencompass/runners/local.py - _launch - 236 - task OpenICLEval[Qwen3-8B/ceval-clinical_medicine] fail, see\n",
      "outputs/qwen3_eval_result/20250603_073810/logs/eval/Qwen3-8B/ceval-clinical_medicine.out\n"
     ]
    },
    {
     "name": "stderr",
     "output_type": "stream",
     "text": [
      "                                               \n",
      "  5%|▌         | 6/111 [23:05<12:47,  7.31s/it] "
     ]
    },
    {
     "name": "stdout",
     "output_type": "stream",
     "text": [
      "launch OpenICLEval[Qwen3-8B/lukaemon_mmlu_college_biology] on CPU \n",
      "06/03 08:00:17 - OpenCompass - \u001b[5m\u001b[4m\u001b[31mERROR\u001b[0m - /usr/local/miniconda3/envs/py310/lib/python3.10/site-packages/opencompass/runners/local.py - _launch - 236 - task OpenICLEval[Qwen3-8B/ceval-urban_and_rural_planner] fail, see\n",
      "outputs/qwen3_eval_result/20250603_073810/logs/eval/Qwen3-8B/ceval-urban_and_rural_planner.out\n"
     ]
    },
    {
     "name": "stderr",
     "output_type": "stream",
     "text": [
      "                                               \n",
      "  5%|▌         | 6/111 [23:07<12:47,  7.31s/it] \n",
      " 43%|████▎     | 48/111 [02:40<03:04,  2.92s/it]"
     ]
    },
    {
     "name": "stdout",
     "output_type": "stream",
     "text": [
      "launch OpenICLEval[Qwen3-8B/lukaemon_mmlu_college_chemistry] on CPU \n"
     ]
    },
    {
     "name": "stderr",
     "output_type": "stream",
     "text": [
      "\u001b[A"
     ]
    },
    {
     "name": "stdout",
     "output_type": "stream",
     "text": [
      "06/03 08:00:20 - OpenCompass - \u001b[5m\u001b[4m\u001b[31mERROR\u001b[0m - /usr/local/miniconda3/envs/py310/lib/python3.10/site-packages/opencompass/runners/local.py - _launch - 236 - task OpenICLEval[Qwen3-8B/ceval-accountant] fail, see\n",
      "outputs/qwen3_eval_result/20250603_073810/logs/eval/Qwen3-8B/ceval-accountant.out\n"
     ]
    },
    {
     "name": "stderr",
     "output_type": "stream",
     "text": [
      "                                               \n",
      "  5%|▌         | 6/111 [23:10<12:47,  7.31s/it] "
     ]
    },
    {
     "name": "stdout",
     "output_type": "stream",
     "text": [
      "launch OpenICLEval[Qwen3-8B/lukaemon_mmlu_college_computer_science] on CPU \n",
      "06/03 08:00:21 - OpenCompass - \u001b[5m\u001b[4m\u001b[31mERROR\u001b[0m - /usr/local/miniconda3/envs/py310/lib/python3.10/site-packages/opencompass/runners/local.py - _launch - 236 - task OpenICLEval[Qwen3-8B/ceval-fire_engineer] fail, see\n",
      "outputs/qwen3_eval_result/20250603_073810/logs/eval/Qwen3-8B/ceval-fire_engineer.out\n"
     ]
    },
    {
     "name": "stderr",
     "output_type": "stream",
     "text": [
      "                                               \n",
      "  5%|▌         | 6/111 [23:12<12:47,  7.31s/it] "
     ]
    },
    {
     "name": "stdout",
     "output_type": "stream",
     "text": [
      "launch OpenICLEval[Qwen3-8B/lukaemon_mmlu_college_mathematics] on CPU \n"
     ]
    },
    {
     "name": "stderr",
     "output_type": "stream",
     "text": [
      "                                               \n",
      "  5%|▌         | 6/111 [23:15<12:47,  7.31s/it] "
     ]
    },
    {
     "name": "stdout",
     "output_type": "stream",
     "text": [
      "launch OpenICLEval[Qwen3-8B/lukaemon_mmlu_college_physics] on CPU \n",
      "06/03 08:00:27 - OpenCompass - \u001b[5m\u001b[4m\u001b[31mERROR\u001b[0m - /usr/local/miniconda3/envs/py310/lib/python3.10/site-packages/opencompass/runners/local.py - _launch - 236 - task OpenICLEval[Qwen3-8B/ceval-environmental_impact_assessment_engineer] fail, see\n",
      "outputs/qwen3_eval_result/20250603_073810/logs/eval/Qwen3-8B/ceval-environmental_impact_assessment_engineer.out\n"
     ]
    },
    {
     "name": "stderr",
     "output_type": "stream",
     "text": [
      "                                               \n",
      "  5%|▌         | 6/111 [23:17<12:47,  7.31s/it] "
     ]
    },
    {
     "name": "stdout",
     "output_type": "stream",
     "text": [
      "launch OpenICLEval[Qwen3-8B/lukaemon_mmlu_electrical_engineering] on CPU \n",
      "06/03 08:00:31 - OpenCompass - \u001b[5m\u001b[4m\u001b[31mERROR\u001b[0m - /usr/local/miniconda3/envs/py310/lib/python3.10/site-packages/opencompass/runners/local.py - _launch - 236 - task OpenICLEval[Qwen3-8B/ceval-tax_accountant] fail, see\n",
      "outputs/qwen3_eval_result/20250603_073810/logs/eval/Qwen3-8B/ceval-tax_accountant.out\n"
     ]
    },
    {
     "name": "stderr",
     "output_type": "stream",
     "text": [
      "                                               \n",
      "  5%|▌         | 6/111 [23:20<12:47,  7.31s/it] "
     ]
    },
    {
     "name": "stdout",
     "output_type": "stream",
     "text": [
      "launch OpenICLEval[Qwen3-8B/lukaemon_mmlu_astronomy] on CPU \n",
      "06/03 08:00:31 - OpenCompass - \u001b[5m\u001b[4m\u001b[31mERROR\u001b[0m - /usr/local/miniconda3/envs/py310/lib/python3.10/site-packages/opencompass/runners/local.py - _launch - 236 - task OpenICLEval[Qwen3-8B/ceval-physician] fail, see\n",
      "outputs/qwen3_eval_result/20250603_073810/logs/eval/Qwen3-8B/ceval-physician.out\n"
     ]
    },
    {
     "name": "stderr",
     "output_type": "stream",
     "text": [
      "                                               \n",
      "\u001b[A                                             "
     ]
    },
    {
     "name": "stdout",
     "output_type": "stream",
     "text": [
      "launch OpenICLEval[Qwen3-8B/lukaemon_mmlu_anatomy] on CPU \n"
     ]
    },
    {
     "name": "stderr",
     "output_type": "stream",
     "text": [
      "                                               \n",
      "  5%|▌         | 6/111 [23:22<12:47,  7.31s/it] "
     ]
    },
    {
     "name": "stdout",
     "output_type": "stream",
     "text": [
      "launch OpenICLEval[Qwen3-8B/lukaemon_mmlu_abstract_algebra] on CPU \n"
     ]
    },
    {
     "name": "stderr",
     "output_type": "stream",
     "text": [
      "  5%|▌         | 6/111 [23:24<12:47,  7.31s/it]"
     ]
    },
    {
     "name": "stdout",
     "output_type": "stream",
     "text": [
      "launch OpenICLEval[Qwen3-8B/lukaemon_mmlu_machine_learning] on CPU \n"
     ]
    },
    {
     "name": "stderr",
     "output_type": "stream",
     "text": [
      "                                               \n",
      "  5%|▌         | 6/111 [23:26<12:47,  7.31s/it] "
     ]
    },
    {
     "name": "stdout",
     "output_type": "stream",
     "text": [
      "launch OpenICLEval[Qwen3-8B/lukaemon_mmlu_clinical_knowledge] on CPU \n"
     ]
    },
    {
     "name": "stderr",
     "output_type": "stream",
     "text": [
      "                                               \n",
      "  5%|▌         | 6/111 [23:27<12:47,  7.31s/it] "
     ]
    },
    {
     "name": "stdout",
     "output_type": "stream",
     "text": [
      "launch OpenICLEval[Qwen3-8B/lukaemon_mmlu_global_facts] on CPU \n"
     ]
    },
    {
     "name": "stderr",
     "output_type": "stream",
     "text": [
      "                                               \n",
      "  5%|▌         | 6/111 [23:29<12:47,  7.31s/it] "
     ]
    },
    {
     "name": "stdout",
     "output_type": "stream",
     "text": [
      "launch OpenICLEval[Qwen3-8B/lukaemon_mmlu_management] on CPU \n"
     ]
    },
    {
     "name": "stderr",
     "output_type": "stream",
     "text": [
      "                                               \n",
      "  5%|▌         | 6/111 [23:30<12:47,  7.31s/it] "
     ]
    },
    {
     "name": "stdout",
     "output_type": "stream",
     "text": [
      "launch OpenICLEval[Qwen3-8B/lukaemon_mmlu_nutrition] on CPU \n"
     ]
    },
    {
     "name": "stderr",
     "output_type": "stream",
     "text": [
      "                                               \n",
      "  5%|▌         | 6/111 [23:37<12:47,  7.31s/it] "
     ]
    },
    {
     "name": "stdout",
     "output_type": "stream",
     "text": [
      "launch OpenICLEval[Qwen3-8B/lukaemon_mmlu_marketing] on CPU \n"
     ]
    },
    {
     "name": "stderr",
     "output_type": "stream",
     "text": [
      "                                               \n",
      "  5%|▌         | 6/111 [23:38<12:47,  7.31s/it] "
     ]
    },
    {
     "name": "stdout",
     "output_type": "stream",
     "text": [
      "launch OpenICLEval[Qwen3-8B/lukaemon_mmlu_professional_accounting] on CPU \n"
     ]
    },
    {
     "name": "stderr",
     "output_type": "stream",
     "text": [
      "                                               \n",
      "  5%|▌         | 6/111 [23:40<12:47,  7.31s/it] "
     ]
    },
    {
     "name": "stdout",
     "output_type": "stream",
     "text": [
      "launch OpenICLEval[Qwen3-8B/lukaemon_mmlu_high_school_geography] on CPU \n"
     ]
    },
    {
     "name": "stderr",
     "output_type": "stream",
     "text": [
      "                                               \n",
      "  5%|▌         | 6/111 [23:43<12:47,  7.31s/it] "
     ]
    },
    {
     "name": "stdout",
     "output_type": "stream",
     "text": [
      "launch OpenICLEval[Qwen3-8B/lukaemon_mmlu_international_law] on CPU \n"
     ]
    },
    {
     "name": "stderr",
     "output_type": "stream",
     "text": [
      "                                               \n",
      "  5%|▌         | 6/111 [23:46<12:47,  7.31s/it] "
     ]
    },
    {
     "name": "stdout",
     "output_type": "stream",
     "text": [
      "launch OpenICLEval[Qwen3-8B/lukaemon_mmlu_moral_scenarios] on CPU \n"
     ]
    },
    {
     "name": "stderr",
     "output_type": "stream",
     "text": [
      "                                               \n",
      "  5%|▌         | 6/111 [23:46<12:47,  7.31s/it] "
     ]
    },
    {
     "name": "stdout",
     "output_type": "stream",
     "text": [
      "launch OpenICLEval[Qwen3-8B/lukaemon_mmlu_computer_security] on CPU \n"
     ]
    },
    {
     "name": "stderr",
     "output_type": "stream",
     "text": [
      "                                               \n",
      "  5%|▌         | 6/111 [23:48<12:47,  7.31s/it] \n",
      " 61%|██████▏   | 68/111 [03:20<00:58,  1.36s/it]"
     ]
    },
    {
     "name": "stdout",
     "output_type": "stream",
     "text": [
      "launch OpenICLEval[Qwen3-8B/lukaemon_mmlu_high_school_microeconomics] on CPU \n"
     ]
    },
    {
     "name": "stderr",
     "output_type": "stream",
     "text": [
      "                                               \n",
      "  5%|▌         | 6/111 [23:49<12:47,  7.31s/it] "
     ]
    },
    {
     "name": "stdout",
     "output_type": "stream",
     "text": [
      "launch OpenICLEval[Qwen3-8B/lukaemon_mmlu_professional_law] on CPU \n"
     ]
    },
    {
     "name": "stderr",
     "output_type": "stream",
     "text": [
      "                                               \n",
      "  5%|▌         | 6/111 [23:52<12:47,  7.31s/it] "
     ]
    },
    {
     "name": "stdout",
     "output_type": "stream",
     "text": [
      "launch OpenICLEval[Qwen3-8B/lukaemon_mmlu_medical_genetics] on CPU \n"
     ]
    },
    {
     "name": "stderr",
     "output_type": "stream",
     "text": [
      "                                               \n",
      "  5%|▌         | 6/111 [23:53<12:47,  7.31s/it] \n",
      " 63%|██████▎   | 70/111 [03:25<01:16,  1.86s/it]"
     ]
    },
    {
     "name": "stdout",
     "output_type": "stream",
     "text": [
      "launch OpenICLEval[Qwen3-8B/lukaemon_mmlu_professional_psychology] on CPU \n"
     ]
    },
    {
     "name": "stderr",
     "output_type": "stream",
     "text": [
      "                                               \n",
      "  5%|▌         | 6/111 [23:57<12:47,  7.31s/it] \n",
      " 64%|██████▍   | 71/111 [03:29<01:21,  2.03s/it]"
     ]
    },
    {
     "name": "stdout",
     "output_type": "stream",
     "text": [
      "launch OpenICLEval[Qwen3-8B/lukaemon_mmlu_jurisprudence] on CPU \n"
     ]
    },
    {
     "name": "stderr",
     "output_type": "stream",
     "text": [
      "                                               \n",
      "  5%|▌         | 6/111 [23:57<12:47,  7.31s/it] "
     ]
    },
    {
     "name": "stdout",
     "output_type": "stream",
     "text": [
      "launch OpenICLEval[Qwen3-8B/lukaemon_mmlu_world_religions] on CPU \n"
     ]
    },
    {
     "name": "stderr",
     "output_type": "stream",
     "text": [
      "                                               \n",
      "                                                "
     ]
    },
    {
     "name": "stdout",
     "output_type": "stream",
     "text": [
      "launch OpenICLEval[Qwen3-8B/lukaemon_mmlu_philosophy] on CPU \n"
     ]
    },
    {
     "name": "stderr",
     "output_type": "stream",
     "text": [
      "\n",
      "  5%|▌         | 6/111 [24:04<12:47,  7.31s/it] "
     ]
    },
    {
     "name": "stdout",
     "output_type": "stream",
     "text": [
      "launch OpenICLEval[Qwen3-8B/lukaemon_mmlu_virology] on CPU \n"
     ]
    },
    {
     "name": "stderr",
     "output_type": "stream",
     "text": [
      "                                               \n",
      "  5%|▌         | 6/111 [24:08<12:47,  7.31s/it] "
     ]
    },
    {
     "name": "stdout",
     "output_type": "stream",
     "text": [
      "launch OpenICLEval[Qwen3-8B/lukaemon_mmlu_high_school_chemistry] on CPU \n"
     ]
    },
    {
     "name": "stderr",
     "output_type": "stream",
     "text": [
      "                                               \n",
      "  5%|▌         | 6/111 [24:09<12:47,  7.31s/it] "
     ]
    },
    {
     "name": "stdout",
     "output_type": "stream",
     "text": [
      "launch OpenICLEval[Qwen3-8B/lukaemon_mmlu_public_relations] on CPU \n"
     ]
    },
    {
     "name": "stderr",
     "output_type": "stream",
     "text": [
      "                                               \n",
      "  5%|▌         | 6/111 [24:12<12:47,  7.31s/it] "
     ]
    },
    {
     "name": "stdout",
     "output_type": "stream",
     "text": [
      "launch OpenICLEval[Qwen3-8B/lukaemon_mmlu_high_school_macroeconomics] on CPU \n"
     ]
    },
    {
     "name": "stderr",
     "output_type": "stream",
     "text": [
      "                                               \n",
      "  5%|▌         | 6/111 [24:13<12:47,  7.31s/it] "
     ]
    },
    {
     "name": "stdout",
     "output_type": "stream",
     "text": [
      "launch OpenICLEval[Qwen3-8B/lukaemon_mmlu_human_sexuality] on CPU \n"
     ]
    },
    {
     "name": "stderr",
     "output_type": "stream",
     "text": [
      "                                               \n",
      "  5%|▌         | 6/111 [24:15<12:47,  7.31s/it] "
     ]
    },
    {
     "name": "stdout",
     "output_type": "stream",
     "text": [
      "launch OpenICLEval[Qwen3-8B/lukaemon_mmlu_elementary_mathematics] on CPU \n"
     ]
    },
    {
     "name": "stderr",
     "output_type": "stream",
     "text": [
      "                                               \n",
      "  5%|▌         | 6/111 [24:15<12:47,  7.31s/it] "
     ]
    },
    {
     "name": "stdout",
     "output_type": "stream",
     "text": [
      "launch OpenICLEval[Qwen3-8B/lukaemon_mmlu_high_school_physics] on CPU \n"
     ]
    },
    {
     "name": "stderr",
     "output_type": "stream",
     "text": [
      "                                               \n",
      "  5%|▌         | 6/111 [24:20<12:47,  7.31s/it] \n",
      " 74%|███████▍  | 82/111 [03:52<00:56,  1.94s/it]"
     ]
    },
    {
     "name": "stdout",
     "output_type": "stream",
     "text": [
      "launch OpenICLEval[Qwen3-8B/lukaemon_mmlu_high_school_computer_science] on CPU \n"
     ]
    },
    {
     "name": "stderr",
     "output_type": "stream",
     "text": [
      "                                               \n",
      "  5%|▌         | 6/111 [24:21<12:47,  7.31s/it] \n",
      " 74%|███████▍  | 82/111 [03:53<00:56,  1.94s/it]"
     ]
    },
    {
     "name": "stdout",
     "output_type": "stream",
     "text": [
      "launch OpenICLEval[Qwen3-8B/lukaemon_mmlu_high_school_european_history] on CPU \n"
     ]
    },
    {
     "name": "stderr",
     "output_type": "stream",
     "text": [
      "                                               \n",
      "                                                \n",
      "  5%|▌         | 6/111 [24:25<12:47,  7.31s/it] "
     ]
    },
    {
     "name": "stdout",
     "output_type": "stream",
     "text": [
      "launch OpenICLEval[Qwen3-8B/lukaemon_mmlu_business_ethics] on CPU \n",
      "launch OpenICLEval[Qwen3-8B/lukaemon_mmlu_moral_disputes] on CPU \n"
     ]
    },
    {
     "name": "stderr",
     "output_type": "stream",
     "text": [
      "                                               \n",
      "  5%|▌         | 6/111 [24:30<12:47,  7.31s/it] "
     ]
    },
    {
     "name": "stdout",
     "output_type": "stream",
     "text": [
      "launch OpenICLEval[Qwen3-8B/lukaemon_mmlu_high_school_statistics] on CPU \n"
     ]
    },
    {
     "name": "stderr",
     "output_type": "stream",
     "text": [
      "                                               \n",
      "  5%|▌         | 6/111 [24:31<12:47,  7.31s/it] "
     ]
    },
    {
     "name": "stdout",
     "output_type": "stream",
     "text": [
      "launch OpenICLEval[Qwen3-8B/lukaemon_mmlu_miscellaneous] on CPU \n"
     ]
    },
    {
     "name": "stderr",
     "output_type": "stream",
     "text": [
      "                                               \n",
      "  5%|▌         | 6/111 [24:33<12:47,  7.31s/it] "
     ]
    },
    {
     "name": "stdout",
     "output_type": "stream",
     "text": [
      "launch OpenICLEval[Qwen3-8B/lukaemon_mmlu_formal_logic] on CPU \n"
     ]
    },
    {
     "name": "stderr",
     "output_type": "stream",
     "text": [
      "                                               \n",
      "  5%|▌         | 6/111 [24:34<12:47,  7.31s/it] "
     ]
    },
    {
     "name": "stdout",
     "output_type": "stream",
     "text": [
      "launch OpenICLEval[Qwen3-8B/lukaemon_mmlu_high_school_government_and_politics] on CPU \n"
     ]
    },
    {
     "name": "stderr",
     "output_type": "stream",
     "text": [
      "                                               \n",
      "  5%|▌         | 6/111 [24:36<12:47,  7.31s/it] "
     ]
    },
    {
     "name": "stdout",
     "output_type": "stream",
     "text": [
      "launch OpenICLEval[Qwen3-8B/lukaemon_mmlu_prehistory] on CPU \n"
     ]
    },
    {
     "name": "stderr",
     "output_type": "stream",
     "text": [
      "                                               \n",
      "  5%|▌         | 6/111 [24:38<12:47,  7.31s/it] "
     ]
    },
    {
     "name": "stdout",
     "output_type": "stream",
     "text": [
      "launch OpenICLEval[Qwen3-8B/lukaemon_mmlu_security_studies] on CPU \n"
     ]
    },
    {
     "name": "stderr",
     "output_type": "stream",
     "text": [
      "                                               \n",
      "  5%|▌         | 6/111 [24:41<12:47,  7.31s/it] \n"
     ]
    },
    {
     "name": "stdout",
     "output_type": "stream",
     "text": [
      "launch OpenICLEval[Qwen3-8B/lukaemon_mmlu_high_school_biology] on CPU \n"
     ]
    },
    {
     "name": "stderr",
     "output_type": "stream",
     "text": [
      "                                               ]\u001b[A\n",
      "  5%|▌         | 6/111 [24:42<12:47,  7.31s/it] "
     ]
    },
    {
     "name": "stdout",
     "output_type": "stream",
     "text": [
      "launch OpenICLEval[Qwen3-8B/lukaemon_mmlu_logical_fallacies] on CPU \n"
     ]
    },
    {
     "name": "stderr",
     "output_type": "stream",
     "text": [
      "                                               \n",
      "  5%|▌         | 6/111 [24:46<12:47,  7.31s/it] "
     ]
    },
    {
     "name": "stdout",
     "output_type": "stream",
     "text": [
      "launch OpenICLEval[Qwen3-8B/lukaemon_mmlu_high_school_world_history] on CPU \n"
     ]
    },
    {
     "name": "stderr",
     "output_type": "stream",
     "text": [
      "                                               \n",
      "  5%|▌         | 6/111 [24:48<12:47,  7.31s/it] "
     ]
    },
    {
     "name": "stdout",
     "output_type": "stream",
     "text": [
      "launch OpenICLEval[Qwen3-8B/lukaemon_mmlu_professional_medicine] on CPU \n"
     ]
    },
    {
     "name": "stderr",
     "output_type": "stream",
     "text": [
      "                                               \n",
      "                                                \n",
      "  5%|▌         | 6/111 [24:51<12:47,  7.31s/it] "
     ]
    },
    {
     "name": "stdout",
     "output_type": "stream",
     "text": [
      "launch OpenICLEval[Qwen3-8B/lukaemon_mmlu_high_school_mathematics] on CPU \n",
      "launch OpenICLEval[Qwen3-8B/lukaemon_mmlu_college_medicine] on CPU \n"
     ]
    },
    {
     "name": "stderr",
     "output_type": "stream",
     "text": [
      "                                               \n",
      "  5%|▌         | 6/111 [24:55<12:47,  7.31s/it] "
     ]
    },
    {
     "name": "stdout",
     "output_type": "stream",
     "text": [
      "launch OpenICLEval[Qwen3-8B/lukaemon_mmlu_high_school_us_history] on CPU \n"
     ]
    },
    {
     "name": "stderr",
     "output_type": "stream",
     "text": [
      "                                               \n",
      "  5%|▌         | 6/111 [24:55<12:47,  7.31s/it] "
     ]
    },
    {
     "name": "stdout",
     "output_type": "stream",
     "text": [
      "launch OpenICLEval[Qwen3-8B/lukaemon_mmlu_sociology] on CPU \n"
     ]
    },
    {
     "name": "stderr",
     "output_type": "stream",
     "text": [
      "                                               \n",
      "  5%|▌         | 6/111 [24:57<12:47,  7.31s/it] "
     ]
    },
    {
     "name": "stdout",
     "output_type": "stream",
     "text": [
      "launch OpenICLEval[Qwen3-8B/lukaemon_mmlu_econometrics] on CPU \n"
     ]
    },
    {
     "name": "stderr",
     "output_type": "stream",
     "text": [
      "                                               \n",
      "  5%|▌         | 6/111 [24:59<12:47,  7.31s/it]  "
     ]
    },
    {
     "name": "stdout",
     "output_type": "stream",
     "text": [
      "launch OpenICLEval[Qwen3-8B/lukaemon_mmlu_high_school_psychology] on CPU \n"
     ]
    },
    {
     "name": "stderr",
     "output_type": "stream",
     "text": [
      "                                               \n",
      "  5%|▌         | 6/111 [25:02<12:47,  7.31s/it]  \n",
      " 91%|█████████ | 101/111 [04:35<00:20,  2.03s/it]"
     ]
    },
    {
     "name": "stdout",
     "output_type": "stream",
     "text": [
      "launch OpenICLEval[Qwen3-8B/lukaemon_mmlu_human_aging] on CPU \n"
     ]
    },
    {
     "name": "stderr",
     "output_type": "stream",
     "text": [
      "                                               \n",
      "  5%|▌         | 6/111 [25:03<12:47,  7.31s/it]  \n"
     ]
    },
    {
     "name": "stdout",
     "output_type": "stream",
     "text": [
      "launch OpenICLEval[Qwen3-8B/lukaemon_mmlu_us_foreign_policy] on CPU \n"
     ]
    },
    {
     "name": "stderr",
     "output_type": "stream",
     "text": [
      "                                               t]\u001b[A\n",
      "  5%|▌         | 6/111 [25:06<12:47,  7.31s/it]  "
     ]
    },
    {
     "name": "stdout",
     "output_type": "stream",
     "text": [
      "launch OpenICLEval[Qwen3-8B/lukaemon_mmlu_conceptual_physics] on CPU \n"
     ]
    },
    {
     "name": "stderr",
     "output_type": "stream",
     "text": [
      "100%|██████████| 111/111 [04:51<00:00,  2.62s/it]"
     ]
    },
    {
     "name": "stdout",
     "output_type": "stream",
     "text": [
      "06/03 08:02:29 - OpenCompass - \u001b[5m\u001b[4m\u001b[31mERROR\u001b[0m - /usr/local/miniconda3/envs/py310/lib/python3.10/site-packages/opencompass/runners/base.py - summarize - 64 - OpenICLEval[Qwen3-8B/ceval-computer_network] failed with code 1\n",
      "06/03 08:02:29 - OpenCompass - \u001b[5m\u001b[4m\u001b[31mERROR\u001b[0m - /usr/local/miniconda3/envs/py310/lib/python3.10/site-packages/opencompass/runners/base.py - summarize - 64 - OpenICLEval[Qwen3-8B/ceval-operating_system] failed with code 1\n",
      "06/03 08:02:29 - OpenCompass - \u001b[5m\u001b[4m\u001b[31mERROR\u001b[0m - /usr/local/miniconda3/envs/py310/lib/python3.10/site-packages/opencompass/runners/base.py - summarize - 64 - OpenICLEval[Qwen3-8B/ceval-computer_architecture] failed with code 1\n",
      "06/03 08:02:29 - OpenCompass - \u001b[5m\u001b[4m\u001b[31mERROR\u001b[0m - /usr/local/miniconda3/envs/py310/lib/python3.10/site-packages/opencompass/runners/base.py - summarize - 64 - OpenICLEval[Qwen3-8B/ceval-college_programming] failed with code 1\n",
      "06/03 08:02:29 - OpenCompass - \u001b[5m\u001b[4m\u001b[31mERROR\u001b[0m - /usr/local/miniconda3/envs/py310/lib/python3.10/site-packages/opencompass/runners/base.py - summarize - 64 - OpenICLEval[Qwen3-8B/ceval-college_physics] failed with code 1\n",
      "06/03 08:02:29 - OpenCompass - \u001b[5m\u001b[4m\u001b[31mERROR\u001b[0m - /usr/local/miniconda3/envs/py310/lib/python3.10/site-packages/opencompass/runners/base.py - summarize - 64 - OpenICLEval[Qwen3-8B/ceval-college_chemistry] failed with code 1\n",
      "06/03 08:02:29 - OpenCompass - \u001b[5m\u001b[4m\u001b[31mERROR\u001b[0m - /usr/local/miniconda3/envs/py310/lib/python3.10/site-packages/opencompass/runners/base.py - summarize - 64 - OpenICLEval[Qwen3-8B/ceval-advanced_mathematics] failed with code 1\n",
      "06/03 08:02:29 - OpenCompass - \u001b[5m\u001b[4m\u001b[31mERROR\u001b[0m - /usr/local/miniconda3/envs/py310/lib/python3.10/site-packages/opencompass/runners/base.py - summarize - 64 - OpenICLEval[Qwen3-8B/ceval-probability_and_statistics] failed with code 1\n",
      "06/03 08:02:29 - OpenCompass - \u001b[5m\u001b[4m\u001b[31mERROR\u001b[0m - /usr/local/miniconda3/envs/py310/lib/python3.10/site-packages/opencompass/runners/base.py - summarize - 64 - OpenICLEval[Qwen3-8B/ceval-discrete_mathematics] failed with code 1\n",
      "06/03 08:02:29 - OpenCompass - \u001b[5m\u001b[4m\u001b[31mERROR\u001b[0m - /usr/local/miniconda3/envs/py310/lib/python3.10/site-packages/opencompass/runners/base.py - summarize - 64 - OpenICLEval[Qwen3-8B/ceval-electrical_engineer] failed with code 1\n",
      "06/03 08:02:29 - OpenCompass - \u001b[5m\u001b[4m\u001b[31mERROR\u001b[0m - /usr/local/miniconda3/envs/py310/lib/python3.10/site-packages/opencompass/runners/base.py - summarize - 64 - OpenICLEval[Qwen3-8B/ceval-metrology_engineer] failed with code 1\n",
      "06/03 08:02:29 - OpenCompass - \u001b[5m\u001b[4m\u001b[31mERROR\u001b[0m - /usr/local/miniconda3/envs/py310/lib/python3.10/site-packages/opencompass/runners/base.py - summarize - 64 - OpenICLEval[Qwen3-8B/ceval-high_school_mathematics] failed with code 1\n",
      "06/03 08:02:29 - OpenCompass - \u001b[5m\u001b[4m\u001b[31mERROR\u001b[0m - /usr/local/miniconda3/envs/py310/lib/python3.10/site-packages/opencompass/runners/base.py - summarize - 64 - OpenICLEval[Qwen3-8B/ceval-high_school_physics] failed with code 1\n",
      "06/03 08:02:29 - OpenCompass - \u001b[5m\u001b[4m\u001b[31mERROR\u001b[0m - /usr/local/miniconda3/envs/py310/lib/python3.10/site-packages/opencompass/runners/base.py - summarize - 64 - OpenICLEval[Qwen3-8B/ceval-high_school_chemistry] failed with code 1\n",
      "06/03 08:02:29 - OpenCompass - \u001b[5m\u001b[4m\u001b[31mERROR\u001b[0m - /usr/local/miniconda3/envs/py310/lib/python3.10/site-packages/opencompass/runners/base.py - summarize - 64 - OpenICLEval[Qwen3-8B/ceval-high_school_biology] failed with code 1\n",
      "06/03 08:02:29 - OpenCompass - \u001b[5m\u001b[4m\u001b[31mERROR\u001b[0m - /usr/local/miniconda3/envs/py310/lib/python3.10/site-packages/opencompass/runners/base.py - summarize - 64 - OpenICLEval[Qwen3-8B/ceval-middle_school_mathematics] failed with code 1\n",
      "06/03 08:02:29 - OpenCompass - \u001b[5m\u001b[4m\u001b[31mERROR\u001b[0m - /usr/local/miniconda3/envs/py310/lib/python3.10/site-packages/opencompass/runners/base.py - summarize - 64 - OpenICLEval[Qwen3-8B/ceval-middle_school_biology] failed with code 1\n",
      "06/03 08:02:29 - OpenCompass - \u001b[5m\u001b[4m\u001b[31mERROR\u001b[0m - /usr/local/miniconda3/envs/py310/lib/python3.10/site-packages/opencompass/runners/base.py - summarize - 64 - OpenICLEval[Qwen3-8B/ceval-middle_school_physics] failed with code 1\n",
      "06/03 08:02:29 - OpenCompass - \u001b[5m\u001b[4m\u001b[31mERROR\u001b[0m - /usr/local/miniconda3/envs/py310/lib/python3.10/site-packages/opencompass/runners/base.py - summarize - 64 - OpenICLEval[Qwen3-8B/ceval-middle_school_chemistry] failed with code 1\n",
      "06/03 08:02:29 - OpenCompass - \u001b[5m\u001b[4m\u001b[31mERROR\u001b[0m - /usr/local/miniconda3/envs/py310/lib/python3.10/site-packages/opencompass/runners/base.py - summarize - 64 - OpenICLEval[Qwen3-8B/ceval-veterinary_medicine] failed with code 1\n",
      "06/03 08:02:29 - OpenCompass - \u001b[5m\u001b[4m\u001b[31mERROR\u001b[0m - /usr/local/miniconda3/envs/py310/lib/python3.10/site-packages/opencompass/runners/base.py - summarize - 64 - OpenICLEval[Qwen3-8B/ceval-college_economics] failed with code 1\n",
      "06/03 08:02:29 - OpenCompass - \u001b[5m\u001b[4m\u001b[31mERROR\u001b[0m - /usr/local/miniconda3/envs/py310/lib/python3.10/site-packages/opencompass/runners/base.py - summarize - 64 - OpenICLEval[Qwen3-8B/ceval-business_administration] failed with code 1\n",
      "06/03 08:02:29 - OpenCompass - \u001b[5m\u001b[4m\u001b[31mERROR\u001b[0m - /usr/local/miniconda3/envs/py310/lib/python3.10/site-packages/opencompass/runners/base.py - summarize - 64 - OpenICLEval[Qwen3-8B/ceval-marxism] failed with code 1\n",
      "06/03 08:02:29 - OpenCompass - \u001b[5m\u001b[4m\u001b[31mERROR\u001b[0m - /usr/local/miniconda3/envs/py310/lib/python3.10/site-packages/opencompass/runners/base.py - summarize - 64 - OpenICLEval[Qwen3-8B/ceval-mao_zedong_thought] failed with code 1\n",
      "06/03 08:02:29 - OpenCompass - \u001b[5m\u001b[4m\u001b[31mERROR\u001b[0m - /usr/local/miniconda3/envs/py310/lib/python3.10/site-packages/opencompass/runners/base.py - summarize - 64 - OpenICLEval[Qwen3-8B/ceval-education_science] failed with code 1\n",
      "06/03 08:02:29 - OpenCompass - \u001b[5m\u001b[4m\u001b[31mERROR\u001b[0m - /usr/local/miniconda3/envs/py310/lib/python3.10/site-packages/opencompass/runners/base.py - summarize - 64 - OpenICLEval[Qwen3-8B/ceval-teacher_qualification] failed with code 1\n",
      "06/03 08:02:29 - OpenCompass - \u001b[5m\u001b[4m\u001b[31mERROR\u001b[0m - /usr/local/miniconda3/envs/py310/lib/python3.10/site-packages/opencompass/runners/base.py - summarize - 64 - OpenICLEval[Qwen3-8B/ceval-high_school_politics] failed with code 1\n",
      "06/03 08:02:29 - OpenCompass - \u001b[5m\u001b[4m\u001b[31mERROR\u001b[0m - /usr/local/miniconda3/envs/py310/lib/python3.10/site-packages/opencompass/runners/base.py - summarize - 64 - OpenICLEval[Qwen3-8B/ceval-high_school_geography] failed with code 1\n",
      "06/03 08:02:29 - OpenCompass - \u001b[5m\u001b[4m\u001b[31mERROR\u001b[0m - /usr/local/miniconda3/envs/py310/lib/python3.10/site-packages/opencompass/runners/base.py - summarize - 64 - OpenICLEval[Qwen3-8B/ceval-middle_school_politics] failed with code 1\n",
      "06/03 08:02:29 - OpenCompass - \u001b[5m\u001b[4m\u001b[31mERROR\u001b[0m - /usr/local/miniconda3/envs/py310/lib/python3.10/site-packages/opencompass/runners/base.py - summarize - 64 - OpenICLEval[Qwen3-8B/ceval-middle_school_geography] failed with code 1\n",
      "06/03 08:02:29 - OpenCompass - \u001b[5m\u001b[4m\u001b[31mERROR\u001b[0m - /usr/local/miniconda3/envs/py310/lib/python3.10/site-packages/opencompass/runners/base.py - summarize - 64 - OpenICLEval[Qwen3-8B/ceval-modern_chinese_history] failed with code 1\n",
      "06/03 08:02:29 - OpenCompass - \u001b[5m\u001b[4m\u001b[31mERROR\u001b[0m - /usr/local/miniconda3/envs/py310/lib/python3.10/site-packages/opencompass/runners/base.py - summarize - 64 - OpenICLEval[Qwen3-8B/ceval-ideological_and_moral_cultivation] failed with code 1\n",
      "06/03 08:02:29 - OpenCompass - \u001b[5m\u001b[4m\u001b[31mERROR\u001b[0m - /usr/local/miniconda3/envs/py310/lib/python3.10/site-packages/opencompass/runners/base.py - summarize - 64 - OpenICLEval[Qwen3-8B/ceval-logic] failed with code 1\n",
      "06/03 08:02:29 - OpenCompass - \u001b[5m\u001b[4m\u001b[31mERROR\u001b[0m - /usr/local/miniconda3/envs/py310/lib/python3.10/site-packages/opencompass/runners/base.py - summarize - 64 - OpenICLEval[Qwen3-8B/ceval-law] failed with code 1\n",
      "06/03 08:02:29 - OpenCompass - \u001b[5m\u001b[4m\u001b[31mERROR\u001b[0m - /usr/local/miniconda3/envs/py310/lib/python3.10/site-packages/opencompass/runners/base.py - summarize - 64 - OpenICLEval[Qwen3-8B/ceval-chinese_language_and_literature] failed with code 1\n",
      "06/03 08:02:29 - OpenCompass - \u001b[5m\u001b[4m\u001b[31mERROR\u001b[0m - /usr/local/miniconda3/envs/py310/lib/python3.10/site-packages/opencompass/runners/base.py - summarize - 64 - OpenICLEval[Qwen3-8B/ceval-art_studies] failed with code 1\n",
      "06/03 08:02:29 - OpenCompass - \u001b[5m\u001b[4m\u001b[31mERROR\u001b[0m - /usr/local/miniconda3/envs/py310/lib/python3.10/site-packages/opencompass/runners/base.py - summarize - 64 - OpenICLEval[Qwen3-8B/ceval-professional_tour_guide] failed with code 1\n",
      "06/03 08:02:29 - OpenCompass - \u001b[5m\u001b[4m\u001b[31mERROR\u001b[0m - /usr/local/miniconda3/envs/py310/lib/python3.10/site-packages/opencompass/runners/base.py - summarize - 64 - OpenICLEval[Qwen3-8B/ceval-legal_professional] failed with code 1\n",
      "06/03 08:02:29 - OpenCompass - \u001b[5m\u001b[4m\u001b[31mERROR\u001b[0m - /usr/local/miniconda3/envs/py310/lib/python3.10/site-packages/opencompass/runners/base.py - summarize - 64 - OpenICLEval[Qwen3-8B/ceval-high_school_chinese] failed with code 1\n",
      "06/03 08:02:29 - OpenCompass - \u001b[5m\u001b[4m\u001b[31mERROR\u001b[0m - /usr/local/miniconda3/envs/py310/lib/python3.10/site-packages/opencompass/runners/base.py - summarize - 64 - OpenICLEval[Qwen3-8B/ceval-high_school_history] failed with code 1\n",
      "06/03 08:02:29 - OpenCompass - \u001b[5m\u001b[4m\u001b[31mERROR\u001b[0m - /usr/local/miniconda3/envs/py310/lib/python3.10/site-packages/opencompass/runners/base.py - summarize - 64 - OpenICLEval[Qwen3-8B/ceval-middle_school_history] failed with code 1\n",
      "06/03 08:02:29 - OpenCompass - \u001b[5m\u001b[4m\u001b[31mERROR\u001b[0m - /usr/local/miniconda3/envs/py310/lib/python3.10/site-packages/opencompass/runners/base.py - summarize - 64 - OpenICLEval[Qwen3-8B/ceval-civil_servant] failed with code 1\n",
      "06/03 08:02:29 - OpenCompass - \u001b[5m\u001b[4m\u001b[31mERROR\u001b[0m - /usr/local/miniconda3/envs/py310/lib/python3.10/site-packages/opencompass/runners/base.py - summarize - 64 - OpenICLEval[Qwen3-8B/ceval-sports_science] failed with code 1\n",
      "06/03 08:02:29 - OpenCompass - \u001b[5m\u001b[4m\u001b[31mERROR\u001b[0m - /usr/local/miniconda3/envs/py310/lib/python3.10/site-packages/opencompass/runners/base.py - summarize - 64 - OpenICLEval[Qwen3-8B/ceval-plant_protection] failed with code 1\n",
      "06/03 08:02:29 - OpenCompass - \u001b[5m\u001b[4m\u001b[31mERROR\u001b[0m - /usr/local/miniconda3/envs/py310/lib/python3.10/site-packages/opencompass/runners/base.py - summarize - 64 - OpenICLEval[Qwen3-8B/ceval-basic_medicine] failed with code 1\n",
      "06/03 08:02:29 - OpenCompass - \u001b[5m\u001b[4m\u001b[31mERROR\u001b[0m - /usr/local/miniconda3/envs/py310/lib/python3.10/site-packages/opencompass/runners/base.py - summarize - 64 - OpenICLEval[Qwen3-8B/ceval-clinical_medicine] failed with code 1\n",
      "06/03 08:02:29 - OpenCompass - \u001b[5m\u001b[4m\u001b[31mERROR\u001b[0m - /usr/local/miniconda3/envs/py310/lib/python3.10/site-packages/opencompass/runners/base.py - summarize - 64 - OpenICLEval[Qwen3-8B/ceval-urban_and_rural_planner] failed with code 1\n",
      "06/03 08:02:29 - OpenCompass - \u001b[5m\u001b[4m\u001b[31mERROR\u001b[0m - /usr/local/miniconda3/envs/py310/lib/python3.10/site-packages/opencompass/runners/base.py - summarize - 64 - OpenICLEval[Qwen3-8B/ceval-accountant] failed with code 1\n",
      "06/03 08:02:29 - OpenCompass - \u001b[5m\u001b[4m\u001b[31mERROR\u001b[0m - /usr/local/miniconda3/envs/py310/lib/python3.10/site-packages/opencompass/runners/base.py - summarize - 64 - OpenICLEval[Qwen3-8B/ceval-fire_engineer] failed with code 1\n",
      "06/03 08:02:29 - OpenCompass - \u001b[5m\u001b[4m\u001b[31mERROR\u001b[0m - /usr/local/miniconda3/envs/py310/lib/python3.10/site-packages/opencompass/runners/base.py - summarize - 64 - OpenICLEval[Qwen3-8B/ceval-environmental_impact_assessment_engineer] failed with code 1\n",
      "06/03 08:02:29 - OpenCompass - \u001b[5m\u001b[4m\u001b[31mERROR\u001b[0m - /usr/local/miniconda3/envs/py310/lib/python3.10/site-packages/opencompass/runners/base.py - summarize - 64 - OpenICLEval[Qwen3-8B/ceval-tax_accountant] failed with code 1\n",
      "06/03 08:02:29 - OpenCompass - \u001b[5m\u001b[4m\u001b[31mERROR\u001b[0m - /usr/local/miniconda3/envs/py310/lib/python3.10/site-packages/opencompass/runners/base.py - summarize - 64 - OpenICLEval[Qwen3-8B/ceval-physician] failed with code 1\n",
      "dataset                                            version    metric    mode    Qwen3-8B\n",
      "-------------------------------------------------  ---------  --------  ------  ----------\n",
      "ARC-c                                              1e0de5     accuracy  gen     20.00\n",
      "ceval-computer_network                             -          -         -       -\n",
      "ceval-operating_system                             -          -         -       -\n",
      "ceval-computer_architecture                        -          -         -       -\n",
      "ceval-college_programming                          -          -         -       -\n",
      "ceval-college_physics                              -          -         -       -\n",
      "ceval-college_chemistry                            -          -         -       -\n",
      "ceval-advanced_mathematics                         -          -         -       -\n",
      "ceval-probability_and_statistics                   -          -         -       -\n",
      "ceval-discrete_mathematics                         -          -         -       -\n",
      "ceval-electrical_engineer                          -          -         -       -\n",
      "ceval-metrology_engineer                           -          -         -       -\n",
      "ceval-high_school_mathematics                      -          -         -       -\n",
      "ceval-high_school_physics                          -          -         -       -\n",
      "ceval-high_school_chemistry                        -          -         -       -\n",
      "ceval-high_school_biology                          -          -         -       -\n",
      "ceval-middle_school_mathematics                    -          -         -       -\n",
      "ceval-middle_school_biology                        -          -         -       -\n",
      "ceval-middle_school_physics                        -          -         -       -\n",
      "ceval-middle_school_chemistry                      -          -         -       -\n",
      "ceval-veterinary_medicine                          -          -         -       -\n",
      "ceval-college_economics                            -          -         -       -\n",
      "ceval-business_administration                      -          -         -       -\n",
      "ceval-marxism                                      -          -         -       -\n",
      "ceval-mao_zedong_thought                           -          -         -       -\n",
      "ceval-education_science                            -          -         -       -\n",
      "ceval-teacher_qualification                        -          -         -       -\n",
      "ceval-high_school_politics                         -          -         -       -\n",
      "ceval-high_school_geography                        -          -         -       -\n",
      "ceval-middle_school_politics                       -          -         -       -\n",
      "ceval-middle_school_geography                      -          -         -       -\n",
      "ceval-modern_chinese_history                       -          -         -       -\n",
      "ceval-ideological_and_moral_cultivation            -          -         -       -\n",
      "ceval-logic                                        -          -         -       -\n",
      "ceval-law                                          -          -         -       -\n",
      "ceval-chinese_language_and_literature              -          -         -       -\n",
      "ceval-art_studies                                  -          -         -       -\n",
      "ceval-professional_tour_guide                      -          -         -       -\n",
      "ceval-legal_professional                           -          -         -       -\n",
      "ceval-high_school_chinese                          -          -         -       -\n",
      "ceval-high_school_history                          -          -         -       -\n",
      "ceval-middle_school_history                        -          -         -       -\n",
      "ceval-civil_servant                                -          -         -       -\n",
      "ceval-sports_science                               -          -         -       -\n",
      "ceval-plant_protection                             -          -         -       -\n",
      "ceval-basic_medicine                               -          -         -       -\n",
      "ceval-clinical_medicine                            -          -         -       -\n",
      "ceval-urban_and_rural_planner                      -          -         -       -\n",
      "ceval-accountant                                   -          -         -       -\n",
      "ceval-fire_engineer                                -          -         -       -\n",
      "ceval-environmental_impact_assessment_engineer     -          -         -       -\n",
      "ceval-tax_accountant                               -          -         -       -\n",
      "ceval-physician                                    -          -         -       -\n",
      "gsm8k                                              -          -         -       -\n",
      "lukaemon_mmlu_college_biology                      caec7d     accuracy  gen     90.00\n",
      "lukaemon_mmlu_college_chemistry                    -          -         -       -\n",
      "lukaemon_mmlu_college_computer_science             -          -         -       -\n",
      "lukaemon_mmlu_college_mathematics                  -          -         -       -\n",
      "lukaemon_mmlu_college_physics                      -          -         -       -\n",
      "lukaemon_mmlu_electrical_engineering               -          -         -       -\n",
      "lukaemon_mmlu_astronomy                            d3ee01     accuracy  gen     90.00\n",
      "lukaemon_mmlu_anatomy                              -          -         -       -\n",
      "lukaemon_mmlu_abstract_algebra                     -          -         -       -\n",
      "lukaemon_mmlu_machine_learning                     -          -         -       -\n",
      "lukaemon_mmlu_clinical_knowledge                   cb3218     accuracy  gen     70.00\n",
      "lukaemon_mmlu_global_facts                         ab07b6     accuracy  gen     50.00\n",
      "lukaemon_mmlu_management                           80876d     accuracy  gen     90.00\n",
      "lukaemon_mmlu_nutrition                            -          -         -       -\n",
      "lukaemon_mmlu_marketing                            7394e3     accuracy  gen     100.00\n",
      "lukaemon_mmlu_professional_accounting              -          -         -       -\n",
      "lukaemon_mmlu_high_school_geography                0780e6     accuracy  gen     90.00\n",
      "lukaemon_mmlu_international_law                    -          -         -       -\n",
      "lukaemon_mmlu_moral_scenarios                      f6dbe2     accuracy  gen     90.00\n",
      "lukaemon_mmlu_computer_security                    ce7550     accuracy  gen     80.00\n",
      "lukaemon_mmlu_high_school_microeconomics           -          -         -       -\n",
      "lukaemon_mmlu_professional_law                     5f7e6c     accuracy  gen     50.00\n",
      "lukaemon_mmlu_medical_genetics                     881ef5     accuracy  gen     90.00\n",
      "lukaemon_mmlu_professional_psychology              221a16     accuracy  gen     80.00\n",
      "lukaemon_mmlu_jurisprudence                        001f24     accuracy  gen     100.00\n",
      "lukaemon_mmlu_world_religions                      232c09     accuracy  gen     100.00\n",
      "lukaemon_mmlu_philosophy                           08042b     accuracy  gen     90.00\n",
      "lukaemon_mmlu_virology                             12e270     accuracy  gen     50.00\n",
      "lukaemon_mmlu_high_school_chemistry                -          -         -       -\n",
      "lukaemon_mmlu_public_relations                     -          -         -       -\n",
      "lukaemon_mmlu_high_school_macroeconomics           a01685     accuracy  gen     80.00\n",
      "lukaemon_mmlu_human_sexuality                      -          -         -       -\n",
      "lukaemon_mmlu_elementary_mathematics               269926     accuracy  gen     100.00\n",
      "lukaemon_mmlu_high_school_physics                  -          -         -       -\n",
      "lukaemon_mmlu_high_school_computer_science         9965a5     accuracy  gen     90.00\n",
      "lukaemon_mmlu_high_school_european_history         eefc90     accuracy  gen     90.00\n",
      "lukaemon_mmlu_business_ethics                      1dec08     accuracy  gen     80.00\n",
      "lukaemon_mmlu_moral_disputes                       a2173e     accuracy  gen     80.00\n",
      "lukaemon_mmlu_high_school_statistics               -          -         -       -\n",
      "lukaemon_mmlu_miscellaneous                        -          -         -       -\n",
      "lukaemon_mmlu_formal_logic                         -          -         -       -\n",
      "lukaemon_mmlu_high_school_government_and_politics  3c52f9     accuracy  gen     90.00\n",
      "lukaemon_mmlu_prehistory                           bbb197     accuracy  gen     90.00\n",
      "lukaemon_mmlu_security_studies                     9b1743     accuracy  gen     100.00\n",
      "lukaemon_mmlu_high_school_biology                  37b125     accuracy  gen     100.00\n",
      "lukaemon_mmlu_logical_fallacies                    -          -         -       -\n",
      "lukaemon_mmlu_high_school_world_history            048e7e     accuracy  gen     100.00\n",
      "lukaemon_mmlu_professional_medicine                857144     accuracy  gen     100.00\n",
      "lukaemon_mmlu_high_school_mathematics              -          -         -       -\n",
      "lukaemon_mmlu_college_medicine                     -          -         -       -\n",
      "lukaemon_mmlu_high_school_us_history               8932df     accuracy  gen     90.00\n",
      "lukaemon_mmlu_sociology                            c266a2     accuracy  gen     80.00\n",
      "lukaemon_mmlu_econometrics                         -          -         -       -\n",
      "lukaemon_mmlu_high_school_psychology               7db114     accuracy  gen     90.00\n",
      "lukaemon_mmlu_human_aging                          82a410     accuracy  gen     80.00\n",
      "lukaemon_mmlu_us_foreign_policy                    528cfe     accuracy  gen     90.00\n",
      "lukaemon_mmlu_conceptual_physics                   -          -         -       -\n",
      "06/03 08:02:29 - OpenCompass - \u001b[4m\u001b[97mINFO\u001b[0m - write summary to /root/llm_practice/eval/Qwen3/outputs/qwen3_eval_result/20250603_073810/summary/summary_20250603_073810.txt\n",
      "06/03 08:02:29 - OpenCompass - \u001b[4m\u001b[97mINFO\u001b[0m - write csv to /root/llm_practice/eval/Qwen3/outputs/qwen3_eval_result/20250603_073810/summary/summary_20250603_073810.csv\n",
      "\n",
      "\n",
      "The markdown format results is as below:\n",
      "\n",
      "| dataset | version | metric | mode | Qwen3-8B |\n",
      "|----- | ----- | ----- | ----- | -----|\n",
      "| ARC-c | 1e0de5 | accuracy | gen | 20.00 |\n",
      "| ceval-computer_network | - | - | - | - |\n",
      "| ceval-operating_system | - | - | - | - |\n",
      "| ceval-computer_architecture | - | - | - | - |\n",
      "| ceval-college_programming | - | - | - | - |\n",
      "| ceval-college_physics | - | - | - | - |\n",
      "| ceval-college_chemistry | - | - | - | - |\n",
      "| ceval-advanced_mathematics | - | - | - | - |\n",
      "| ceval-probability_and_statistics | - | - | - | - |\n",
      "| ceval-discrete_mathematics | - | - | - | - |\n",
      "| ceval-electrical_engineer | - | - | - | - |\n",
      "| ceval-metrology_engineer | - | - | - | - |\n",
      "| ceval-high_school_mathematics | - | - | - | - |\n",
      "| ceval-high_school_physics | - | - | - | - |\n",
      "| ceval-high_school_chemistry | - | - | - | - |\n",
      "| ceval-high_school_biology | - | - | - | - |\n",
      "| ceval-middle_school_mathematics | - | - | - | - |\n",
      "| ceval-middle_school_biology | - | - | - | - |\n",
      "| ceval-middle_school_physics | - | - | - | - |\n",
      "| ceval-middle_school_chemistry | - | - | - | - |\n",
      "| ceval-veterinary_medicine | - | - | - | - |\n",
      "| ceval-college_economics | - | - | - | - |\n",
      "| ceval-business_administration | - | - | - | - |\n",
      "| ceval-marxism | - | - | - | - |\n",
      "| ceval-mao_zedong_thought | - | - | - | - |\n",
      "| ceval-education_science | - | - | - | - |\n",
      "| ceval-teacher_qualification | - | - | - | - |\n",
      "| ceval-high_school_politics | - | - | - | - |\n",
      "| ceval-high_school_geography | - | - | - | - |\n",
      "| ceval-middle_school_politics | - | - | - | - |\n",
      "| ceval-middle_school_geography | - | - | - | - |\n",
      "| ceval-modern_chinese_history | - | - | - | - |\n",
      "| ceval-ideological_and_moral_cultivation | - | - | - | - |\n",
      "| ceval-logic | - | - | - | - |\n",
      "| ceval-law | - | - | - | - |\n",
      "| ceval-chinese_language_and_literature | - | - | - | - |\n",
      "| ceval-art_studies | - | - | - | - |\n",
      "| ceval-professional_tour_guide | - | - | - | - |\n",
      "| ceval-legal_professional | - | - | - | - |\n",
      "| ceval-high_school_chinese | - | - | - | - |\n",
      "| ceval-high_school_history | - | - | - | - |\n",
      "| ceval-middle_school_history | - | - | - | - |\n",
      "| ceval-civil_servant | - | - | - | - |\n",
      "| ceval-sports_science | - | - | - | - |\n",
      "| ceval-plant_protection | - | - | - | - |\n",
      "| ceval-basic_medicine | - | - | - | - |\n",
      "| ceval-clinical_medicine | - | - | - | - |\n",
      "| ceval-urban_and_rural_planner | - | - | - | - |\n",
      "| ceval-accountant | - | - | - | - |\n",
      "| ceval-fire_engineer | - | - | - | - |\n",
      "| ceval-environmental_impact_assessment_engineer | - | - | - | - |\n",
      "| ceval-tax_accountant | - | - | - | - |\n",
      "| ceval-physician | - | - | - | - |\n",
      "| gsm8k | - | - | - | - |\n",
      "| lukaemon_mmlu_college_biology | caec7d | accuracy | gen | 90.00 |\n",
      "| lukaemon_mmlu_college_chemistry | - | - | - | - |\n",
      "| lukaemon_mmlu_college_computer_science | - | - | - | - |\n",
      "| lukaemon_mmlu_college_mathematics | - | - | - | - |\n",
      "| lukaemon_mmlu_college_physics | - | - | - | - |\n",
      "| lukaemon_mmlu_electrical_engineering | - | - | - | - |\n",
      "| lukaemon_mmlu_astronomy | d3ee01 | accuracy | gen | 90.00 |\n",
      "| lukaemon_mmlu_anatomy | - | - | - | - |\n",
      "| lukaemon_mmlu_abstract_algebra | - | - | - | - |\n",
      "| lukaemon_mmlu_machine_learning | - | - | - | - |\n",
      "| lukaemon_mmlu_clinical_knowledge | cb3218 | accuracy | gen | 70.00 |\n",
      "| lukaemon_mmlu_global_facts | ab07b6 | accuracy | gen | 50.00 |\n",
      "| lukaemon_mmlu_management | 80876d | accuracy | gen | 90.00 |\n",
      "| lukaemon_mmlu_nutrition | - | - | - | - |\n",
      "| lukaemon_mmlu_marketing | 7394e3 | accuracy | gen | 100.00 |\n",
      "| lukaemon_mmlu_professional_accounting | - | - | - | - |\n",
      "| lukaemon_mmlu_high_school_geography | 0780e6 | accuracy | gen | 90.00 |\n",
      "| lukaemon_mmlu_international_law | - | - | - | - |\n",
      "| lukaemon_mmlu_moral_scenarios | f6dbe2 | accuracy | gen | 90.00 |\n",
      "| lukaemon_mmlu_computer_security | ce7550 | accuracy | gen | 80.00 |\n",
      "| lukaemon_mmlu_high_school_microeconomics | - | - | - | - |\n",
      "| lukaemon_mmlu_professional_law | 5f7e6c | accuracy | gen | 50.00 |\n",
      "| lukaemon_mmlu_medical_genetics | 881ef5 | accuracy | gen | 90.00 |\n",
      "| lukaemon_mmlu_professional_psychology | 221a16 | accuracy | gen | 80.00 |\n",
      "| lukaemon_mmlu_jurisprudence | 001f24 | accuracy | gen | 100.00 |\n",
      "| lukaemon_mmlu_world_religions | 232c09 | accuracy | gen | 100.00 |\n",
      "| lukaemon_mmlu_philosophy | 08042b | accuracy | gen | 90.00 |\n",
      "| lukaemon_mmlu_virology | 12e270 | accuracy | gen | 50.00 |\n",
      "| lukaemon_mmlu_high_school_chemistry | - | - | - | - |\n",
      "| lukaemon_mmlu_public_relations | - | - | - | - |\n",
      "| lukaemon_mmlu_high_school_macroeconomics | a01685 | accuracy | gen | 80.00 |\n",
      "| lukaemon_mmlu_human_sexuality | - | - | - | - |\n",
      "| lukaemon_mmlu_elementary_mathematics | 269926 | accuracy | gen | 100.00 |\n",
      "| lukaemon_mmlu_high_school_physics | - | - | - | - |\n",
      "| lukaemon_mmlu_high_school_computer_science | 9965a5 | accuracy | gen | 90.00 |\n",
      "| lukaemon_mmlu_high_school_european_history | eefc90 | accuracy | gen | 90.00 |\n",
      "| lukaemon_mmlu_business_ethics | 1dec08 | accuracy | gen | 80.00 |\n",
      "| lukaemon_mmlu_moral_disputes | a2173e | accuracy | gen | 80.00 |\n",
      "| lukaemon_mmlu_high_school_statistics | - | - | - | - |\n",
      "| lukaemon_mmlu_miscellaneous | - | - | - | - |\n",
      "| lukaemon_mmlu_formal_logic | - | - | - | - |\n",
      "| lukaemon_mmlu_high_school_government_and_politics | 3c52f9 | accuracy | gen | 90.00 |\n",
      "| lukaemon_mmlu_prehistory | bbb197 | accuracy | gen | 90.00 |\n",
      "| lukaemon_mmlu_security_studies | 9b1743 | accuracy | gen | 100.00 |\n",
      "| lukaemon_mmlu_high_school_biology | 37b125 | accuracy | gen | 100.00 |\n",
      "| lukaemon_mmlu_logical_fallacies | - | - | - | - |\n",
      "| lukaemon_mmlu_high_school_world_history | 048e7e | accuracy | gen | 100.00 |\n",
      "| lukaemon_mmlu_professional_medicine | 857144 | accuracy | gen | 100.00 |\n",
      "| lukaemon_mmlu_high_school_mathematics | - | - | - | - |\n",
      "| lukaemon_mmlu_college_medicine | - | - | - | - |\n",
      "| lukaemon_mmlu_high_school_us_history | 8932df | accuracy | gen | 90.00 |\n",
      "| lukaemon_mmlu_sociology | c266a2 | accuracy | gen | 80.00 |\n",
      "| lukaemon_mmlu_econometrics | - | - | - | - |\n",
      "| lukaemon_mmlu_high_school_psychology | 7db114 | accuracy | gen | 90.00 |\n",
      "| lukaemon_mmlu_human_aging | 82a410 | accuracy | gen | 80.00 |\n",
      "| lukaemon_mmlu_us_foreign_policy | 528cfe | accuracy | gen | 90.00 |\n",
      "| lukaemon_mmlu_conceptual_physics | - | - | - | - |\n",
      "\n",
      "06/03 08:02:29 - OpenCompass - \u001b[4m\u001b[97mINFO\u001b[0m - write markdown summary to /root/llm_practice/eval/Qwen3/outputs/qwen3_eval_result/20250603_073810/summary/summary_20250603_073810.md\n"
     ]
    },
    {
     "name": "stderr",
     "output_type": "stream",
     "text": [
      "\n",
      "2025-06-03 08:02:29,224 - evalscope - INFO - Args: Task config is provided with dictionary type.\n",
      "2025-06-03 08:02:29,224 - evalscope - INFO - **Loading task cfg for summarizer: {\n",
      "    \"model\": \"DummyCustomModel\",\n",
      "    \"model_id\": \"dummy-model\",\n",
      "    \"model_args\": {},\n",
      "    \"model_task\": \"text_generation\",\n",
      "    \"template_type\": null,\n",
      "    \"chat_template\": null,\n",
      "    \"datasets\": [],\n",
      "    \"dataset_args\": {},\n",
      "    \"dataset_dir\": \"/root/.cache/modelscope/hub/datasets\",\n",
      "    \"dataset_hub\": \"modelscope\",\n",
      "    \"generation_config\": {},\n",
      "    \"eval_type\": \"custom\",\n",
      "    \"eval_backend\": \"OpenCompass\",\n",
      "    \"eval_config\": {\n",
      "        \"datasets\": [\n",
      "            \"mmlu\",\n",
      "            \"ceval\",\n",
      "            \"ARC_c\",\n",
      "            \"gsm8k\"\n",
      "        ],\n",
      "        \"models\": [\n",
      "            {\n",
      "                \"path\": \"Qwen3-8B\",\n",
      "                \"openai_api_base\": \"http://127.0.0.1:8000/v1/chat/completions\",\n",
      "                \"is_chat\": true,\n",
      "                \"batch_size\": 16,\n",
      "                \"abbr\": \"Qwen3-8B\"\n",
      "            }\n",
      "        ],\n",
      "        \"work_dir\": \"outputs/qwen3_eval_result\",\n",
      "        \"limit\": 10,\n",
      "        \"time_str\": \"20250603_073810\"\n",
      "    },\n",
      "    \"stage\": \"all\",\n",
      "    \"limit\": null,\n",
      "    \"eval_batch_size\": 1,\n",
      "    \"mem_cache\": false,\n",
      "    \"use_cache\": null,\n",
      "    \"work_dir\": \"./outputs\",\n",
      "    \"outputs\": null,\n",
      "    \"ignore_errors\": false,\n",
      "    \"debug\": false,\n",
      "    \"dry_run\": false,\n",
      "    \"seed\": 42,\n",
      "    \"api_url\": null,\n",
      "    \"api_key\": \"EMPTY\",\n",
      "    \"timeout\": null,\n",
      "    \"stream\": false,\n",
      "    \"judge_strategy\": \"auto\",\n",
      "    \"judge_worker_num\": 1,\n",
      "    \"judge_model_args\": {}\n",
      "}\n"
     ]
    },
    {
     "name": "stdout",
     "output_type": "stream",
     "text": [
      ">> Start to get the report with summarizer ...\n",
      "\n",
      ">> The report list: [{'dataset': 'ARC-c', 'version': '1e0de5', 'metric': 'accuracy', 'mode': 'gen', 'Qwen3-8B': '20.00'}, {'dataset': 'ceval-computer_network', 'version': '-', 'metric': '-', 'mode': '-', 'Qwen3-8B': '-'}, {'dataset': 'ceval-operating_system', 'version': '-', 'metric': '-', 'mode': '-', 'Qwen3-8B': '-'}, {'dataset': 'ceval-computer_architecture', 'version': '-', 'metric': '-', 'mode': '-', 'Qwen3-8B': '-'}, {'dataset': 'ceval-college_programming', 'version': '-', 'metric': '-', 'mode': '-', 'Qwen3-8B': '-'}, {'dataset': 'ceval-college_physics', 'version': '-', 'metric': '-', 'mode': '-', 'Qwen3-8B': '-'}, {'dataset': 'ceval-college_chemistry', 'version': '-', 'metric': '-', 'mode': '-', 'Qwen3-8B': '-'}, {'dataset': 'ceval-advanced_mathematics', 'version': '-', 'metric': '-', 'mode': '-', 'Qwen3-8B': '-'}, {'dataset': 'ceval-probability_and_statistics', 'version': '-', 'metric': '-', 'mode': '-', 'Qwen3-8B': '-'}, {'dataset': 'ceval-discrete_mathematics', 'version': '-', 'metric': '-', 'mode': '-', 'Qwen3-8B': '-'}, {'dataset': 'ceval-electrical_engineer', 'version': '-', 'metric': '-', 'mode': '-', 'Qwen3-8B': '-'}, {'dataset': 'ceval-metrology_engineer', 'version': '-', 'metric': '-', 'mode': '-', 'Qwen3-8B': '-'}, {'dataset': 'ceval-high_school_mathematics', 'version': '-', 'metric': '-', 'mode': '-', 'Qwen3-8B': '-'}, {'dataset': 'ceval-high_school_physics', 'version': '-', 'metric': '-', 'mode': '-', 'Qwen3-8B': '-'}, {'dataset': 'ceval-high_school_chemistry', 'version': '-', 'metric': '-', 'mode': '-', 'Qwen3-8B': '-'}, {'dataset': 'ceval-high_school_biology', 'version': '-', 'metric': '-', 'mode': '-', 'Qwen3-8B': '-'}, {'dataset': 'ceval-middle_school_mathematics', 'version': '-', 'metric': '-', 'mode': '-', 'Qwen3-8B': '-'}, {'dataset': 'ceval-middle_school_biology', 'version': '-', 'metric': '-', 'mode': '-', 'Qwen3-8B': '-'}, {'dataset': 'ceval-middle_school_physics', 'version': '-', 'metric': '-', 'mode': '-', 'Qwen3-8B': '-'}, {'dataset': 'ceval-middle_school_chemistry', 'version': '-', 'metric': '-', 'mode': '-', 'Qwen3-8B': '-'}, {'dataset': 'ceval-veterinary_medicine', 'version': '-', 'metric': '-', 'mode': '-', 'Qwen3-8B': '-'}, {'dataset': 'ceval-college_economics', 'version': '-', 'metric': '-', 'mode': '-', 'Qwen3-8B': '-'}, {'dataset': 'ceval-business_administration', 'version': '-', 'metric': '-', 'mode': '-', 'Qwen3-8B': '-'}, {'dataset': 'ceval-marxism', 'version': '-', 'metric': '-', 'mode': '-', 'Qwen3-8B': '-'}, {'dataset': 'ceval-mao_zedong_thought', 'version': '-', 'metric': '-', 'mode': '-', 'Qwen3-8B': '-'}, {'dataset': 'ceval-education_science', 'version': '-', 'metric': '-', 'mode': '-', 'Qwen3-8B': '-'}, {'dataset': 'ceval-teacher_qualification', 'version': '-', 'metric': '-', 'mode': '-', 'Qwen3-8B': '-'}, {'dataset': 'ceval-high_school_politics', 'version': '-', 'metric': '-', 'mode': '-', 'Qwen3-8B': '-'}, {'dataset': 'ceval-high_school_geography', 'version': '-', 'metric': '-', 'mode': '-', 'Qwen3-8B': '-'}, {'dataset': 'ceval-middle_school_politics', 'version': '-', 'metric': '-', 'mode': '-', 'Qwen3-8B': '-'}, {'dataset': 'ceval-middle_school_geography', 'version': '-', 'metric': '-', 'mode': '-', 'Qwen3-8B': '-'}, {'dataset': 'ceval-modern_chinese_history', 'version': '-', 'metric': '-', 'mode': '-', 'Qwen3-8B': '-'}, {'dataset': 'ceval-ideological_and_moral_cultivation', 'version': '-', 'metric': '-', 'mode': '-', 'Qwen3-8B': '-'}, {'dataset': 'ceval-logic', 'version': '-', 'metric': '-', 'mode': '-', 'Qwen3-8B': '-'}, {'dataset': 'ceval-law', 'version': '-', 'metric': '-', 'mode': '-', 'Qwen3-8B': '-'}, {'dataset': 'ceval-chinese_language_and_literature', 'version': '-', 'metric': '-', 'mode': '-', 'Qwen3-8B': '-'}, {'dataset': 'ceval-art_studies', 'version': '-', 'metric': '-', 'mode': '-', 'Qwen3-8B': '-'}, {'dataset': 'ceval-professional_tour_guide', 'version': '-', 'metric': '-', 'mode': '-', 'Qwen3-8B': '-'}, {'dataset': 'ceval-legal_professional', 'version': '-', 'metric': '-', 'mode': '-', 'Qwen3-8B': '-'}, {'dataset': 'ceval-high_school_chinese', 'version': '-', 'metric': '-', 'mode': '-', 'Qwen3-8B': '-'}, {'dataset': 'ceval-high_school_history', 'version': '-', 'metric': '-', 'mode': '-', 'Qwen3-8B': '-'}, {'dataset': 'ceval-middle_school_history', 'version': '-', 'metric': '-', 'mode': '-', 'Qwen3-8B': '-'}, {'dataset': 'ceval-civil_servant', 'version': '-', 'metric': '-', 'mode': '-', 'Qwen3-8B': '-'}, {'dataset': 'ceval-sports_science', 'version': '-', 'metric': '-', 'mode': '-', 'Qwen3-8B': '-'}, {'dataset': 'ceval-plant_protection', 'version': '-', 'metric': '-', 'mode': '-', 'Qwen3-8B': '-'}, {'dataset': 'ceval-basic_medicine', 'version': '-', 'metric': '-', 'mode': '-', 'Qwen3-8B': '-'}, {'dataset': 'ceval-clinical_medicine', 'version': '-', 'metric': '-', 'mode': '-', 'Qwen3-8B': '-'}, {'dataset': 'ceval-urban_and_rural_planner', 'version': '-', 'metric': '-', 'mode': '-', 'Qwen3-8B': '-'}, {'dataset': 'ceval-accountant', 'version': '-', 'metric': '-', 'mode': '-', 'Qwen3-8B': '-'}, {'dataset': 'ceval-fire_engineer', 'version': '-', 'metric': '-', 'mode': '-', 'Qwen3-8B': '-'}, {'dataset': 'ceval-environmental_impact_assessment_engineer', 'version': '-', 'metric': '-', 'mode': '-', 'Qwen3-8B': '-'}, {'dataset': 'ceval-tax_accountant', 'version': '-', 'metric': '-', 'mode': '-', 'Qwen3-8B': '-'}, {'dataset': 'ceval-physician', 'version': '-', 'metric': '-', 'mode': '-', 'Qwen3-8B': '-'}, {'dataset': 'gsm8k', 'version': '-', 'metric': '-', 'mode': '-', 'Qwen3-8B': '-'}, {'dataset': 'lukaemon_mmlu_college_biology', 'version': 'caec7d', 'metric': 'accuracy', 'mode': 'gen', 'Qwen3-8B': '90.00'}, {'dataset': 'lukaemon_mmlu_college_chemistry', 'version': '-', 'metric': '-', 'mode': '-', 'Qwen3-8B': '-'}, {'dataset': 'lukaemon_mmlu_college_computer_science', 'version': '-', 'metric': '-', 'mode': '-', 'Qwen3-8B': '-'}, {'dataset': 'lukaemon_mmlu_college_mathematics', 'version': '-', 'metric': '-', 'mode': '-', 'Qwen3-8B': '-'}, {'dataset': 'lukaemon_mmlu_college_physics', 'version': '-', 'metric': '-', 'mode': '-', 'Qwen3-8B': '-'}, {'dataset': 'lukaemon_mmlu_electrical_engineering', 'version': '-', 'metric': '-', 'mode': '-', 'Qwen3-8B': '-'}, {'dataset': 'lukaemon_mmlu_astronomy', 'version': 'd3ee01', 'metric': 'accuracy', 'mode': 'gen', 'Qwen3-8B': '90.00'}, {'dataset': 'lukaemon_mmlu_anatomy', 'version': '-', 'metric': '-', 'mode': '-', 'Qwen3-8B': '-'}, {'dataset': 'lukaemon_mmlu_abstract_algebra', 'version': '-', 'metric': '-', 'mode': '-', 'Qwen3-8B': '-'}, {'dataset': 'lukaemon_mmlu_machine_learning', 'version': '-', 'metric': '-', 'mode': '-', 'Qwen3-8B': '-'}, {'dataset': 'lukaemon_mmlu_clinical_knowledge', 'version': 'cb3218', 'metric': 'accuracy', 'mode': 'gen', 'Qwen3-8B': '70.00'}, {'dataset': 'lukaemon_mmlu_global_facts', 'version': 'ab07b6', 'metric': 'accuracy', 'mode': 'gen', 'Qwen3-8B': '50.00'}, {'dataset': 'lukaemon_mmlu_management', 'version': '80876d', 'metric': 'accuracy', 'mode': 'gen', 'Qwen3-8B': '90.00'}, {'dataset': 'lukaemon_mmlu_nutrition', 'version': '-', 'metric': '-', 'mode': '-', 'Qwen3-8B': '-'}, {'dataset': 'lukaemon_mmlu_marketing', 'version': '7394e3', 'metric': 'accuracy', 'mode': 'gen', 'Qwen3-8B': '100.00'}, {'dataset': 'lukaemon_mmlu_professional_accounting', 'version': '-', 'metric': '-', 'mode': '-', 'Qwen3-8B': '-'}, {'dataset': 'lukaemon_mmlu_high_school_geography', 'version': '0780e6', 'metric': 'accuracy', 'mode': 'gen', 'Qwen3-8B': '90.00'}, {'dataset': 'lukaemon_mmlu_international_law', 'version': '-', 'metric': '-', 'mode': '-', 'Qwen3-8B': '-'}, {'dataset': 'lukaemon_mmlu_moral_scenarios', 'version': 'f6dbe2', 'metric': 'accuracy', 'mode': 'gen', 'Qwen3-8B': '90.00'}, {'dataset': 'lukaemon_mmlu_computer_security', 'version': 'ce7550', 'metric': 'accuracy', 'mode': 'gen', 'Qwen3-8B': '80.00'}, {'dataset': 'lukaemon_mmlu_high_school_microeconomics', 'version': '-', 'metric': '-', 'mode': '-', 'Qwen3-8B': '-'}, {'dataset': 'lukaemon_mmlu_professional_law', 'version': '5f7e6c', 'metric': 'accuracy', 'mode': 'gen', 'Qwen3-8B': '50.00'}, {'dataset': 'lukaemon_mmlu_medical_genetics', 'version': '881ef5', 'metric': 'accuracy', 'mode': 'gen', 'Qwen3-8B': '90.00'}, {'dataset': 'lukaemon_mmlu_professional_psychology', 'version': '221a16', 'metric': 'accuracy', 'mode': 'gen', 'Qwen3-8B': '80.00'}, {'dataset': 'lukaemon_mmlu_jurisprudence', 'version': '001f24', 'metric': 'accuracy', 'mode': 'gen', 'Qwen3-8B': '100.00'}, {'dataset': 'lukaemon_mmlu_world_religions', 'version': '232c09', 'metric': 'accuracy', 'mode': 'gen', 'Qwen3-8B': '100.00'}, {'dataset': 'lukaemon_mmlu_philosophy', 'version': '08042b', 'metric': 'accuracy', 'mode': 'gen', 'Qwen3-8B': '90.00'}, {'dataset': 'lukaemon_mmlu_virology', 'version': '12e270', 'metric': 'accuracy', 'mode': 'gen', 'Qwen3-8B': '50.00'}, {'dataset': 'lukaemon_mmlu_high_school_chemistry', 'version': '-', 'metric': '-', 'mode': '-', 'Qwen3-8B': '-'}, {'dataset': 'lukaemon_mmlu_public_relations', 'version': '-', 'metric': '-', 'mode': '-', 'Qwen3-8B': '-'}, {'dataset': 'lukaemon_mmlu_high_school_macroeconomics', 'version': 'a01685', 'metric': 'accuracy', 'mode': 'gen', 'Qwen3-8B': '80.00'}, {'dataset': 'lukaemon_mmlu_human_sexuality', 'version': '-', 'metric': '-', 'mode': '-', 'Qwen3-8B': '-'}, {'dataset': 'lukaemon_mmlu_elementary_mathematics', 'version': '269926', 'metric': 'accuracy', 'mode': 'gen', 'Qwen3-8B': '100.00'}, {'dataset': 'lukaemon_mmlu_high_school_physics', 'version': '-', 'metric': '-', 'mode': '-', 'Qwen3-8B': '-'}, {'dataset': 'lukaemon_mmlu_high_school_computer_science', 'version': '9965a5', 'metric': 'accuracy', 'mode': 'gen', 'Qwen3-8B': '90.00'}, {'dataset': 'lukaemon_mmlu_high_school_european_history', 'version': 'eefc90', 'metric': 'accuracy', 'mode': 'gen', 'Qwen3-8B': '90.00'}, {'dataset': 'lukaemon_mmlu_business_ethics', 'version': '1dec08', 'metric': 'accuracy', 'mode': 'gen', 'Qwen3-8B': '80.00'}, {'dataset': 'lukaemon_mmlu_moral_disputes', 'version': 'a2173e', 'metric': 'accuracy', 'mode': 'gen', 'Qwen3-8B': '80.00'}, {'dataset': 'lukaemon_mmlu_high_school_statistics', 'version': '-', 'metric': '-', 'mode': '-', 'Qwen3-8B': '-'}, {'dataset': 'lukaemon_mmlu_miscellaneous', 'version': '-', 'metric': '-', 'mode': '-', 'Qwen3-8B': '-'}, {'dataset': 'lukaemon_mmlu_formal_logic', 'version': '-', 'metric': '-', 'mode': '-', 'Qwen3-8B': '-'}, {'dataset': 'lukaemon_mmlu_high_school_government_and_politics', 'version': '3c52f9', 'metric': 'accuracy', 'mode': 'gen', 'Qwen3-8B': '90.00'}, {'dataset': 'lukaemon_mmlu_prehistory', 'version': 'bbb197', 'metric': 'accuracy', 'mode': 'gen', 'Qwen3-8B': '90.00'}, {'dataset': 'lukaemon_mmlu_security_studies', 'version': '9b1743', 'metric': 'accuracy', 'mode': 'gen', 'Qwen3-8B': '100.00'}, {'dataset': 'lukaemon_mmlu_high_school_biology', 'version': '37b125', 'metric': 'accuracy', 'mode': 'gen', 'Qwen3-8B': '100.00'}, {'dataset': 'lukaemon_mmlu_logical_fallacies', 'version': '-', 'metric': '-', 'mode': '-', 'Qwen3-8B': '-'}, {'dataset': 'lukaemon_mmlu_high_school_world_history', 'version': '048e7e', 'metric': 'accuracy', 'mode': 'gen', 'Qwen3-8B': '100.00'}, {'dataset': 'lukaemon_mmlu_professional_medicine', 'version': '857144', 'metric': 'accuracy', 'mode': 'gen', 'Qwen3-8B': '100.00'}, {'dataset': 'lukaemon_mmlu_high_school_mathematics', 'version': '-', 'metric': '-', 'mode': '-', 'Qwen3-8B': '-'}, {'dataset': 'lukaemon_mmlu_college_medicine', 'version': '-', 'metric': '-', 'mode': '-', 'Qwen3-8B': '-'}, {'dataset': 'lukaemon_mmlu_high_school_us_history', 'version': '8932df', 'metric': 'accuracy', 'mode': 'gen', 'Qwen3-8B': '90.00'}, {'dataset': 'lukaemon_mmlu_sociology', 'version': 'c266a2', 'metric': 'accuracy', 'mode': 'gen', 'Qwen3-8B': '80.00'}, {'dataset': 'lukaemon_mmlu_econometrics', 'version': '-', 'metric': '-', 'mode': '-', 'Qwen3-8B': '-'}, {'dataset': 'lukaemon_mmlu_high_school_psychology', 'version': '7db114', 'metric': 'accuracy', 'mode': 'gen', 'Qwen3-8B': '90.00'}, {'dataset': 'lukaemon_mmlu_human_aging', 'version': '82a410', 'metric': 'accuracy', 'mode': 'gen', 'Qwen3-8B': '80.00'}, {'dataset': 'lukaemon_mmlu_us_foreign_policy', 'version': '528cfe', 'metric': 'accuracy', 'mode': 'gen', 'Qwen3-8B': '90.00'}, {'dataset': 'lukaemon_mmlu_conceptual_physics', 'version': '-', 'metric': '-', 'mode': '-', 'Qwen3-8B': '-'}]\n"
     ]
    }
   ],
   "source": [
    "from evalscope.run import run_task\n",
    "from evalscope.summarizer import Summarizer\n",
    "\n",
    "def run_eval():\n",
    "    task_cfg = task_cfg_dict\n",
    "    run_task(task_cfg=task_cfg)\n",
    "\n",
    "    print('>> Start to get the report with summarizer ...')\n",
    "    report_list = Summarizer.get_report_from_cfg(task_cfg)\n",
    "    print(f'\\n>> The report list: {report_list}')\n",
    "\n",
    "run_eval()"
   ]
  },
  {
   "cell_type": "markdown",
   "id": "34e23262",
   "metadata": {},
   "source": []
  }
 ],
 "metadata": {
  "kernelspec": {
   "display_name": "py310",
   "language": "python",
   "name": "python3"
  },
  "language_info": {
   "codemirror_mode": {
    "name": "ipython",
    "version": 3
   },
   "file_extension": ".py",
   "mimetype": "text/x-python",
   "name": "python",
   "nbconvert_exporter": "python",
   "pygments_lexer": "ipython3",
   "version": "3.10.16"
  }
 },
 "nbformat": 4,
 "nbformat_minor": 5
}
